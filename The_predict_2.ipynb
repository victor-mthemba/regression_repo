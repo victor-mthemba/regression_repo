{
  "nbformat": 4,
  "nbformat_minor": 0,
  "metadata": {
    "kernelspec": {
      "display_name": "Python 3",
      "language": "python",
      "name": "python3"
    },
    "language_info": {
      "codemirror_mode": {
        "name": "ipython",
        "version": 3
      },
      "file_extension": ".py",
      "mimetype": "text/x-python",
      "name": "python",
      "nbconvert_exporter": "python",
      "pygments_lexer": "ipython3",
      "version": "3.7.4"
    },
    "colab": {
      "name": "The predict 2.ipynb",
      "provenance": [],
      "collapsed_sections": [
        "D4Rc0CaOajzs",
        "LjzWNEjLajzw",
        "kTZ70qx-ajz8",
        "mwX95q3Raj0A",
        "XVMw9Wfwaj0J",
        "aJ6ZjJ2caj0O",
        "KspbrHw0aj0m",
        "fmHbePHFaj0r",
        "l7rgafBwaj07"
      ],
      "include_colab_link": true
    }
  },
  "cells": [
    {
      "cell_type": "markdown",
      "metadata": {
        "id": "view-in-github",
        "colab_type": "text"
      },
      "source": [
        "<a href=\"https://colab.research.google.com/github/victor-mthemba/regression_repo/blob/master/The_predict_2.ipynb\" target=\"_parent\"><img src=\"https://colab.research.google.com/assets/colab-badge.svg\" alt=\"Open In Colab\"/></a>"
      ]
    },
    {
      "cell_type": "markdown",
      "metadata": {
        "id": "6nDJ3Oddajzr",
        "colab_type": "text"
      },
      "source": [
        "# Making a model that predicts the delivery time of packages from pick up to the final destination considering various factors."
      ]
    },
    {
      "cell_type": "markdown",
      "metadata": {
        "id": "D4Rc0CaOajzs",
        "colab_type": "text"
      },
      "source": [
        "## Importing the libraries"
      ]
    },
    {
      "cell_type": "code",
      "metadata": {
        "id": "GxLQSeNsajzt",
        "colab_type": "code",
        "colab": {}
      },
      "source": [
        "import numpy as np\n",
        "import matplotlib.pyplot as plt\n",
        "import pandas as pd"
      ],
      "execution_count": 0,
      "outputs": []
    },
    {
      "cell_type": "markdown",
      "metadata": {
        "id": "LjzWNEjLajzw",
        "colab_type": "text"
      },
      "source": [
        "## Importing the dataset"
      ]
    },
    {
      "cell_type": "code",
      "metadata": {
        "id": "IafKNHsZajzw",
        "colab_type": "code",
        "colab": {}
      },
      "source": [
        "train_df = pd.read_csv(\"Train.csv\")\n",
        "test_df = pd.read_csv(\"Test.csv\")\n",
        "riders_df = pd.read_csv(\"Riders.csv\")\n",
        "sample_df = pd.read_csv(\"SampleSubmission.csv\")"
      ],
      "execution_count": 0,
      "outputs": []
    },
    {
      "cell_type": "code",
      "metadata": {
        "id": "5WByECtMajzy",
        "colab_type": "code",
        "outputId": "8e86754f-d242-44d4-8b77-0cc5d2de7bdc",
        "colab": {
          "base_uri": "https://localhost:8080/",
          "height": 400
        }
      },
      "source": [
        "train_df.head()"
      ],
      "execution_count": 33,
      "outputs": [
        {
          "output_type": "execute_result",
          "data": {
            "text/html": [
              "<div>\n",
              "<style scoped>\n",
              "    .dataframe tbody tr th:only-of-type {\n",
              "        vertical-align: middle;\n",
              "    }\n",
              "\n",
              "    .dataframe tbody tr th {\n",
              "        vertical-align: top;\n",
              "    }\n",
              "\n",
              "    .dataframe thead th {\n",
              "        text-align: right;\n",
              "    }\n",
              "</style>\n",
              "<table border=\"1\" class=\"dataframe\">\n",
              "  <thead>\n",
              "    <tr style=\"text-align: right;\">\n",
              "      <th></th>\n",
              "      <th>Order No</th>\n",
              "      <th>User Id</th>\n",
              "      <th>Vehicle Type</th>\n",
              "      <th>Platform Type</th>\n",
              "      <th>Personal or Business</th>\n",
              "      <th>Placement - Day of Month</th>\n",
              "      <th>Placement - Weekday (Mo = 1)</th>\n",
              "      <th>Placement - Time</th>\n",
              "      <th>Confirmation - Day of Month</th>\n",
              "      <th>Confirmation - Weekday (Mo = 1)</th>\n",
              "      <th>Confirmation - Time</th>\n",
              "      <th>Arrival at Pickup - Day of Month</th>\n",
              "      <th>Arrival at Pickup - Weekday (Mo = 1)</th>\n",
              "      <th>Arrival at Pickup - Time</th>\n",
              "      <th>Pickup - Day of Month</th>\n",
              "      <th>Pickup - Weekday (Mo = 1)</th>\n",
              "      <th>Pickup - Time</th>\n",
              "      <th>Arrival at Destination - Day of Month</th>\n",
              "      <th>Arrival at Destination - Weekday (Mo = 1)</th>\n",
              "      <th>Arrival at Destination - Time</th>\n",
              "      <th>Distance (KM)</th>\n",
              "      <th>Temperature</th>\n",
              "      <th>Precipitation in millimeters</th>\n",
              "      <th>Pickup Lat</th>\n",
              "      <th>Pickup Long</th>\n",
              "      <th>Destination Lat</th>\n",
              "      <th>Destination Long</th>\n",
              "      <th>Rider Id</th>\n",
              "      <th>Time from Pickup to Arrival</th>\n",
              "    </tr>\n",
              "  </thead>\n",
              "  <tbody>\n",
              "    <tr>\n",
              "      <th>0</th>\n",
              "      <td>Order_No_4211</td>\n",
              "      <td>User_Id_633</td>\n",
              "      <td>Bike</td>\n",
              "      <td>3</td>\n",
              "      <td>Business</td>\n",
              "      <td>9</td>\n",
              "      <td>5</td>\n",
              "      <td>9:35:46 AM</td>\n",
              "      <td>9</td>\n",
              "      <td>5</td>\n",
              "      <td>9:40:10 AM</td>\n",
              "      <td>9</td>\n",
              "      <td>5</td>\n",
              "      <td>10:04:47 AM</td>\n",
              "      <td>9</td>\n",
              "      <td>5</td>\n",
              "      <td>10:27:30 AM</td>\n",
              "      <td>9</td>\n",
              "      <td>5</td>\n",
              "      <td>10:39:55 AM</td>\n",
              "      <td>4</td>\n",
              "      <td>20.4</td>\n",
              "      <td>NaN</td>\n",
              "      <td>-1.317755</td>\n",
              "      <td>36.830370</td>\n",
              "      <td>-1.300406</td>\n",
              "      <td>36.829741</td>\n",
              "      <td>Rider_Id_432</td>\n",
              "      <td>745</td>\n",
              "    </tr>\n",
              "    <tr>\n",
              "      <th>1</th>\n",
              "      <td>Order_No_25375</td>\n",
              "      <td>User_Id_2285</td>\n",
              "      <td>Bike</td>\n",
              "      <td>3</td>\n",
              "      <td>Personal</td>\n",
              "      <td>12</td>\n",
              "      <td>5</td>\n",
              "      <td>11:16:16 AM</td>\n",
              "      <td>12</td>\n",
              "      <td>5</td>\n",
              "      <td>11:23:21 AM</td>\n",
              "      <td>12</td>\n",
              "      <td>5</td>\n",
              "      <td>11:40:22 AM</td>\n",
              "      <td>12</td>\n",
              "      <td>5</td>\n",
              "      <td>11:44:09 AM</td>\n",
              "      <td>12</td>\n",
              "      <td>5</td>\n",
              "      <td>12:17:22 PM</td>\n",
              "      <td>16</td>\n",
              "      <td>26.4</td>\n",
              "      <td>NaN</td>\n",
              "      <td>-1.351453</td>\n",
              "      <td>36.899315</td>\n",
              "      <td>-1.295004</td>\n",
              "      <td>36.814358</td>\n",
              "      <td>Rider_Id_856</td>\n",
              "      <td>1993</td>\n",
              "    </tr>\n",
              "    <tr>\n",
              "      <th>2</th>\n",
              "      <td>Order_No_1899</td>\n",
              "      <td>User_Id_265</td>\n",
              "      <td>Bike</td>\n",
              "      <td>3</td>\n",
              "      <td>Business</td>\n",
              "      <td>30</td>\n",
              "      <td>2</td>\n",
              "      <td>12:39:25 PM</td>\n",
              "      <td>30</td>\n",
              "      <td>2</td>\n",
              "      <td>12:42:44 PM</td>\n",
              "      <td>30</td>\n",
              "      <td>2</td>\n",
              "      <td>12:49:34 PM</td>\n",
              "      <td>30</td>\n",
              "      <td>2</td>\n",
              "      <td>12:53:03 PM</td>\n",
              "      <td>30</td>\n",
              "      <td>2</td>\n",
              "      <td>1:00:38 PM</td>\n",
              "      <td>3</td>\n",
              "      <td>NaN</td>\n",
              "      <td>NaN</td>\n",
              "      <td>-1.308284</td>\n",
              "      <td>36.843419</td>\n",
              "      <td>-1.300921</td>\n",
              "      <td>36.828195</td>\n",
              "      <td>Rider_Id_155</td>\n",
              "      <td>455</td>\n",
              "    </tr>\n",
              "    <tr>\n",
              "      <th>3</th>\n",
              "      <td>Order_No_9336</td>\n",
              "      <td>User_Id_1402</td>\n",
              "      <td>Bike</td>\n",
              "      <td>3</td>\n",
              "      <td>Business</td>\n",
              "      <td>15</td>\n",
              "      <td>5</td>\n",
              "      <td>9:25:34 AM</td>\n",
              "      <td>15</td>\n",
              "      <td>5</td>\n",
              "      <td>9:26:05 AM</td>\n",
              "      <td>15</td>\n",
              "      <td>5</td>\n",
              "      <td>9:37:56 AM</td>\n",
              "      <td>15</td>\n",
              "      <td>5</td>\n",
              "      <td>9:43:06 AM</td>\n",
              "      <td>15</td>\n",
              "      <td>5</td>\n",
              "      <td>10:05:27 AM</td>\n",
              "      <td>9</td>\n",
              "      <td>19.2</td>\n",
              "      <td>NaN</td>\n",
              "      <td>-1.281301</td>\n",
              "      <td>36.832396</td>\n",
              "      <td>-1.257147</td>\n",
              "      <td>36.795063</td>\n",
              "      <td>Rider_Id_855</td>\n",
              "      <td>1341</td>\n",
              "    </tr>\n",
              "    <tr>\n",
              "      <th>4</th>\n",
              "      <td>Order_No_27883</td>\n",
              "      <td>User_Id_1737</td>\n",
              "      <td>Bike</td>\n",
              "      <td>1</td>\n",
              "      <td>Personal</td>\n",
              "      <td>13</td>\n",
              "      <td>1</td>\n",
              "      <td>9:55:18 AM</td>\n",
              "      <td>13</td>\n",
              "      <td>1</td>\n",
              "      <td>9:56:18 AM</td>\n",
              "      <td>13</td>\n",
              "      <td>1</td>\n",
              "      <td>10:03:53 AM</td>\n",
              "      <td>13</td>\n",
              "      <td>1</td>\n",
              "      <td>10:05:23 AM</td>\n",
              "      <td>13</td>\n",
              "      <td>1</td>\n",
              "      <td>10:25:37 AM</td>\n",
              "      <td>9</td>\n",
              "      <td>15.4</td>\n",
              "      <td>NaN</td>\n",
              "      <td>-1.266597</td>\n",
              "      <td>36.792118</td>\n",
              "      <td>-1.295041</td>\n",
              "      <td>36.809817</td>\n",
              "      <td>Rider_Id_770</td>\n",
              "      <td>1214</td>\n",
              "    </tr>\n",
              "  </tbody>\n",
              "</table>\n",
              "</div>"
            ],
            "text/plain": [
              "         Order No       User Id  ...      Rider Id  Time from Pickup to Arrival\n",
              "0   Order_No_4211   User_Id_633  ...  Rider_Id_432                          745\n",
              "1  Order_No_25375  User_Id_2285  ...  Rider_Id_856                         1993\n",
              "2   Order_No_1899   User_Id_265  ...  Rider_Id_155                          455\n",
              "3   Order_No_9336  User_Id_1402  ...  Rider_Id_855                         1341\n",
              "4  Order_No_27883  User_Id_1737  ...  Rider_Id_770                         1214\n",
              "\n",
              "[5 rows x 29 columns]"
            ]
          },
          "metadata": {
            "tags": []
          },
          "execution_count": 33
        }
      ]
    },
    {
      "cell_type": "code",
      "metadata": {
        "id": "gr_U31b3ajz1",
        "colab_type": "code",
        "outputId": "90c7ac7d-ddac-4314-9244-76b29007049e",
        "colab": {
          "base_uri": "https://localhost:8080/",
          "height": 400
        }
      },
      "source": [
        "test_df.head()"
      ],
      "execution_count": 34,
      "outputs": [
        {
          "output_type": "execute_result",
          "data": {
            "text/html": [
              "<div>\n",
              "<style scoped>\n",
              "    .dataframe tbody tr th:only-of-type {\n",
              "        vertical-align: middle;\n",
              "    }\n",
              "\n",
              "    .dataframe tbody tr th {\n",
              "        vertical-align: top;\n",
              "    }\n",
              "\n",
              "    .dataframe thead th {\n",
              "        text-align: right;\n",
              "    }\n",
              "</style>\n",
              "<table border=\"1\" class=\"dataframe\">\n",
              "  <thead>\n",
              "    <tr style=\"text-align: right;\">\n",
              "      <th></th>\n",
              "      <th>Order No</th>\n",
              "      <th>User Id</th>\n",
              "      <th>Vehicle Type</th>\n",
              "      <th>Platform Type</th>\n",
              "      <th>Personal or Business</th>\n",
              "      <th>Placement - Day of Month</th>\n",
              "      <th>Placement - Weekday (Mo = 1)</th>\n",
              "      <th>Placement - Time</th>\n",
              "      <th>Confirmation - Day of Month</th>\n",
              "      <th>Confirmation - Weekday (Mo = 1)</th>\n",
              "      <th>Confirmation - Time</th>\n",
              "      <th>Arrival at Pickup - Day of Month</th>\n",
              "      <th>Arrival at Pickup - Weekday (Mo = 1)</th>\n",
              "      <th>Arrival at Pickup - Time</th>\n",
              "      <th>Pickup - Day of Month</th>\n",
              "      <th>Pickup - Weekday (Mo = 1)</th>\n",
              "      <th>Pickup - Time</th>\n",
              "      <th>Distance (KM)</th>\n",
              "      <th>Temperature</th>\n",
              "      <th>Precipitation in millimeters</th>\n",
              "      <th>Pickup Lat</th>\n",
              "      <th>Pickup Long</th>\n",
              "      <th>Destination Lat</th>\n",
              "      <th>Destination Long</th>\n",
              "      <th>Rider Id</th>\n",
              "    </tr>\n",
              "  </thead>\n",
              "  <tbody>\n",
              "    <tr>\n",
              "      <th>0</th>\n",
              "      <td>Order_No_19248</td>\n",
              "      <td>User_Id_3355</td>\n",
              "      <td>Bike</td>\n",
              "      <td>3</td>\n",
              "      <td>Business</td>\n",
              "      <td>27</td>\n",
              "      <td>3</td>\n",
              "      <td>4:44:10 PM</td>\n",
              "      <td>27</td>\n",
              "      <td>3</td>\n",
              "      <td>4:44:29 PM</td>\n",
              "      <td>27</td>\n",
              "      <td>3</td>\n",
              "      <td>4:53:04 PM</td>\n",
              "      <td>27</td>\n",
              "      <td>3</td>\n",
              "      <td>5:06:47 PM</td>\n",
              "      <td>8</td>\n",
              "      <td>NaN</td>\n",
              "      <td>NaN</td>\n",
              "      <td>-1.333275</td>\n",
              "      <td>36.870815</td>\n",
              "      <td>-1.305249</td>\n",
              "      <td>36.822390</td>\n",
              "      <td>Rider_Id_192</td>\n",
              "    </tr>\n",
              "    <tr>\n",
              "      <th>1</th>\n",
              "      <td>Order_No_12736</td>\n",
              "      <td>User_Id_3647</td>\n",
              "      <td>Bike</td>\n",
              "      <td>3</td>\n",
              "      <td>Business</td>\n",
              "      <td>17</td>\n",
              "      <td>5</td>\n",
              "      <td>12:57:35 PM</td>\n",
              "      <td>17</td>\n",
              "      <td>5</td>\n",
              "      <td>12:59:17 PM</td>\n",
              "      <td>17</td>\n",
              "      <td>5</td>\n",
              "      <td>1:20:27 PM</td>\n",
              "      <td>17</td>\n",
              "      <td>5</td>\n",
              "      <td>1:25:37 PM</td>\n",
              "      <td>5</td>\n",
              "      <td>NaN</td>\n",
              "      <td>NaN</td>\n",
              "      <td>-1.272639</td>\n",
              "      <td>36.794723</td>\n",
              "      <td>-1.277007</td>\n",
              "      <td>36.823907</td>\n",
              "      <td>Rider_Id_868</td>\n",
              "    </tr>\n",
              "    <tr>\n",
              "      <th>2</th>\n",
              "      <td>Order_No_768</td>\n",
              "      <td>User_Id_2154</td>\n",
              "      <td>Bike</td>\n",
              "      <td>3</td>\n",
              "      <td>Business</td>\n",
              "      <td>27</td>\n",
              "      <td>4</td>\n",
              "      <td>11:08:14 AM</td>\n",
              "      <td>27</td>\n",
              "      <td>4</td>\n",
              "      <td>11:25:05 AM</td>\n",
              "      <td>27</td>\n",
              "      <td>4</td>\n",
              "      <td>11:33:20 AM</td>\n",
              "      <td>27</td>\n",
              "      <td>4</td>\n",
              "      <td>11:57:54 AM</td>\n",
              "      <td>5</td>\n",
              "      <td>22.8</td>\n",
              "      <td>NaN</td>\n",
              "      <td>-1.290894</td>\n",
              "      <td>36.822971</td>\n",
              "      <td>-1.276574</td>\n",
              "      <td>36.851365</td>\n",
              "      <td>Rider_Id_26</td>\n",
              "    </tr>\n",
              "    <tr>\n",
              "      <th>3</th>\n",
              "      <td>Order_No_15332</td>\n",
              "      <td>User_Id_2910</td>\n",
              "      <td>Bike</td>\n",
              "      <td>3</td>\n",
              "      <td>Business</td>\n",
              "      <td>17</td>\n",
              "      <td>1</td>\n",
              "      <td>1:51:35 PM</td>\n",
              "      <td>17</td>\n",
              "      <td>1</td>\n",
              "      <td>1:53:27 PM</td>\n",
              "      <td>17</td>\n",
              "      <td>1</td>\n",
              "      <td>2:02:41 PM</td>\n",
              "      <td>17</td>\n",
              "      <td>1</td>\n",
              "      <td>2:16:52 PM</td>\n",
              "      <td>5</td>\n",
              "      <td>24.5</td>\n",
              "      <td>NaN</td>\n",
              "      <td>-1.290503</td>\n",
              "      <td>36.809646</td>\n",
              "      <td>-1.303382</td>\n",
              "      <td>36.790658</td>\n",
              "      <td>Rider_Id_685</td>\n",
              "    </tr>\n",
              "    <tr>\n",
              "      <th>4</th>\n",
              "      <td>Order_No_21373</td>\n",
              "      <td>User_Id_1205</td>\n",
              "      <td>Bike</td>\n",
              "      <td>3</td>\n",
              "      <td>Business</td>\n",
              "      <td>11</td>\n",
              "      <td>2</td>\n",
              "      <td>11:30:28 AM</td>\n",
              "      <td>11</td>\n",
              "      <td>2</td>\n",
              "      <td>11:34:45 AM</td>\n",
              "      <td>11</td>\n",
              "      <td>2</td>\n",
              "      <td>11:47:19 AM</td>\n",
              "      <td>11</td>\n",
              "      <td>2</td>\n",
              "      <td>11:56:04 AM</td>\n",
              "      <td>6</td>\n",
              "      <td>24.4</td>\n",
              "      <td>NaN</td>\n",
              "      <td>-1.281081</td>\n",
              "      <td>36.814423</td>\n",
              "      <td>-1.266467</td>\n",
              "      <td>36.792161</td>\n",
              "      <td>Rider_Id_858</td>\n",
              "    </tr>\n",
              "  </tbody>\n",
              "</table>\n",
              "</div>"
            ],
            "text/plain": [
              "         Order No       User Id  ... Destination Long      Rider Id\n",
              "0  Order_No_19248  User_Id_3355  ...        36.822390  Rider_Id_192\n",
              "1  Order_No_12736  User_Id_3647  ...        36.823907  Rider_Id_868\n",
              "2    Order_No_768  User_Id_2154  ...        36.851365   Rider_Id_26\n",
              "3  Order_No_15332  User_Id_2910  ...        36.790658  Rider_Id_685\n",
              "4  Order_No_21373  User_Id_1205  ...        36.792161  Rider_Id_858\n",
              "\n",
              "[5 rows x 25 columns]"
            ]
          },
          "metadata": {
            "tags": []
          },
          "execution_count": 34
        }
      ]
    },
    {
      "cell_type": "code",
      "metadata": {
        "id": "7U_kygQYajz3",
        "colab_type": "code",
        "outputId": "7e71d37b-b55a-4b59-da65-e26a7f04125e",
        "colab": {
          "base_uri": "https://localhost:8080/",
          "height": 195
        }
      },
      "source": [
        "riders_df.head()"
      ],
      "execution_count": 35,
      "outputs": [
        {
          "output_type": "execute_result",
          "data": {
            "text/html": [
              "<div>\n",
              "<style scoped>\n",
              "    .dataframe tbody tr th:only-of-type {\n",
              "        vertical-align: middle;\n",
              "    }\n",
              "\n",
              "    .dataframe tbody tr th {\n",
              "        vertical-align: top;\n",
              "    }\n",
              "\n",
              "    .dataframe thead th {\n",
              "        text-align: right;\n",
              "    }\n",
              "</style>\n",
              "<table border=\"1\" class=\"dataframe\">\n",
              "  <thead>\n",
              "    <tr style=\"text-align: right;\">\n",
              "      <th></th>\n",
              "      <th>Rider Id</th>\n",
              "      <th>No_Of_Orders</th>\n",
              "      <th>Age</th>\n",
              "      <th>Average_Rating</th>\n",
              "      <th>No_of_Ratings</th>\n",
              "    </tr>\n",
              "  </thead>\n",
              "  <tbody>\n",
              "    <tr>\n",
              "      <th>0</th>\n",
              "      <td>Rider_Id_396</td>\n",
              "      <td>2946</td>\n",
              "      <td>2298</td>\n",
              "      <td>14.0</td>\n",
              "      <td>1159</td>\n",
              "    </tr>\n",
              "    <tr>\n",
              "      <th>1</th>\n",
              "      <td>Rider_Id_479</td>\n",
              "      <td>360</td>\n",
              "      <td>951</td>\n",
              "      <td>13.5</td>\n",
              "      <td>176</td>\n",
              "    </tr>\n",
              "    <tr>\n",
              "      <th>2</th>\n",
              "      <td>Rider_Id_648</td>\n",
              "      <td>1746</td>\n",
              "      <td>821</td>\n",
              "      <td>14.3</td>\n",
              "      <td>466</td>\n",
              "    </tr>\n",
              "    <tr>\n",
              "      <th>3</th>\n",
              "      <td>Rider_Id_753</td>\n",
              "      <td>314</td>\n",
              "      <td>980</td>\n",
              "      <td>12.5</td>\n",
              "      <td>75</td>\n",
              "    </tr>\n",
              "    <tr>\n",
              "      <th>4</th>\n",
              "      <td>Rider_Id_335</td>\n",
              "      <td>536</td>\n",
              "      <td>1113</td>\n",
              "      <td>13.7</td>\n",
              "      <td>156</td>\n",
              "    </tr>\n",
              "  </tbody>\n",
              "</table>\n",
              "</div>"
            ],
            "text/plain": [
              "       Rider Id  No_Of_Orders   Age  Average_Rating  No_of_Ratings\n",
              "0  Rider_Id_396          2946  2298            14.0           1159\n",
              "1  Rider_Id_479           360   951            13.5            176\n",
              "2  Rider_Id_648          1746   821            14.3            466\n",
              "3  Rider_Id_753           314   980            12.5             75\n",
              "4  Rider_Id_335           536  1113            13.7            156"
            ]
          },
          "metadata": {
            "tags": []
          },
          "execution_count": 35
        }
      ]
    },
    {
      "cell_type": "code",
      "metadata": {
        "id": "ngxju_Qmajz6",
        "colab_type": "code",
        "outputId": "7c6460db-e006-486e-c802-c44fff512e58",
        "colab": {
          "base_uri": "https://localhost:8080/",
          "height": 195
        }
      },
      "source": [
        "sample_df.head()"
      ],
      "execution_count": 36,
      "outputs": [
        {
          "output_type": "execute_result",
          "data": {
            "text/html": [
              "<div>\n",
              "<style scoped>\n",
              "    .dataframe tbody tr th:only-of-type {\n",
              "        vertical-align: middle;\n",
              "    }\n",
              "\n",
              "    .dataframe tbody tr th {\n",
              "        vertical-align: top;\n",
              "    }\n",
              "\n",
              "    .dataframe thead th {\n",
              "        text-align: right;\n",
              "    }\n",
              "</style>\n",
              "<table border=\"1\" class=\"dataframe\">\n",
              "  <thead>\n",
              "    <tr style=\"text-align: right;\">\n",
              "      <th></th>\n",
              "      <th>Order_No</th>\n",
              "      <th>Time from Pickup to Arrival</th>\n",
              "    </tr>\n",
              "  </thead>\n",
              "  <tbody>\n",
              "    <tr>\n",
              "      <th>0</th>\n",
              "      <td>Order_No_19248</td>\n",
              "      <td>567.0</td>\n",
              "    </tr>\n",
              "    <tr>\n",
              "      <th>1</th>\n",
              "      <td>Order_No_12736</td>\n",
              "      <td>4903.0</td>\n",
              "    </tr>\n",
              "    <tr>\n",
              "      <th>2</th>\n",
              "      <td>Order_No_768</td>\n",
              "      <td>5649.0</td>\n",
              "    </tr>\n",
              "    <tr>\n",
              "      <th>3</th>\n",
              "      <td>Order_No_15332</td>\n",
              "      <td>NaN</td>\n",
              "    </tr>\n",
              "    <tr>\n",
              "      <th>4</th>\n",
              "      <td>Order_No_21373</td>\n",
              "      <td>NaN</td>\n",
              "    </tr>\n",
              "  </tbody>\n",
              "</table>\n",
              "</div>"
            ],
            "text/plain": [
              "         Order_No  Time from Pickup to Arrival\n",
              "0  Order_No_19248                        567.0\n",
              "1  Order_No_12736                       4903.0\n",
              "2    Order_No_768                       5649.0\n",
              "3  Order_No_15332                          NaN\n",
              "4  Order_No_21373                          NaN"
            ]
          },
          "metadata": {
            "tags": []
          },
          "execution_count": 36
        }
      ]
    },
    {
      "cell_type": "markdown",
      "metadata": {
        "id": "kTZ70qx-ajz8",
        "colab_type": "text"
      },
      "source": [
        "## Merging Tables"
      ]
    },
    {
      "cell_type": "code",
      "metadata": {
        "id": "pvdoSjkZajz9",
        "colab_type": "code",
        "colab": {}
      },
      "source": [
        "df_train = pd.merge(train_df, riders_df,on = 'Rider Id', how= 'inner')"
      ],
      "execution_count": 0,
      "outputs": []
    },
    {
      "cell_type": "code",
      "metadata": {
        "id": "xo2DwiXkajz_",
        "colab_type": "code",
        "colab": {}
      },
      "source": [
        "df_test =  pd.merge(train_df, riders_df,on = 'Rider Id', how= 'inner')"
      ],
      "execution_count": 0,
      "outputs": []
    },
    {
      "cell_type": "markdown",
      "metadata": {
        "id": "mwX95q3Raj0A",
        "colab_type": "text"
      },
      "source": [
        "## Remove unnecessary columns"
      ]
    },
    {
      "cell_type": "code",
      "metadata": {
        "id": "-tv_8fRXaj0B",
        "colab_type": "code",
        "colab": {}
      },
      "source": [
        "remove_list_train = ['Order No', 'User Id', 'Platform Type', 'Arrival at Destination - Day of Month','Placement - Weekday (Mo = 1)','Confirmation - Weekday (Mo = 1)','Arrival at Pickup - Weekday (Mo = 1)',\n",
        "                          'Pickup - Weekday (Mo = 1)','Arrival at Destination - Weekday (Mo = 1)','Vehicle Type', 'Temperature', 'Precipitation in millimeters' \n",
        "                                ]\n",
        "remove_list_test = ['Order No', 'User Id', 'Platform Type', 'Arrival at Destination - Day of Month','Placement - Weekday (Mo = 1)','Confirmation - Weekday (Mo = 1)','Arrival at Pickup - Weekday (Mo = 1)',\n",
        "                          'Pickup - Weekday (Mo = 1)','Arrival at Destination - Weekday (Mo = 1)','Vehicle Type', 'Temperature', 'Precipitation in millimeters' \n",
        "                                ]"
      ],
      "execution_count": 0,
      "outputs": []
    },
    {
      "cell_type": "code",
      "metadata": {
        "id": "8ayl0ksVaj0C",
        "colab_type": "code",
        "colab": {}
      },
      "source": [
        "df_train = df_train.drop(remove_list_train, axis = 1)"
      ],
      "execution_count": 0,
      "outputs": []
    },
    {
      "cell_type": "code",
      "metadata": {
        "id": "Vzv3ieE4aj0E",
        "colab_type": "code",
        "outputId": "1e550584-594c-4d5a-f63c-34d4bed3582b",
        "colab": {
          "base_uri": "https://localhost:8080/",
          "height": 383
        }
      },
      "source": [
        "df_train.head()"
      ],
      "execution_count": 41,
      "outputs": [
        {
          "output_type": "execute_result",
          "data": {
            "text/html": [
              "<div>\n",
              "<style scoped>\n",
              "    .dataframe tbody tr th:only-of-type {\n",
              "        vertical-align: middle;\n",
              "    }\n",
              "\n",
              "    .dataframe tbody tr th {\n",
              "        vertical-align: top;\n",
              "    }\n",
              "\n",
              "    .dataframe thead th {\n",
              "        text-align: right;\n",
              "    }\n",
              "</style>\n",
              "<table border=\"1\" class=\"dataframe\">\n",
              "  <thead>\n",
              "    <tr style=\"text-align: right;\">\n",
              "      <th></th>\n",
              "      <th>Personal or Business</th>\n",
              "      <th>Placement - Day of Month</th>\n",
              "      <th>Placement - Time</th>\n",
              "      <th>Confirmation - Day of Month</th>\n",
              "      <th>Confirmation - Time</th>\n",
              "      <th>Arrival at Pickup - Day of Month</th>\n",
              "      <th>Arrival at Pickup - Time</th>\n",
              "      <th>Pickup - Day of Month</th>\n",
              "      <th>Pickup - Time</th>\n",
              "      <th>Arrival at Destination - Time</th>\n",
              "      <th>Distance (KM)</th>\n",
              "      <th>Pickup Lat</th>\n",
              "      <th>Pickup Long</th>\n",
              "      <th>Destination Lat</th>\n",
              "      <th>Destination Long</th>\n",
              "      <th>Rider Id</th>\n",
              "      <th>Time from Pickup to Arrival</th>\n",
              "      <th>No_Of_Orders</th>\n",
              "      <th>Age</th>\n",
              "      <th>Average_Rating</th>\n",
              "      <th>No_of_Ratings</th>\n",
              "    </tr>\n",
              "  </thead>\n",
              "  <tbody>\n",
              "    <tr>\n",
              "      <th>0</th>\n",
              "      <td>Business</td>\n",
              "      <td>9</td>\n",
              "      <td>9:35:46 AM</td>\n",
              "      <td>9</td>\n",
              "      <td>9:40:10 AM</td>\n",
              "      <td>9</td>\n",
              "      <td>10:04:47 AM</td>\n",
              "      <td>9</td>\n",
              "      <td>10:27:30 AM</td>\n",
              "      <td>10:39:55 AM</td>\n",
              "      <td>4</td>\n",
              "      <td>-1.317755</td>\n",
              "      <td>36.830370</td>\n",
              "      <td>-1.300406</td>\n",
              "      <td>36.829741</td>\n",
              "      <td>Rider_Id_432</td>\n",
              "      <td>745</td>\n",
              "      <td>1637</td>\n",
              "      <td>1309</td>\n",
              "      <td>13.8</td>\n",
              "      <td>549</td>\n",
              "    </tr>\n",
              "    <tr>\n",
              "      <th>1</th>\n",
              "      <td>Personal</td>\n",
              "      <td>18</td>\n",
              "      <td>3:41:17 PM</td>\n",
              "      <td>18</td>\n",
              "      <td>3:41:30 PM</td>\n",
              "      <td>18</td>\n",
              "      <td>4:07:16 PM</td>\n",
              "      <td>18</td>\n",
              "      <td>4:13:37 PM</td>\n",
              "      <td>5:01:43 PM</td>\n",
              "      <td>20</td>\n",
              "      <td>-1.326774</td>\n",
              "      <td>36.787807</td>\n",
              "      <td>-1.356237</td>\n",
              "      <td>36.904295</td>\n",
              "      <td>Rider_Id_432</td>\n",
              "      <td>2886</td>\n",
              "      <td>1637</td>\n",
              "      <td>1309</td>\n",
              "      <td>13.8</td>\n",
              "      <td>549</td>\n",
              "    </tr>\n",
              "    <tr>\n",
              "      <th>2</th>\n",
              "      <td>Business</td>\n",
              "      <td>31</td>\n",
              "      <td>12:51:41 PM</td>\n",
              "      <td>31</td>\n",
              "      <td>1:12:49 PM</td>\n",
              "      <td>31</td>\n",
              "      <td>1:20:02 PM</td>\n",
              "      <td>31</td>\n",
              "      <td>1:33:08 PM</td>\n",
              "      <td>2:16:43 PM</td>\n",
              "      <td>6</td>\n",
              "      <td>-1.255189</td>\n",
              "      <td>36.782203</td>\n",
              "      <td>-1.273412</td>\n",
              "      <td>36.818206</td>\n",
              "      <td>Rider_Id_432</td>\n",
              "      <td>2615</td>\n",
              "      <td>1637</td>\n",
              "      <td>1309</td>\n",
              "      <td>13.8</td>\n",
              "      <td>549</td>\n",
              "    </tr>\n",
              "    <tr>\n",
              "      <th>3</th>\n",
              "      <td>Personal</td>\n",
              "      <td>2</td>\n",
              "      <td>7:12:10 AM</td>\n",
              "      <td>2</td>\n",
              "      <td>7:12:29 AM</td>\n",
              "      <td>2</td>\n",
              "      <td>7:35:24 AM</td>\n",
              "      <td>2</td>\n",
              "      <td>7:38:46 AM</td>\n",
              "      <td>8:28:32 AM</td>\n",
              "      <td>18</td>\n",
              "      <td>-1.290315</td>\n",
              "      <td>36.757377</td>\n",
              "      <td>-1.223520</td>\n",
              "      <td>36.802061</td>\n",
              "      <td>Rider_Id_432</td>\n",
              "      <td>2986</td>\n",
              "      <td>1637</td>\n",
              "      <td>1309</td>\n",
              "      <td>13.8</td>\n",
              "      <td>549</td>\n",
              "    </tr>\n",
              "    <tr>\n",
              "      <th>4</th>\n",
              "      <td>Personal</td>\n",
              "      <td>22</td>\n",
              "      <td>10:40:58 AM</td>\n",
              "      <td>22</td>\n",
              "      <td>10:42:24 AM</td>\n",
              "      <td>22</td>\n",
              "      <td>10:56:00 AM</td>\n",
              "      <td>22</td>\n",
              "      <td>10:59:40 AM</td>\n",
              "      <td>11:26:22 AM</td>\n",
              "      <td>7</td>\n",
              "      <td>-1.273524</td>\n",
              "      <td>36.799220</td>\n",
              "      <td>-1.300431</td>\n",
              "      <td>36.752427</td>\n",
              "      <td>Rider_Id_432</td>\n",
              "      <td>1602</td>\n",
              "      <td>1637</td>\n",
              "      <td>1309</td>\n",
              "      <td>13.8</td>\n",
              "      <td>549</td>\n",
              "    </tr>\n",
              "  </tbody>\n",
              "</table>\n",
              "</div>"
            ],
            "text/plain": [
              "  Personal or Business  Placement - Day of Month  ... Average_Rating  No_of_Ratings\n",
              "0             Business                         9  ...           13.8            549\n",
              "1             Personal                        18  ...           13.8            549\n",
              "2             Business                        31  ...           13.8            549\n",
              "3             Personal                         2  ...           13.8            549\n",
              "4             Personal                        22  ...           13.8            549\n",
              "\n",
              "[5 rows x 21 columns]"
            ]
          },
          "metadata": {
            "tags": []
          },
          "execution_count": 41
        }
      ]
    },
    {
      "cell_type": "code",
      "metadata": {
        "id": "llENESsxaj0G",
        "colab_type": "code",
        "colab": {}
      },
      "source": [
        "df_test = df_test.drop(remove_list_test, axis = 1)"
      ],
      "execution_count": 0,
      "outputs": []
    },
    {
      "cell_type": "code",
      "metadata": {
        "id": "zf8GeZmdaj0I",
        "colab_type": "code",
        "outputId": "5e0ae579-8229-40e4-fa06-040d237bef6a",
        "colab": {
          "base_uri": "https://localhost:8080/",
          "height": 34
        }
      },
      "source": [
        "df_test.shape"
      ],
      "execution_count": 43,
      "outputs": [
        {
          "output_type": "execute_result",
          "data": {
            "text/plain": [
              "(21201, 21)"
            ]
          },
          "metadata": {
            "tags": []
          },
          "execution_count": 43
        }
      ]
    },
    {
      "cell_type": "markdown",
      "metadata": {
        "id": "XVMw9Wfwaj0J",
        "colab_type": "text"
      },
      "source": [
        "## Create dummy variables for Personal and Business"
      ]
    },
    {
      "cell_type": "code",
      "metadata": {
        "id": "yNyXw1KTaj0K",
        "colab_type": "code",
        "colab": {}
      },
      "source": [
        "def create_dummy(df, column):\n",
        "    return pd.get_dummies(df, columns = [column], drop_first = True)"
      ],
      "execution_count": 0,
      "outputs": []
    },
    {
      "cell_type": "code",
      "metadata": {
        "id": "3A598GYGaj0L",
        "colab_type": "code",
        "colab": {}
      },
      "source": [
        "df_train = create_dummy(df_train, 'Personal or Business')"
      ],
      "execution_count": 0,
      "outputs": []
    },
    {
      "cell_type": "code",
      "metadata": {
        "id": "cWUfpYBYaj0N",
        "colab_type": "code",
        "colab": {}
      },
      "source": [
        "df_test = create_dummy(df_test, 'Personal or Business')"
      ],
      "execution_count": 0,
      "outputs": []
    },
    {
      "cell_type": "markdown",
      "metadata": {
        "id": "aJ6ZjJ2caj0O",
        "colab_type": "text"
      },
      "source": [
        "## Handle Time"
      ]
    },
    {
      "cell_type": "code",
      "metadata": {
        "id": "Lss24nVqaj0P",
        "colab_type": "code",
        "colab": {}
      },
      "source": [
        "train_time_columns = ['Placement - Time', 'Confirmation - Time', 'Arrival at Pickup - Time','Pickup - Time', 'Arrival at Destination - Time']\n",
        "for time in train_time_columns:\n",
        "    df_train[time] = pd.to_datetime(df_train[time])"
      ],
      "execution_count": 0,
      "outputs": []
    },
    {
      "cell_type": "code",
      "metadata": {
        "id": "0j-PYrsJaj0R",
        "colab_type": "code",
        "colab": {}
      },
      "source": [
        "df_train['Time - Placement to Confirmation'] = (df_train['Confirmation - Time'] - df_train['Placement - Time']).dt.total_seconds()"
      ],
      "execution_count": 0,
      "outputs": []
    },
    {
      "cell_type": "code",
      "metadata": {
        "id": "9hmffh0Xaj0S",
        "colab_type": "code",
        "colab": {}
      },
      "source": [
        "df_train['Time - Confirmation to Arrival at Pickup'] = (df_train['Arrival at Destination - Time'] - df_train['Confirmation - Time']).dt.total_seconds()"
      ],
      "execution_count": 0,
      "outputs": []
    },
    {
      "cell_type": "code",
      "metadata": {
        "id": "TThsMgifaj0U",
        "colab_type": "code",
        "colab": {}
      },
      "source": [
        "df_train['Time - Arrival at Pickup to Pickup'] = (df_train['Pickup - Time'] - df_train['Arrival at Pickup - Time']).dt.total_seconds()"
      ],
      "execution_count": 0,
      "outputs": []
    },
    {
      "cell_type": "code",
      "metadata": {
        "id": "g8TF_h2Laj0W",
        "colab_type": "code",
        "colab": {}
      },
      "source": [
        "df_train['Speed_Meter_per_Second'] = (df_train['Distance (KM)']*1000)/df_train['Time from Pickup to Arrival'] "
      ],
      "execution_count": 0,
      "outputs": []
    },
    {
      "cell_type": "code",
      "metadata": {
        "id": "jW7IQb-iaj0X",
        "colab_type": "code",
        "colab": {}
      },
      "source": [
        "test_time_columns = ['Placement - Time', 'Confirmation - Time', 'Arrival at Pickup - Time','Pickup - Time', 'Arrival at Destination - Time']\n",
        "for time in test_time_columns:\n",
        "    df_test[time] = pd.to_datetime(df_test[time])"
      ],
      "execution_count": 0,
      "outputs": []
    },
    {
      "cell_type": "code",
      "metadata": {
        "id": "RK0tEkqwaj0Z",
        "colab_type": "code",
        "colab": {}
      },
      "source": [
        "df_test['Time - Placement to Confirmation'] = (df_test['Confirmation - Time'] - df_test['Placement - Time']).dt.total_seconds()"
      ],
      "execution_count": 0,
      "outputs": []
    },
    {
      "cell_type": "code",
      "metadata": {
        "id": "Ed8vFQa3aj0a",
        "colab_type": "code",
        "colab": {}
      },
      "source": [
        "df_test['Time - Confirmation to Arrival at Pickup'] = (df_test['Arrival at Destination - Time'] - df_test['Confirmation - Time']).dt.total_seconds()"
      ],
      "execution_count": 0,
      "outputs": []
    },
    {
      "cell_type": "code",
      "metadata": {
        "id": "JSVqGuHoaj0c",
        "colab_type": "code",
        "colab": {}
      },
      "source": [
        "df_test['Time - Arrival at Pickup to Pickup'] = (df_test['Pickup - Time'] - df_test['Arrival at Pickup - Time']).dt.total_seconds()"
      ],
      "execution_count": 0,
      "outputs": []
    },
    {
      "cell_type": "code",
      "metadata": {
        "id": "fqsc2aaLaj0e",
        "colab_type": "code",
        "colab": {}
      },
      "source": [
        "df_test['Speed_Meter_per_Second'] = (df_test['Distance (KM)']*1000)/df_test['Time from Pickup to Arrival'] "
      ],
      "execution_count": 0,
      "outputs": []
    },
    {
      "cell_type": "code",
      "metadata": {
        "id": "JTLSni_Gaj0g",
        "colab_type": "code",
        "colab": {}
      },
      "source": [
        "remove_list_train2 = ['Placement - Time', 'Confirmation - Time', \n",
        "                                'Arrival at Pickup - Time', 'Pickup - Time', \n",
        "                                'Arrival at Destination - Time']\n",
        "remove_list_test2 = ['Placement - Time', 'Confirmation - Time', \n",
        "                                'Arrival at Pickup - Time', 'Pickup - Time', \n",
        "                                'Arrival at Destination - Time']"
      ],
      "execution_count": 0,
      "outputs": []
    },
    {
      "cell_type": "code",
      "metadata": {
        "id": "p3WrYCZ_aj0i",
        "colab_type": "code",
        "colab": {}
      },
      "source": [
        "df_train = df_train.drop(remove_list_train2, axis = 1)"
      ],
      "execution_count": 0,
      "outputs": []
    },
    {
      "cell_type": "code",
      "metadata": {
        "id": "hyA98xKFaj0k",
        "colab_type": "code",
        "colab": {}
      },
      "source": [
        "df_test = df_test.drop(remove_list_test2, axis = 1)"
      ],
      "execution_count": 0,
      "outputs": []
    },
    {
      "cell_type": "markdown",
      "metadata": {
        "id": "KspbrHw0aj0m",
        "colab_type": "text"
      },
      "source": [
        "## Handling the Rider ID"
      ]
    },
    {
      "cell_type": "code",
      "metadata": {
        "id": "CcDEp6NIaj0n",
        "colab_type": "code",
        "colab": {}
      },
      "source": [
        "def get_id(df):\n",
        "    df['Rider Id'] = df['Rider Id'].str.extract(r\"([0-9]+)\").astype(int)\n",
        "    return df"
      ],
      "execution_count": 0,
      "outputs": []
    },
    {
      "cell_type": "code",
      "metadata": {
        "id": "FiqIO4u3aj0o",
        "colab_type": "code",
        "outputId": "18abc716-56d0-400c-b862-5df5d4c7e898",
        "colab": {
          "base_uri": "https://localhost:8080/",
          "height": 506
        }
      },
      "source": [
        "get_id(df_train)"
      ],
      "execution_count": 61,
      "outputs": [
        {
          "output_type": "execute_result",
          "data": {
            "text/html": [
              "<div>\n",
              "<style scoped>\n",
              "    .dataframe tbody tr th:only-of-type {\n",
              "        vertical-align: middle;\n",
              "    }\n",
              "\n",
              "    .dataframe tbody tr th {\n",
              "        vertical-align: top;\n",
              "    }\n",
              "\n",
              "    .dataframe thead th {\n",
              "        text-align: right;\n",
              "    }\n",
              "</style>\n",
              "<table border=\"1\" class=\"dataframe\">\n",
              "  <thead>\n",
              "    <tr style=\"text-align: right;\">\n",
              "      <th></th>\n",
              "      <th>Placement - Day of Month</th>\n",
              "      <th>Confirmation - Day of Month</th>\n",
              "      <th>Arrival at Pickup - Day of Month</th>\n",
              "      <th>Pickup - Day of Month</th>\n",
              "      <th>Distance (KM)</th>\n",
              "      <th>Pickup Lat</th>\n",
              "      <th>Pickup Long</th>\n",
              "      <th>Destination Lat</th>\n",
              "      <th>Destination Long</th>\n",
              "      <th>Rider Id</th>\n",
              "      <th>Time from Pickup to Arrival</th>\n",
              "      <th>No_Of_Orders</th>\n",
              "      <th>Age</th>\n",
              "      <th>Average_Rating</th>\n",
              "      <th>No_of_Ratings</th>\n",
              "      <th>Personal or Business_Personal</th>\n",
              "      <th>Time - Placement to Confirmation</th>\n",
              "      <th>Time - Confirmation to Arrival at Pickup</th>\n",
              "      <th>Time - Arrival at Pickup to Pickup</th>\n",
              "      <th>Speed_Meter_per_Second</th>\n",
              "    </tr>\n",
              "  </thead>\n",
              "  <tbody>\n",
              "    <tr>\n",
              "      <th>0</th>\n",
              "      <td>9</td>\n",
              "      <td>9</td>\n",
              "      <td>9</td>\n",
              "      <td>9</td>\n",
              "      <td>4</td>\n",
              "      <td>-1.317755</td>\n",
              "      <td>36.830370</td>\n",
              "      <td>-1.300406</td>\n",
              "      <td>36.829741</td>\n",
              "      <td>432</td>\n",
              "      <td>745</td>\n",
              "      <td>1637</td>\n",
              "      <td>1309</td>\n",
              "      <td>13.8</td>\n",
              "      <td>549</td>\n",
              "      <td>0</td>\n",
              "      <td>264.0</td>\n",
              "      <td>3585.0</td>\n",
              "      <td>1363.0</td>\n",
              "      <td>5.369128</td>\n",
              "    </tr>\n",
              "    <tr>\n",
              "      <th>1</th>\n",
              "      <td>18</td>\n",
              "      <td>18</td>\n",
              "      <td>18</td>\n",
              "      <td>18</td>\n",
              "      <td>20</td>\n",
              "      <td>-1.326774</td>\n",
              "      <td>36.787807</td>\n",
              "      <td>-1.356237</td>\n",
              "      <td>36.904295</td>\n",
              "      <td>432</td>\n",
              "      <td>2886</td>\n",
              "      <td>1637</td>\n",
              "      <td>1309</td>\n",
              "      <td>13.8</td>\n",
              "      <td>549</td>\n",
              "      <td>1</td>\n",
              "      <td>13.0</td>\n",
              "      <td>4813.0</td>\n",
              "      <td>381.0</td>\n",
              "      <td>6.930007</td>\n",
              "    </tr>\n",
              "    <tr>\n",
              "      <th>2</th>\n",
              "      <td>31</td>\n",
              "      <td>31</td>\n",
              "      <td>31</td>\n",
              "      <td>31</td>\n",
              "      <td>6</td>\n",
              "      <td>-1.255189</td>\n",
              "      <td>36.782203</td>\n",
              "      <td>-1.273412</td>\n",
              "      <td>36.818206</td>\n",
              "      <td>432</td>\n",
              "      <td>2615</td>\n",
              "      <td>1637</td>\n",
              "      <td>1309</td>\n",
              "      <td>13.8</td>\n",
              "      <td>549</td>\n",
              "      <td>0</td>\n",
              "      <td>1268.0</td>\n",
              "      <td>3834.0</td>\n",
              "      <td>786.0</td>\n",
              "      <td>2.294455</td>\n",
              "    </tr>\n",
              "    <tr>\n",
              "      <th>3</th>\n",
              "      <td>2</td>\n",
              "      <td>2</td>\n",
              "      <td>2</td>\n",
              "      <td>2</td>\n",
              "      <td>18</td>\n",
              "      <td>-1.290315</td>\n",
              "      <td>36.757377</td>\n",
              "      <td>-1.223520</td>\n",
              "      <td>36.802061</td>\n",
              "      <td>432</td>\n",
              "      <td>2986</td>\n",
              "      <td>1637</td>\n",
              "      <td>1309</td>\n",
              "      <td>13.8</td>\n",
              "      <td>549</td>\n",
              "      <td>1</td>\n",
              "      <td>19.0</td>\n",
              "      <td>4563.0</td>\n",
              "      <td>202.0</td>\n",
              "      <td>6.028131</td>\n",
              "    </tr>\n",
              "    <tr>\n",
              "      <th>4</th>\n",
              "      <td>22</td>\n",
              "      <td>22</td>\n",
              "      <td>22</td>\n",
              "      <td>22</td>\n",
              "      <td>7</td>\n",
              "      <td>-1.273524</td>\n",
              "      <td>36.799220</td>\n",
              "      <td>-1.300431</td>\n",
              "      <td>36.752427</td>\n",
              "      <td>432</td>\n",
              "      <td>1602</td>\n",
              "      <td>1637</td>\n",
              "      <td>1309</td>\n",
              "      <td>13.8</td>\n",
              "      <td>549</td>\n",
              "      <td>1</td>\n",
              "      <td>86.0</td>\n",
              "      <td>2638.0</td>\n",
              "      <td>220.0</td>\n",
              "      <td>4.369538</td>\n",
              "    </tr>\n",
              "    <tr>\n",
              "      <th>...</th>\n",
              "      <td>...</td>\n",
              "      <td>...</td>\n",
              "      <td>...</td>\n",
              "      <td>...</td>\n",
              "      <td>...</td>\n",
              "      <td>...</td>\n",
              "      <td>...</td>\n",
              "      <td>...</td>\n",
              "      <td>...</td>\n",
              "      <td>...</td>\n",
              "      <td>...</td>\n",
              "      <td>...</td>\n",
              "      <td>...</td>\n",
              "      <td>...</td>\n",
              "      <td>...</td>\n",
              "      <td>...</td>\n",
              "      <td>...</td>\n",
              "      <td>...</td>\n",
              "      <td>...</td>\n",
              "      <td>...</td>\n",
              "    </tr>\n",
              "    <tr>\n",
              "      <th>21196</th>\n",
              "      <td>13</td>\n",
              "      <td>13</td>\n",
              "      <td>13</td>\n",
              "      <td>13</td>\n",
              "      <td>3</td>\n",
              "      <td>-1.265003</td>\n",
              "      <td>36.812624</td>\n",
              "      <td>-1.265432</td>\n",
              "      <td>36.795034</td>\n",
              "      <td>528</td>\n",
              "      <td>919</td>\n",
              "      <td>5770</td>\n",
              "      <td>1793</td>\n",
              "      <td>14.2</td>\n",
              "      <td>2205</td>\n",
              "      <td>0</td>\n",
              "      <td>1361.0</td>\n",
              "      <td>2149.0</td>\n",
              "      <td>196.0</td>\n",
              "      <td>3.264418</td>\n",
              "    </tr>\n",
              "    <tr>\n",
              "      <th>21197</th>\n",
              "      <td>21</td>\n",
              "      <td>21</td>\n",
              "      <td>21</td>\n",
              "      <td>21</td>\n",
              "      <td>6</td>\n",
              "      <td>-1.269609</td>\n",
              "      <td>36.825741</td>\n",
              "      <td>-1.278067</td>\n",
              "      <td>36.783487</td>\n",
              "      <td>638</td>\n",
              "      <td>2331</td>\n",
              "      <td>102</td>\n",
              "      <td>873</td>\n",
              "      <td>13.7</td>\n",
              "      <td>32</td>\n",
              "      <td>1</td>\n",
              "      <td>850.0</td>\n",
              "      <td>3737.0</td>\n",
              "      <td>1072.0</td>\n",
              "      <td>2.574003</td>\n",
              "    </tr>\n",
              "    <tr>\n",
              "      <th>21198</th>\n",
              "      <td>10</td>\n",
              "      <td>10</td>\n",
              "      <td>10</td>\n",
              "      <td>10</td>\n",
              "      <td>7</td>\n",
              "      <td>-1.250823</td>\n",
              "      <td>36.789526</td>\n",
              "      <td>-1.285850</td>\n",
              "      <td>36.830629</td>\n",
              "      <td>773</td>\n",
              "      <td>2418</td>\n",
              "      <td>5</td>\n",
              "      <td>105</td>\n",
              "      <td>0.0</td>\n",
              "      <td>0</td>\n",
              "      <td>0</td>\n",
              "      <td>641.0</td>\n",
              "      <td>5774.0</td>\n",
              "      <td>373.0</td>\n",
              "      <td>2.894955</td>\n",
              "    </tr>\n",
              "    <tr>\n",
              "      <th>21199</th>\n",
              "      <td>29</td>\n",
              "      <td>29</td>\n",
              "      <td>29</td>\n",
              "      <td>29</td>\n",
              "      <td>2</td>\n",
              "      <td>-1.291787</td>\n",
              "      <td>36.787267</td>\n",
              "      <td>-1.298575</td>\n",
              "      <td>36.808800</td>\n",
              "      <td>860</td>\n",
              "      <td>717</td>\n",
              "      <td>5</td>\n",
              "      <td>448</td>\n",
              "      <td>15.0</td>\n",
              "      <td>2</td>\n",
              "      <td>0</td>\n",
              "      <td>48.0</td>\n",
              "      <td>1657.0</td>\n",
              "      <td>178.0</td>\n",
              "      <td>2.789400</td>\n",
              "    </tr>\n",
              "    <tr>\n",
              "      <th>21200</th>\n",
              "      <td>30</td>\n",
              "      <td>30</td>\n",
              "      <td>30</td>\n",
              "      <td>30</td>\n",
              "      <td>10</td>\n",
              "      <td>-1.248278</td>\n",
              "      <td>36.884092</td>\n",
              "      <td>-1.286808</td>\n",
              "      <td>36.821940</td>\n",
              "      <td>53</td>\n",
              "      <td>1647</td>\n",
              "      <td>241</td>\n",
              "      <td>1109</td>\n",
              "      <td>13.7</td>\n",
              "      <td>73</td>\n",
              "      <td>0</td>\n",
              "      <td>9.0</td>\n",
              "      <td>2126.0</td>\n",
              "      <td>395.0</td>\n",
              "      <td>6.071645</td>\n",
              "    </tr>\n",
              "  </tbody>\n",
              "</table>\n",
              "<p>21201 rows × 20 columns</p>\n",
              "</div>"
            ],
            "text/plain": [
              "       Placement - Day of Month  ...  Speed_Meter_per_Second\n",
              "0                             9  ...                5.369128\n",
              "1                            18  ...                6.930007\n",
              "2                            31  ...                2.294455\n",
              "3                             2  ...                6.028131\n",
              "4                            22  ...                4.369538\n",
              "...                         ...  ...                     ...\n",
              "21196                        13  ...                3.264418\n",
              "21197                        21  ...                2.574003\n",
              "21198                        10  ...                2.894955\n",
              "21199                        29  ...                2.789400\n",
              "21200                        30  ...                6.071645\n",
              "\n",
              "[21201 rows x 20 columns]"
            ]
          },
          "metadata": {
            "tags": []
          },
          "execution_count": 61
        }
      ]
    },
    {
      "cell_type": "code",
      "metadata": {
        "id": "7bz1DqULaj0q",
        "colab_type": "code",
        "outputId": "9d55272b-9847-4158-805a-dfc2cbce66ce",
        "colab": {}
      },
      "source": [
        "get_id(df_test)"
      ],
      "execution_count": 0,
      "outputs": [
        {
          "output_type": "execute_result",
          "data": {
            "text/html": [
              "<div>\n",
              "<style scoped>\n",
              "    .dataframe tbody tr th:only-of-type {\n",
              "        vertical-align: middle;\n",
              "    }\n",
              "\n",
              "    .dataframe tbody tr th {\n",
              "        vertical-align: top;\n",
              "    }\n",
              "\n",
              "    .dataframe thead th {\n",
              "        text-align: right;\n",
              "    }\n",
              "</style>\n",
              "<table border=\"1\" class=\"dataframe\">\n",
              "  <thead>\n",
              "    <tr style=\"text-align: right;\">\n",
              "      <th></th>\n",
              "      <th>Placement - Day of Month</th>\n",
              "      <th>Confirmation - Day of Month</th>\n",
              "      <th>Arrival at Pickup - Day of Month</th>\n",
              "      <th>Pickup - Day of Month</th>\n",
              "      <th>Distance (KM)</th>\n",
              "      <th>Pickup Lat</th>\n",
              "      <th>Pickup Long</th>\n",
              "      <th>Destination Lat</th>\n",
              "      <th>Destination Long</th>\n",
              "      <th>Rider Id</th>\n",
              "      <th>Time from Pickup to Arrival</th>\n",
              "      <th>No_Of_Orders</th>\n",
              "      <th>Age</th>\n",
              "      <th>Average_Rating</th>\n",
              "      <th>No_of_Ratings</th>\n",
              "      <th>Personal or Business_Personal</th>\n",
              "      <th>Time - Placement to Confirmation</th>\n",
              "      <th>Time - Confirmation to Arrival at Pickup</th>\n",
              "      <th>Time - Arrival at Pickup to Pickup</th>\n",
              "      <th>Speed_Meter_per_Second</th>\n",
              "    </tr>\n",
              "  </thead>\n",
              "  <tbody>\n",
              "    <tr>\n",
              "      <td>0</td>\n",
              "      <td>9</td>\n",
              "      <td>9</td>\n",
              "      <td>9</td>\n",
              "      <td>9</td>\n",
              "      <td>4</td>\n",
              "      <td>-1.317755</td>\n",
              "      <td>36.830370</td>\n",
              "      <td>-1.300406</td>\n",
              "      <td>36.829741</td>\n",
              "      <td>432</td>\n",
              "      <td>745</td>\n",
              "      <td>1637</td>\n",
              "      <td>1309</td>\n",
              "      <td>13.8</td>\n",
              "      <td>549</td>\n",
              "      <td>0</td>\n",
              "      <td>264.0</td>\n",
              "      <td>3585.0</td>\n",
              "      <td>1363.0</td>\n",
              "      <td>5.369128</td>\n",
              "    </tr>\n",
              "    <tr>\n",
              "      <td>1</td>\n",
              "      <td>18</td>\n",
              "      <td>18</td>\n",
              "      <td>18</td>\n",
              "      <td>18</td>\n",
              "      <td>20</td>\n",
              "      <td>-1.326774</td>\n",
              "      <td>36.787807</td>\n",
              "      <td>-1.356237</td>\n",
              "      <td>36.904295</td>\n",
              "      <td>432</td>\n",
              "      <td>2886</td>\n",
              "      <td>1637</td>\n",
              "      <td>1309</td>\n",
              "      <td>13.8</td>\n",
              "      <td>549</td>\n",
              "      <td>1</td>\n",
              "      <td>13.0</td>\n",
              "      <td>4813.0</td>\n",
              "      <td>381.0</td>\n",
              "      <td>6.930007</td>\n",
              "    </tr>\n",
              "    <tr>\n",
              "      <td>2</td>\n",
              "      <td>31</td>\n",
              "      <td>31</td>\n",
              "      <td>31</td>\n",
              "      <td>31</td>\n",
              "      <td>6</td>\n",
              "      <td>-1.255189</td>\n",
              "      <td>36.782203</td>\n",
              "      <td>-1.273412</td>\n",
              "      <td>36.818206</td>\n",
              "      <td>432</td>\n",
              "      <td>2615</td>\n",
              "      <td>1637</td>\n",
              "      <td>1309</td>\n",
              "      <td>13.8</td>\n",
              "      <td>549</td>\n",
              "      <td>0</td>\n",
              "      <td>1268.0</td>\n",
              "      <td>3834.0</td>\n",
              "      <td>786.0</td>\n",
              "      <td>2.294455</td>\n",
              "    </tr>\n",
              "    <tr>\n",
              "      <td>3</td>\n",
              "      <td>2</td>\n",
              "      <td>2</td>\n",
              "      <td>2</td>\n",
              "      <td>2</td>\n",
              "      <td>18</td>\n",
              "      <td>-1.290315</td>\n",
              "      <td>36.757377</td>\n",
              "      <td>-1.223520</td>\n",
              "      <td>36.802061</td>\n",
              "      <td>432</td>\n",
              "      <td>2986</td>\n",
              "      <td>1637</td>\n",
              "      <td>1309</td>\n",
              "      <td>13.8</td>\n",
              "      <td>549</td>\n",
              "      <td>1</td>\n",
              "      <td>19.0</td>\n",
              "      <td>4563.0</td>\n",
              "      <td>202.0</td>\n",
              "      <td>6.028131</td>\n",
              "    </tr>\n",
              "    <tr>\n",
              "      <td>4</td>\n",
              "      <td>22</td>\n",
              "      <td>22</td>\n",
              "      <td>22</td>\n",
              "      <td>22</td>\n",
              "      <td>7</td>\n",
              "      <td>-1.273524</td>\n",
              "      <td>36.799220</td>\n",
              "      <td>-1.300431</td>\n",
              "      <td>36.752427</td>\n",
              "      <td>432</td>\n",
              "      <td>1602</td>\n",
              "      <td>1637</td>\n",
              "      <td>1309</td>\n",
              "      <td>13.8</td>\n",
              "      <td>549</td>\n",
              "      <td>1</td>\n",
              "      <td>86.0</td>\n",
              "      <td>2638.0</td>\n",
              "      <td>220.0</td>\n",
              "      <td>4.369538</td>\n",
              "    </tr>\n",
              "    <tr>\n",
              "      <td>...</td>\n",
              "      <td>...</td>\n",
              "      <td>...</td>\n",
              "      <td>...</td>\n",
              "      <td>...</td>\n",
              "      <td>...</td>\n",
              "      <td>...</td>\n",
              "      <td>...</td>\n",
              "      <td>...</td>\n",
              "      <td>...</td>\n",
              "      <td>...</td>\n",
              "      <td>...</td>\n",
              "      <td>...</td>\n",
              "      <td>...</td>\n",
              "      <td>...</td>\n",
              "      <td>...</td>\n",
              "      <td>...</td>\n",
              "      <td>...</td>\n",
              "      <td>...</td>\n",
              "      <td>...</td>\n",
              "      <td>...</td>\n",
              "    </tr>\n",
              "    <tr>\n",
              "      <td>21196</td>\n",
              "      <td>13</td>\n",
              "      <td>13</td>\n",
              "      <td>13</td>\n",
              "      <td>13</td>\n",
              "      <td>3</td>\n",
              "      <td>-1.265003</td>\n",
              "      <td>36.812624</td>\n",
              "      <td>-1.265432</td>\n",
              "      <td>36.795034</td>\n",
              "      <td>528</td>\n",
              "      <td>919</td>\n",
              "      <td>5770</td>\n",
              "      <td>1793</td>\n",
              "      <td>14.2</td>\n",
              "      <td>2205</td>\n",
              "      <td>0</td>\n",
              "      <td>1361.0</td>\n",
              "      <td>2149.0</td>\n",
              "      <td>196.0</td>\n",
              "      <td>3.264418</td>\n",
              "    </tr>\n",
              "    <tr>\n",
              "      <td>21197</td>\n",
              "      <td>21</td>\n",
              "      <td>21</td>\n",
              "      <td>21</td>\n",
              "      <td>21</td>\n",
              "      <td>6</td>\n",
              "      <td>-1.269609</td>\n",
              "      <td>36.825741</td>\n",
              "      <td>-1.278067</td>\n",
              "      <td>36.783487</td>\n",
              "      <td>638</td>\n",
              "      <td>2331</td>\n",
              "      <td>102</td>\n",
              "      <td>873</td>\n",
              "      <td>13.7</td>\n",
              "      <td>32</td>\n",
              "      <td>1</td>\n",
              "      <td>850.0</td>\n",
              "      <td>3737.0</td>\n",
              "      <td>1072.0</td>\n",
              "      <td>2.574003</td>\n",
              "    </tr>\n",
              "    <tr>\n",
              "      <td>21198</td>\n",
              "      <td>10</td>\n",
              "      <td>10</td>\n",
              "      <td>10</td>\n",
              "      <td>10</td>\n",
              "      <td>7</td>\n",
              "      <td>-1.250823</td>\n",
              "      <td>36.789526</td>\n",
              "      <td>-1.285850</td>\n",
              "      <td>36.830629</td>\n",
              "      <td>773</td>\n",
              "      <td>2418</td>\n",
              "      <td>5</td>\n",
              "      <td>105</td>\n",
              "      <td>0.0</td>\n",
              "      <td>0</td>\n",
              "      <td>0</td>\n",
              "      <td>641.0</td>\n",
              "      <td>5774.0</td>\n",
              "      <td>373.0</td>\n",
              "      <td>2.894955</td>\n",
              "    </tr>\n",
              "    <tr>\n",
              "      <td>21199</td>\n",
              "      <td>29</td>\n",
              "      <td>29</td>\n",
              "      <td>29</td>\n",
              "      <td>29</td>\n",
              "      <td>2</td>\n",
              "      <td>-1.291787</td>\n",
              "      <td>36.787267</td>\n",
              "      <td>-1.298575</td>\n",
              "      <td>36.808800</td>\n",
              "      <td>860</td>\n",
              "      <td>717</td>\n",
              "      <td>5</td>\n",
              "      <td>448</td>\n",
              "      <td>15.0</td>\n",
              "      <td>2</td>\n",
              "      <td>0</td>\n",
              "      <td>48.0</td>\n",
              "      <td>1657.0</td>\n",
              "      <td>178.0</td>\n",
              "      <td>2.789400</td>\n",
              "    </tr>\n",
              "    <tr>\n",
              "      <td>21200</td>\n",
              "      <td>30</td>\n",
              "      <td>30</td>\n",
              "      <td>30</td>\n",
              "      <td>30</td>\n",
              "      <td>10</td>\n",
              "      <td>-1.248278</td>\n",
              "      <td>36.884092</td>\n",
              "      <td>-1.286808</td>\n",
              "      <td>36.821940</td>\n",
              "      <td>53</td>\n",
              "      <td>1647</td>\n",
              "      <td>241</td>\n",
              "      <td>1109</td>\n",
              "      <td>13.7</td>\n",
              "      <td>73</td>\n",
              "      <td>0</td>\n",
              "      <td>9.0</td>\n",
              "      <td>2126.0</td>\n",
              "      <td>395.0</td>\n",
              "      <td>6.071645</td>\n",
              "    </tr>\n",
              "  </tbody>\n",
              "</table>\n",
              "<p>21201 rows × 20 columns</p>\n",
              "</div>"
            ],
            "text/plain": [
              "       Placement - Day of Month  Confirmation - Day of Month  \\\n",
              "0                             9                            9   \n",
              "1                            18                           18   \n",
              "2                            31                           31   \n",
              "3                             2                            2   \n",
              "4                            22                           22   \n",
              "...                         ...                          ...   \n",
              "21196                        13                           13   \n",
              "21197                        21                           21   \n",
              "21198                        10                           10   \n",
              "21199                        29                           29   \n",
              "21200                        30                           30   \n",
              "\n",
              "       Arrival at Pickup - Day of Month  Pickup - Day of Month  Distance (KM)  \\\n",
              "0                                     9                      9              4   \n",
              "1                                    18                     18             20   \n",
              "2                                    31                     31              6   \n",
              "3                                     2                      2             18   \n",
              "4                                    22                     22              7   \n",
              "...                                 ...                    ...            ...   \n",
              "21196                                13                     13              3   \n",
              "21197                                21                     21              6   \n",
              "21198                                10                     10              7   \n",
              "21199                                29                     29              2   \n",
              "21200                                30                     30             10   \n",
              "\n",
              "       Pickup Lat  Pickup Long  Destination Lat  Destination Long  Rider Id  \\\n",
              "0       -1.317755    36.830370        -1.300406         36.829741       432   \n",
              "1       -1.326774    36.787807        -1.356237         36.904295       432   \n",
              "2       -1.255189    36.782203        -1.273412         36.818206       432   \n",
              "3       -1.290315    36.757377        -1.223520         36.802061       432   \n",
              "4       -1.273524    36.799220        -1.300431         36.752427       432   \n",
              "...           ...          ...              ...               ...       ...   \n",
              "21196   -1.265003    36.812624        -1.265432         36.795034       528   \n",
              "21197   -1.269609    36.825741        -1.278067         36.783487       638   \n",
              "21198   -1.250823    36.789526        -1.285850         36.830629       773   \n",
              "21199   -1.291787    36.787267        -1.298575         36.808800       860   \n",
              "21200   -1.248278    36.884092        -1.286808         36.821940        53   \n",
              "\n",
              "       Time from Pickup to Arrival  No_Of_Orders   Age  Average_Rating  \\\n",
              "0                              745          1637  1309            13.8   \n",
              "1                             2886          1637  1309            13.8   \n",
              "2                             2615          1637  1309            13.8   \n",
              "3                             2986          1637  1309            13.8   \n",
              "4                             1602          1637  1309            13.8   \n",
              "...                            ...           ...   ...             ...   \n",
              "21196                          919          5770  1793            14.2   \n",
              "21197                         2331           102   873            13.7   \n",
              "21198                         2418             5   105             0.0   \n",
              "21199                          717             5   448            15.0   \n",
              "21200                         1647           241  1109            13.7   \n",
              "\n",
              "       No_of_Ratings  Personal or Business_Personal  \\\n",
              "0                549                              0   \n",
              "1                549                              1   \n",
              "2                549                              0   \n",
              "3                549                              1   \n",
              "4                549                              1   \n",
              "...              ...                            ...   \n",
              "21196           2205                              0   \n",
              "21197             32                              1   \n",
              "21198              0                              0   \n",
              "21199              2                              0   \n",
              "21200             73                              0   \n",
              "\n",
              "       Time - Placement to Confirmation  \\\n",
              "0                                 264.0   \n",
              "1                                  13.0   \n",
              "2                                1268.0   \n",
              "3                                  19.0   \n",
              "4                                  86.0   \n",
              "...                                 ...   \n",
              "21196                            1361.0   \n",
              "21197                             850.0   \n",
              "21198                             641.0   \n",
              "21199                              48.0   \n",
              "21200                               9.0   \n",
              "\n",
              "       Time - Confirmation to Arrival at Pickup  \\\n",
              "0                                        3585.0   \n",
              "1                                        4813.0   \n",
              "2                                        3834.0   \n",
              "3                                        4563.0   \n",
              "4                                        2638.0   \n",
              "...                                         ...   \n",
              "21196                                    2149.0   \n",
              "21197                                    3737.0   \n",
              "21198                                    5774.0   \n",
              "21199                                    1657.0   \n",
              "21200                                    2126.0   \n",
              "\n",
              "       Time - Arrival at Pickup to Pickup  Speed_Meter_per_Second  \n",
              "0                                  1363.0                5.369128  \n",
              "1                                   381.0                6.930007  \n",
              "2                                   786.0                2.294455  \n",
              "3                                   202.0                6.028131  \n",
              "4                                   220.0                4.369538  \n",
              "...                                   ...                     ...  \n",
              "21196                               196.0                3.264418  \n",
              "21197                              1072.0                2.574003  \n",
              "21198                               373.0                2.894955  \n",
              "21199                               178.0                2.789400  \n",
              "21200                               395.0                6.071645  \n",
              "\n",
              "[21201 rows x 20 columns]"
            ]
          },
          "metadata": {
            "tags": []
          },
          "execution_count": 89
        }
      ]
    },
    {
      "cell_type": "markdown",
      "metadata": {
        "id": "fmHbePHFaj0r",
        "colab_type": "text"
      },
      "source": [
        "## Calculate the distance"
      ]
    },
    {
      "cell_type": "code",
      "metadata": {
        "id": "AVttHkoxaj0s",
        "colab_type": "code",
        "colab": {}
      },
      "source": [
        "def distance(x1,y1,x2,y2):\n",
        "    d = np.sin((x2-x1)/2.0)**2 + \\\n",
        "        np.cos(x1) * np.cos(x2) * np.sin((y2-y1)/2.0)**2\n",
        "    return 12742 * np.arcsin(d ** 0.5)"
      ],
      "execution_count": 0,
      "outputs": []
    },
    {
      "cell_type": "code",
      "metadata": {
        "id": "90-x0VPlaj0t",
        "colab_type": "code",
        "colab": {}
      },
      "source": [
        "df_train['Distance'] = distance(df_train['Pickup Lat'],df_train['Pickup Long'],df_train['Destination Lat'], df_train['Destination Long'])"
      ],
      "execution_count": 0,
      "outputs": []
    },
    {
      "cell_type": "code",
      "metadata": {
        "id": "osi4uscCaj0v",
        "colab_type": "code",
        "colab": {}
      },
      "source": [
        "df_test['Distance'] = distance(df_test['Pickup Lat'],df_test['Pickup Long'],df_test['Destination Lat'], df_test['Destination Long'])"
      ],
      "execution_count": 0,
      "outputs": []
    },
    {
      "cell_type": "code",
      "metadata": {
        "id": "LY_1h5Nsaj0x",
        "colab_type": "code",
        "colab": {}
      },
      "source": [
        "remove = ['Placement - Day of Month','Confirmation - Day of Month','Placement - Day of Month',\"Arrival at Pickup - Day of Month\",\n",
        "                          'Pickup - Day of Month']\n"
      ],
      "execution_count": 0,
      "outputs": []
    },
    {
      "cell_type": "code",
      "metadata": {
        "id": "OQuNRevuaj0y",
        "colab_type": "code",
        "colab": {}
      },
      "source": [
        "df_train = df_train.drop(remove, axis = 1)"
      ],
      "execution_count": 0,
      "outputs": []
    },
    {
      "cell_type": "code",
      "metadata": {
        "id": "L3DN2bPpaj00",
        "colab_type": "code",
        "colab": {}
      },
      "source": [
        "df_test = df_test.drop(remove, axis = 1)"
      ],
      "execution_count": 0,
      "outputs": []
    },
    {
      "cell_type": "code",
      "metadata": {
        "id": "wEYVjxinaj02",
        "colab_type": "code",
        "outputId": "d18443fe-8b12-48c5-e13e-e0b64c0e1e3c",
        "colab": {}
      },
      "source": [
        "df_test"
      ],
      "execution_count": 0,
      "outputs": [
        {
          "output_type": "execute_result",
          "data": {
            "text/html": [
              "<div>\n",
              "<style scoped>\n",
              "    .dataframe tbody tr th:only-of-type {\n",
              "        vertical-align: middle;\n",
              "    }\n",
              "\n",
              "    .dataframe tbody tr th {\n",
              "        vertical-align: top;\n",
              "    }\n",
              "\n",
              "    .dataframe thead th {\n",
              "        text-align: right;\n",
              "    }\n",
              "</style>\n",
              "<table border=\"1\" class=\"dataframe\">\n",
              "  <thead>\n",
              "    <tr style=\"text-align: right;\">\n",
              "      <th></th>\n",
              "      <th>Distance (KM)</th>\n",
              "      <th>Pickup Lat</th>\n",
              "      <th>Pickup Long</th>\n",
              "      <th>Destination Lat</th>\n",
              "      <th>Destination Long</th>\n",
              "      <th>Rider Id</th>\n",
              "      <th>Time from Pickup to Arrival</th>\n",
              "      <th>No_Of_Orders</th>\n",
              "      <th>Age</th>\n",
              "      <th>Average_Rating</th>\n",
              "      <th>No_of_Ratings</th>\n",
              "      <th>Personal or Business_Personal</th>\n",
              "      <th>Time - Placement to Confirmation</th>\n",
              "      <th>Time - Confirmation to Arrival at Pickup</th>\n",
              "      <th>Time - Arrival at Pickup to Pickup</th>\n",
              "      <th>Speed_Meter_per_Second</th>\n",
              "      <th>Distance</th>\n",
              "    </tr>\n",
              "  </thead>\n",
              "  <tbody>\n",
              "    <tr>\n",
              "      <td>0</td>\n",
              "      <td>4</td>\n",
              "      <td>-1.317755</td>\n",
              "      <td>36.830370</td>\n",
              "      <td>-1.300406</td>\n",
              "      <td>36.829741</td>\n",
              "      <td>432</td>\n",
              "      <td>745</td>\n",
              "      <td>1637</td>\n",
              "      <td>1309</td>\n",
              "      <td>13.8</td>\n",
              "      <td>549</td>\n",
              "      <td>0</td>\n",
              "      <td>264.0</td>\n",
              "      <td>3585.0</td>\n",
              "      <td>1363.0</td>\n",
              "      <td>5.369128</td>\n",
              "      <td>110.532156</td>\n",
              "    </tr>\n",
              "    <tr>\n",
              "      <td>1</td>\n",
              "      <td>20</td>\n",
              "      <td>-1.326774</td>\n",
              "      <td>36.787807</td>\n",
              "      <td>-1.356237</td>\n",
              "      <td>36.904295</td>\n",
              "      <td>432</td>\n",
              "      <td>2886</td>\n",
              "      <td>1637</td>\n",
              "      <td>1309</td>\n",
              "      <td>13.8</td>\n",
              "      <td>549</td>\n",
              "      <td>1</td>\n",
              "      <td>13.0</td>\n",
              "      <td>4813.0</td>\n",
              "      <td>381.0</td>\n",
              "      <td>6.930007</td>\n",
              "      <td>252.077041</td>\n",
              "    </tr>\n",
              "    <tr>\n",
              "      <td>2</td>\n",
              "      <td>6</td>\n",
              "      <td>-1.255189</td>\n",
              "      <td>36.782203</td>\n",
              "      <td>-1.273412</td>\n",
              "      <td>36.818206</td>\n",
              "      <td>432</td>\n",
              "      <td>2615</td>\n",
              "      <td>1637</td>\n",
              "      <td>1309</td>\n",
              "      <td>13.8</td>\n",
              "      <td>549</td>\n",
              "      <td>0</td>\n",
              "      <td>1268.0</td>\n",
              "      <td>3834.0</td>\n",
              "      <td>786.0</td>\n",
              "      <td>2.294455</td>\n",
              "      <td>135.140724</td>\n",
              "    </tr>\n",
              "    <tr>\n",
              "      <td>3</td>\n",
              "      <td>18</td>\n",
              "      <td>-1.290315</td>\n",
              "      <td>36.757377</td>\n",
              "      <td>-1.223520</td>\n",
              "      <td>36.802061</td>\n",
              "      <td>432</td>\n",
              "      <td>2986</td>\n",
              "      <td>1637</td>\n",
              "      <td>1309</td>\n",
              "      <td>13.8</td>\n",
              "      <td>549</td>\n",
              "      <td>1</td>\n",
              "      <td>19.0</td>\n",
              "      <td>4563.0</td>\n",
              "      <td>202.0</td>\n",
              "      <td>6.028131</td>\n",
              "      <td>434.433797</td>\n",
              "    </tr>\n",
              "    <tr>\n",
              "      <td>4</td>\n",
              "      <td>7</td>\n",
              "      <td>-1.273524</td>\n",
              "      <td>36.799220</td>\n",
              "      <td>-1.300431</td>\n",
              "      <td>36.752427</td>\n",
              "      <td>432</td>\n",
              "      <td>1602</td>\n",
              "      <td>1637</td>\n",
              "      <td>1309</td>\n",
              "      <td>13.8</td>\n",
              "      <td>549</td>\n",
              "      <td>1</td>\n",
              "      <td>86.0</td>\n",
              "      <td>2638.0</td>\n",
              "      <td>220.0</td>\n",
              "      <td>4.369538</td>\n",
              "      <td>190.629936</td>\n",
              "    </tr>\n",
              "    <tr>\n",
              "      <td>...</td>\n",
              "      <td>...</td>\n",
              "      <td>...</td>\n",
              "      <td>...</td>\n",
              "      <td>...</td>\n",
              "      <td>...</td>\n",
              "      <td>...</td>\n",
              "      <td>...</td>\n",
              "      <td>...</td>\n",
              "      <td>...</td>\n",
              "      <td>...</td>\n",
              "      <td>...</td>\n",
              "      <td>...</td>\n",
              "      <td>...</td>\n",
              "      <td>...</td>\n",
              "      <td>...</td>\n",
              "      <td>...</td>\n",
              "      <td>...</td>\n",
              "    </tr>\n",
              "    <tr>\n",
              "      <td>21196</td>\n",
              "      <td>3</td>\n",
              "      <td>-1.265003</td>\n",
              "      <td>36.812624</td>\n",
              "      <td>-1.265432</td>\n",
              "      <td>36.795034</td>\n",
              "      <td>528</td>\n",
              "      <td>919</td>\n",
              "      <td>5770</td>\n",
              "      <td>1793</td>\n",
              "      <td>14.2</td>\n",
              "      <td>2205</td>\n",
              "      <td>0</td>\n",
              "      <td>1361.0</td>\n",
              "      <td>2149.0</td>\n",
              "      <td>196.0</td>\n",
              "      <td>3.264418</td>\n",
              "      <td>33.825244</td>\n",
              "    </tr>\n",
              "    <tr>\n",
              "      <td>21197</td>\n",
              "      <td>6</td>\n",
              "      <td>-1.269609</td>\n",
              "      <td>36.825741</td>\n",
              "      <td>-1.278067</td>\n",
              "      <td>36.783487</td>\n",
              "      <td>638</td>\n",
              "      <td>2331</td>\n",
              "      <td>102</td>\n",
              "      <td>873</td>\n",
              "      <td>13.7</td>\n",
              "      <td>32</td>\n",
              "      <td>1</td>\n",
              "      <td>850.0</td>\n",
              "      <td>3737.0</td>\n",
              "      <td>1072.0</td>\n",
              "      <td>2.574003</td>\n",
              "      <td>95.429267</td>\n",
              "    </tr>\n",
              "    <tr>\n",
              "      <td>21198</td>\n",
              "      <td>7</td>\n",
              "      <td>-1.250823</td>\n",
              "      <td>36.789526</td>\n",
              "      <td>-1.285850</td>\n",
              "      <td>36.830629</td>\n",
              "      <td>773</td>\n",
              "      <td>2418</td>\n",
              "      <td>5</td>\n",
              "      <td>105</td>\n",
              "      <td>0.0</td>\n",
              "      <td>0</td>\n",
              "      <td>0</td>\n",
              "      <td>641.0</td>\n",
              "      <td>5774.0</td>\n",
              "      <td>373.0</td>\n",
              "      <td>2.894955</td>\n",
              "      <td>236.354386</td>\n",
              "    </tr>\n",
              "    <tr>\n",
              "      <td>21199</td>\n",
              "      <td>2</td>\n",
              "      <td>-1.291787</td>\n",
              "      <td>36.787267</td>\n",
              "      <td>-1.298575</td>\n",
              "      <td>36.808800</td>\n",
              "      <td>860</td>\n",
              "      <td>717</td>\n",
              "      <td>5</td>\n",
              "      <td>448</td>\n",
              "      <td>15.0</td>\n",
              "      <td>2</td>\n",
              "      <td>0</td>\n",
              "      <td>48.0</td>\n",
              "      <td>1657.0</td>\n",
              "      <td>178.0</td>\n",
              "      <td>2.789400</td>\n",
              "      <td>57.129684</td>\n",
              "    </tr>\n",
              "    <tr>\n",
              "      <td>21200</td>\n",
              "      <td>10</td>\n",
              "      <td>-1.248278</td>\n",
              "      <td>36.884092</td>\n",
              "      <td>-1.286808</td>\n",
              "      <td>36.821940</td>\n",
              "      <td>53</td>\n",
              "      <td>1647</td>\n",
              "      <td>241</td>\n",
              "      <td>1109</td>\n",
              "      <td>13.7</td>\n",
              "      <td>73</td>\n",
              "      <td>0</td>\n",
              "      <td>9.0</td>\n",
              "      <td>2126.0</td>\n",
              "      <td>395.0</td>\n",
              "      <td>6.071645</td>\n",
              "      <td>272.361238</td>\n",
              "    </tr>\n",
              "  </tbody>\n",
              "</table>\n",
              "<p>21201 rows × 17 columns</p>\n",
              "</div>"
            ],
            "text/plain": [
              "       Distance (KM)  Pickup Lat  Pickup Long  Destination Lat  \\\n",
              "0                  4   -1.317755    36.830370        -1.300406   \n",
              "1                 20   -1.326774    36.787807        -1.356237   \n",
              "2                  6   -1.255189    36.782203        -1.273412   \n",
              "3                 18   -1.290315    36.757377        -1.223520   \n",
              "4                  7   -1.273524    36.799220        -1.300431   \n",
              "...              ...         ...          ...              ...   \n",
              "21196              3   -1.265003    36.812624        -1.265432   \n",
              "21197              6   -1.269609    36.825741        -1.278067   \n",
              "21198              7   -1.250823    36.789526        -1.285850   \n",
              "21199              2   -1.291787    36.787267        -1.298575   \n",
              "21200             10   -1.248278    36.884092        -1.286808   \n",
              "\n",
              "       Destination Long  Rider Id  Time from Pickup to Arrival  No_Of_Orders  \\\n",
              "0             36.829741       432                          745          1637   \n",
              "1             36.904295       432                         2886          1637   \n",
              "2             36.818206       432                         2615          1637   \n",
              "3             36.802061       432                         2986          1637   \n",
              "4             36.752427       432                         1602          1637   \n",
              "...                 ...       ...                          ...           ...   \n",
              "21196         36.795034       528                          919          5770   \n",
              "21197         36.783487       638                         2331           102   \n",
              "21198         36.830629       773                         2418             5   \n",
              "21199         36.808800       860                          717             5   \n",
              "21200         36.821940        53                         1647           241   \n",
              "\n",
              "        Age  Average_Rating  No_of_Ratings  Personal or Business_Personal  \\\n",
              "0      1309            13.8            549                              0   \n",
              "1      1309            13.8            549                              1   \n",
              "2      1309            13.8            549                              0   \n",
              "3      1309            13.8            549                              1   \n",
              "4      1309            13.8            549                              1   \n",
              "...     ...             ...            ...                            ...   \n",
              "21196  1793            14.2           2205                              0   \n",
              "21197   873            13.7             32                              1   \n",
              "21198   105             0.0              0                              0   \n",
              "21199   448            15.0              2                              0   \n",
              "21200  1109            13.7             73                              0   \n",
              "\n",
              "       Time - Placement to Confirmation  \\\n",
              "0                                 264.0   \n",
              "1                                  13.0   \n",
              "2                                1268.0   \n",
              "3                                  19.0   \n",
              "4                                  86.0   \n",
              "...                                 ...   \n",
              "21196                            1361.0   \n",
              "21197                             850.0   \n",
              "21198                             641.0   \n",
              "21199                              48.0   \n",
              "21200                               9.0   \n",
              "\n",
              "       Time - Confirmation to Arrival at Pickup  \\\n",
              "0                                        3585.0   \n",
              "1                                        4813.0   \n",
              "2                                        3834.0   \n",
              "3                                        4563.0   \n",
              "4                                        2638.0   \n",
              "...                                         ...   \n",
              "21196                                    2149.0   \n",
              "21197                                    3737.0   \n",
              "21198                                    5774.0   \n",
              "21199                                    1657.0   \n",
              "21200                                    2126.0   \n",
              "\n",
              "       Time - Arrival at Pickup to Pickup  Speed_Meter_per_Second    Distance  \n",
              "0                                  1363.0                5.369128  110.532156  \n",
              "1                                   381.0                6.930007  252.077041  \n",
              "2                                   786.0                2.294455  135.140724  \n",
              "3                                   202.0                6.028131  434.433797  \n",
              "4                                   220.0                4.369538  190.629936  \n",
              "...                                   ...                     ...         ...  \n",
              "21196                               196.0                3.264418   33.825244  \n",
              "21197                              1072.0                2.574003   95.429267  \n",
              "21198                               373.0                2.894955  236.354386  \n",
              "21199                               178.0                2.789400   57.129684  \n",
              "21200                               395.0                6.071645  272.361238  \n",
              "\n",
              "[21201 rows x 17 columns]"
            ]
          },
          "metadata": {
            "tags": []
          },
          "execution_count": 96
        }
      ]
    },
    {
      "cell_type": "code",
      "metadata": {
        "id": "SizPKVHpaj04",
        "colab_type": "code",
        "outputId": "f97e8b1a-09ce-4ee7-c227-2259b4779158",
        "colab": {}
      },
      "source": [
        "df_train.columns"
      ],
      "execution_count": 0,
      "outputs": [
        {
          "output_type": "execute_result",
          "data": {
            "text/plain": [
              "Index(['Distance (KM)', 'Pickup Lat', 'Pickup Long', 'Destination Lat',\n",
              "       'Destination Long', 'Rider Id', 'Time from Pickup to Arrival',\n",
              "       'No_Of_Orders', 'Age', 'Average_Rating', 'No_of_Ratings',\n",
              "       'Personal or Business_Personal', 'Time - Placement to Confirmation',\n",
              "       'Time - Confirmation to Arrival at Pickup',\n",
              "       'Time - Arrival at Pickup to Pickup', 'Speed_Meter_per_Second',\n",
              "       'Distance'],\n",
              "      dtype='object')"
            ]
          },
          "metadata": {
            "tags": []
          },
          "execution_count": 97
        }
      ]
    },
    {
      "cell_type": "markdown",
      "metadata": {
        "id": "l7rgafBwaj07",
        "colab_type": "text"
      },
      "source": [
        "## Check the correlation of the variables"
      ]
    },
    {
      "cell_type": "code",
      "metadata": {
        "id": "A3IrM_Ndaj07",
        "colab_type": "code",
        "outputId": "01a1a302-d24c-49c4-8f2c-e96ea23fb45a",
        "colab": {
          "base_uri": "https://localhost:8080/",
          "height": 386
        }
      },
      "source": [
        "correlations = df_train[df_train.columns].corr()\n",
        "correlations['Time from Pickup to Arrival'].abs().sort_values()"
      ],
      "execution_count": 67,
      "outputs": [
        {
          "output_type": "execute_result",
          "data": {
            "text/plain": [
              "No_of_Ratings                               0.005609\n",
              "Age                                         0.007969\n",
              "Personal or Business_Personal               0.013354\n",
              "Confirmation - Day of Month                 0.014701\n",
              "Arrival at Pickup - Day of Month            0.014701\n",
              "Pickup - Day of Month                       0.014701\n",
              "Placement - Day of Month                    0.014710\n",
              "Rider Id                                    0.017384\n",
              "Time - Placement to Confirmation            0.035489\n",
              "No_Of_Orders                                0.041608\n",
              "Average_Rating                              0.042559\n",
              "Pickup Lat                                  0.053823\n",
              "Pickup Long                                 0.060285\n",
              "Destination Lat                             0.061872\n",
              "Destination Long                            0.070425\n",
              "Time - Arrival at Pickup to Pickup          0.079637\n",
              "Speed_Meter_per_Second                      0.188162\n",
              "Distance                                    0.508892\n",
              "Distance (KM)                               0.580608\n",
              "Time - Confirmation to Arrival at Pickup    0.732104\n",
              "Time from Pickup to Arrival                 1.000000\n",
              "Name: Time from Pickup to Arrival, dtype: float64"
            ]
          },
          "metadata": {
            "tags": []
          },
          "execution_count": 67
        }
      ]
    },
    {
      "cell_type": "markdown",
      "metadata": {
        "id": "mPJDyMNKaj09",
        "colab_type": "text"
      },
      "source": [
        "## Training the model"
      ]
    },
    {
      "cell_type": "code",
      "metadata": {
        "id": "KG7xnlKlaj09",
        "colab_type": "code",
        "colab": {}
      },
      "source": [
        "from sklearn.model_selection import train_test_split\n",
        "from sklearn.metrics import mean_squared_error\n",
        "from sklearn.linear_model import LinearRegression\n",
        "import math"
      ],
      "execution_count": 0,
      "outputs": []
    },
    {
      "cell_type": "code",
      "metadata": {
        "id": "sS4NE_qxaj0_",
        "colab_type": "code",
        "colab": {}
      },
      "source": [
        "X = df_train.drop('Time from Pickup to Arrival', axis=1)\n",
        "y = df_train['Time from Pickup to Arrival']"
      ],
      "execution_count": 0,
      "outputs": []
    },
    {
      "cell_type": "code",
      "metadata": {
        "id": "Qn1tZivIaj1B",
        "colab_type": "code",
        "colab": {}
      },
      "source": [
        "X_train, X_test, y_train, y_test = train_test_split(X, y, test_size=0.2, random_state=20)"
      ],
      "execution_count": 0,
      "outputs": []
    },
    {
      "cell_type": "code",
      "metadata": {
        "id": "B4JT_Oanaj1D",
        "colab_type": "code",
        "outputId": "16755bda-6eef-4b74-ccd5-6fb719677801",
        "colab": {
          "base_uri": "https://localhost:8080/",
          "height": 34
        }
      },
      "source": [
        "lm = LinearRegression()\n",
        "lm.fit(X_train, y_train)"
      ],
      "execution_count": 71,
      "outputs": [
        {
          "output_type": "execute_result",
          "data": {
            "text/plain": [
              "LinearRegression(copy_X=True, fit_intercept=True, n_jobs=None, normalize=False)"
            ]
          },
          "metadata": {
            "tags": []
          },
          "execution_count": 71
        }
      ]
    },
    {
      "cell_type": "code",
      "metadata": {
        "id": "hyfoy3lnaj1F",
        "colab_type": "code",
        "outputId": "87ed342b-3623-4d81-8781-37c027c4b293",
        "colab": {
          "base_uri": "https://localhost:8080/",
          "height": 34
        }
      },
      "source": [
        "###predicting on train set - rmse of train\n",
        "math.sqrt(mean_squared_error(y_train, lm.predict(X_train)))"
      ],
      "execution_count": 72,
      "outputs": [
        {
          "output_type": "execute_result",
          "data": {
            "text/plain": [
              "473.04720991068524"
            ]
          },
          "metadata": {
            "tags": []
          },
          "execution_count": 72
        }
      ]
    },
    {
      "cell_type": "code",
      "metadata": {
        "id": "Zj3e6jtVaj1G",
        "colab_type": "code",
        "outputId": "72be7ba4-625d-4619-e50c-38c9e795a09b",
        "colab": {
          "base_uri": "https://localhost:8080/",
          "height": 34
        }
      },
      "source": [
        "#predicting on test set - rmse of test\n",
        "math.sqrt(mean_squared_error(y_test, lm.predict(X_test)))"
      ],
      "execution_count": 73,
      "outputs": [
        {
          "output_type": "execute_result",
          "data": {
            "text/plain": [
              "469.3577303930759"
            ]
          },
          "metadata": {
            "tags": []
          },
          "execution_count": 73
        }
      ]
    },
    {
      "cell_type": "code",
      "metadata": {
        "id": "nPcApsuCaj1H",
        "colab_type": "code",
        "colab": {}
      },
      "source": [
        "##explain the difference , overfit or underfit? why"
      ],
      "execution_count": 0,
      "outputs": []
    },
    {
      "cell_type": "markdown",
      "metadata": {
        "id": "LB2RCV20aj1J",
        "colab_type": "text"
      },
      "source": [
        "## submission on zindi"
      ]
    },
    {
      "cell_type": "code",
      "metadata": {
        "id": "u7uFE6UNaj1J",
        "colab_type": "code",
        "colab": {}
      },
      "source": [
        "predictions = sample_df[['Order_No']]"
      ],
      "execution_count": 0,
      "outputs": []
    },
    {
      "cell_type": "code",
      "metadata": {
        "id": "YUA8sL23aj1K",
        "colab_type": "code",
        "outputId": "c5fb34cd-67a0-495a-cbfc-cded5249e651",
        "colab": {
          "base_uri": "https://localhost:8080/",
          "height": 34
        }
      },
      "source": [
        "sample_df.columns"
      ],
      "execution_count": 77,
      "outputs": [
        {
          "output_type": "execute_result",
          "data": {
            "text/plain": [
              "Index(['Order_No', 'Time from Pickup to Arrival'], dtype='object')"
            ]
          },
          "metadata": {
            "tags": []
          },
          "execution_count": 77
        }
      ]
    },
    {
      "cell_type": "code",
      "metadata": {
        "id": "on2M319Baj1N",
        "colab_type": "code",
        "colab": {}
      },
      "source": [
        "predictions['Time from Pickup to Arrival'] = lm.predict(df_test.drop('Time from Pickup to Arrival', axis=1))"
      ],
      "execution_count": 0,
      "outputs": []
    },
    {
      "cell_type": "code",
      "metadata": {
        "id": "-dio4NEfaj1P",
        "colab_type": "code",
        "colab": {}
      },
      "source": [
        "predictions.to_csv('submission.csv',index=False)"
      ],
      "execution_count": 0,
      "outputs": []
    },
    {
      "cell_type": "code",
      "metadata": {
        "id": "w_dbJ528aj1R",
        "colab_type": "code",
        "colab": {}
      },
      "source": [
        ""
      ],
      "execution_count": 0,
      "outputs": []
    }
  ]
}