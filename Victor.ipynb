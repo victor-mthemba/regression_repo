{
  "nbformat": 4,
  "nbformat_minor": 0,
  "metadata": {
    "kernelspec": {
      "display_name": "Python 3",
      "language": "python",
      "name": "python3"
    },
    "language_info": {
      "codemirror_mode": {
        "name": "ipython",
        "version": 3
      },
      "file_extension": ".py",
      "mimetype": "text/x-python",
      "name": "python",
      "nbconvert_exporter": "python",
      "pygments_lexer": "ipython3",
      "version": "3.7.4"
    },
    "colab": {
      "name": "Victor.ipynb",
      "provenance": [],
      "collapsed_sections": [],
      "include_colab_link": true
    }
  },
  "cells": [
    {
      "cell_type": "markdown",
      "metadata": {
        "id": "view-in-github",
        "colab_type": "text"
      },
      "source": [
        "<a href=\"https://colab.research.google.com/github/victor-mthemba/regression_repo/blob/master/Victor.ipynb\" target=\"_parent\"><img src=\"https://colab.research.google.com/assets/colab-badge.svg\" alt=\"Open In Colab\"/></a>"
      ]
    },
    {
      "cell_type": "code",
      "metadata": {
        "id": "TTwbEf-fgMgj",
        "colab_type": "code",
        "colab": {}
      },
      "source": [
        "import pandas as pd\n",
        "import numpy as np\n",
        "import seaborn as sns\n",
        "import matplotlib.pyplot as plt\n",
        "\n"
      ],
      "execution_count": 0,
      "outputs": []
    },
    {
      "cell_type": "markdown",
      "metadata": {
        "id": "J3EFs_jDgMgm",
        "colab_type": "text"
      },
      "source": [
        "# Reading the datasets"
      ]
    },
    {
      "cell_type": "code",
      "metadata": {
        "id": "6ylZjV0xgMgn",
        "colab_type": "code",
        "colab": {}
      },
      "source": [
        "data = pd.read_csv(\"Train.csv\")\n",
        "test = pd.read_csv(\"Test.csv\")"
      ],
      "execution_count": 0,
      "outputs": []
    },
    {
      "cell_type": "code",
      "metadata": {
        "id": "yFtTt45ogMgp",
        "colab_type": "code",
        "colab": {},
        "outputId": "f153b375-7faa-45aa-8a33-bcb330dbd623"
      },
      "source": [
        "data.head()"
      ],
      "execution_count": 0,
      "outputs": [
        {
          "output_type": "execute_result",
          "data": {
            "text/html": [
              "<div>\n",
              "<style scoped>\n",
              "    .dataframe tbody tr th:only-of-type {\n",
              "        vertical-align: middle;\n",
              "    }\n",
              "\n",
              "    .dataframe tbody tr th {\n",
              "        vertical-align: top;\n",
              "    }\n",
              "\n",
              "    .dataframe thead th {\n",
              "        text-align: right;\n",
              "    }\n",
              "</style>\n",
              "<table border=\"1\" class=\"dataframe\">\n",
              "  <thead>\n",
              "    <tr style=\"text-align: right;\">\n",
              "      <th></th>\n",
              "      <th>Order No</th>\n",
              "      <th>User Id</th>\n",
              "      <th>Vehicle Type</th>\n",
              "      <th>Platform Type</th>\n",
              "      <th>Personal or Business</th>\n",
              "      <th>Placement - Day of Month</th>\n",
              "      <th>Placement - Weekday (Mo = 1)</th>\n",
              "      <th>Placement - Time</th>\n",
              "      <th>Confirmation - Day of Month</th>\n",
              "      <th>Confirmation - Weekday (Mo = 1)</th>\n",
              "      <th>...</th>\n",
              "      <th>Arrival at Destination - Time</th>\n",
              "      <th>Distance (KM)</th>\n",
              "      <th>Temperature</th>\n",
              "      <th>Precipitation in millimeters</th>\n",
              "      <th>Pickup Lat</th>\n",
              "      <th>Pickup Long</th>\n",
              "      <th>Destination Lat</th>\n",
              "      <th>Destination Long</th>\n",
              "      <th>Rider Id</th>\n",
              "      <th>Time from Pickup to Arrival</th>\n",
              "    </tr>\n",
              "  </thead>\n",
              "  <tbody>\n",
              "    <tr>\n",
              "      <td>0</td>\n",
              "      <td>Order_No_4211</td>\n",
              "      <td>User_Id_633</td>\n",
              "      <td>Bike</td>\n",
              "      <td>3</td>\n",
              "      <td>Business</td>\n",
              "      <td>9</td>\n",
              "      <td>5</td>\n",
              "      <td>9:35:46 AM</td>\n",
              "      <td>9</td>\n",
              "      <td>5</td>\n",
              "      <td>...</td>\n",
              "      <td>10:39:55 AM</td>\n",
              "      <td>4</td>\n",
              "      <td>20.4</td>\n",
              "      <td>NaN</td>\n",
              "      <td>-1.317755</td>\n",
              "      <td>36.830370</td>\n",
              "      <td>-1.300406</td>\n",
              "      <td>36.829741</td>\n",
              "      <td>Rider_Id_432</td>\n",
              "      <td>745</td>\n",
              "    </tr>\n",
              "    <tr>\n",
              "      <td>1</td>\n",
              "      <td>Order_No_25375</td>\n",
              "      <td>User_Id_2285</td>\n",
              "      <td>Bike</td>\n",
              "      <td>3</td>\n",
              "      <td>Personal</td>\n",
              "      <td>12</td>\n",
              "      <td>5</td>\n",
              "      <td>11:16:16 AM</td>\n",
              "      <td>12</td>\n",
              "      <td>5</td>\n",
              "      <td>...</td>\n",
              "      <td>12:17:22 PM</td>\n",
              "      <td>16</td>\n",
              "      <td>26.4</td>\n",
              "      <td>NaN</td>\n",
              "      <td>-1.351453</td>\n",
              "      <td>36.899315</td>\n",
              "      <td>-1.295004</td>\n",
              "      <td>36.814358</td>\n",
              "      <td>Rider_Id_856</td>\n",
              "      <td>1993</td>\n",
              "    </tr>\n",
              "    <tr>\n",
              "      <td>2</td>\n",
              "      <td>Order_No_1899</td>\n",
              "      <td>User_Id_265</td>\n",
              "      <td>Bike</td>\n",
              "      <td>3</td>\n",
              "      <td>Business</td>\n",
              "      <td>30</td>\n",
              "      <td>2</td>\n",
              "      <td>12:39:25 PM</td>\n",
              "      <td>30</td>\n",
              "      <td>2</td>\n",
              "      <td>...</td>\n",
              "      <td>1:00:38 PM</td>\n",
              "      <td>3</td>\n",
              "      <td>NaN</td>\n",
              "      <td>NaN</td>\n",
              "      <td>-1.308284</td>\n",
              "      <td>36.843419</td>\n",
              "      <td>-1.300921</td>\n",
              "      <td>36.828195</td>\n",
              "      <td>Rider_Id_155</td>\n",
              "      <td>455</td>\n",
              "    </tr>\n",
              "    <tr>\n",
              "      <td>3</td>\n",
              "      <td>Order_No_9336</td>\n",
              "      <td>User_Id_1402</td>\n",
              "      <td>Bike</td>\n",
              "      <td>3</td>\n",
              "      <td>Business</td>\n",
              "      <td>15</td>\n",
              "      <td>5</td>\n",
              "      <td>9:25:34 AM</td>\n",
              "      <td>15</td>\n",
              "      <td>5</td>\n",
              "      <td>...</td>\n",
              "      <td>10:05:27 AM</td>\n",
              "      <td>9</td>\n",
              "      <td>19.2</td>\n",
              "      <td>NaN</td>\n",
              "      <td>-1.281301</td>\n",
              "      <td>36.832396</td>\n",
              "      <td>-1.257147</td>\n",
              "      <td>36.795063</td>\n",
              "      <td>Rider_Id_855</td>\n",
              "      <td>1341</td>\n",
              "    </tr>\n",
              "    <tr>\n",
              "      <td>4</td>\n",
              "      <td>Order_No_27883</td>\n",
              "      <td>User_Id_1737</td>\n",
              "      <td>Bike</td>\n",
              "      <td>1</td>\n",
              "      <td>Personal</td>\n",
              "      <td>13</td>\n",
              "      <td>1</td>\n",
              "      <td>9:55:18 AM</td>\n",
              "      <td>13</td>\n",
              "      <td>1</td>\n",
              "      <td>...</td>\n",
              "      <td>10:25:37 AM</td>\n",
              "      <td>9</td>\n",
              "      <td>15.4</td>\n",
              "      <td>NaN</td>\n",
              "      <td>-1.266597</td>\n",
              "      <td>36.792118</td>\n",
              "      <td>-1.295041</td>\n",
              "      <td>36.809817</td>\n",
              "      <td>Rider_Id_770</td>\n",
              "      <td>1214</td>\n",
              "    </tr>\n",
              "  </tbody>\n",
              "</table>\n",
              "<p>5 rows × 29 columns</p>\n",
              "</div>"
            ],
            "text/plain": [
              "         Order No       User Id Vehicle Type  Platform Type  \\\n",
              "0   Order_No_4211   User_Id_633         Bike              3   \n",
              "1  Order_No_25375  User_Id_2285         Bike              3   \n",
              "2   Order_No_1899   User_Id_265         Bike              3   \n",
              "3   Order_No_9336  User_Id_1402         Bike              3   \n",
              "4  Order_No_27883  User_Id_1737         Bike              1   \n",
              "\n",
              "  Personal or Business  Placement - Day of Month  \\\n",
              "0             Business                         9   \n",
              "1             Personal                        12   \n",
              "2             Business                        30   \n",
              "3             Business                        15   \n",
              "4             Personal                        13   \n",
              "\n",
              "   Placement - Weekday (Mo = 1) Placement - Time  Confirmation - Day of Month  \\\n",
              "0                             5       9:35:46 AM                            9   \n",
              "1                             5      11:16:16 AM                           12   \n",
              "2                             2      12:39:25 PM                           30   \n",
              "3                             5       9:25:34 AM                           15   \n",
              "4                             1       9:55:18 AM                           13   \n",
              "\n",
              "   Confirmation - Weekday (Mo = 1)  ... Arrival at Destination - Time  \\\n",
              "0                                5  ...                   10:39:55 AM   \n",
              "1                                5  ...                   12:17:22 PM   \n",
              "2                                2  ...                    1:00:38 PM   \n",
              "3                                5  ...                   10:05:27 AM   \n",
              "4                                1  ...                   10:25:37 AM   \n",
              "\n",
              "   Distance (KM)  Temperature Precipitation in millimeters  Pickup Lat  \\\n",
              "0              4         20.4                          NaN   -1.317755   \n",
              "1             16         26.4                          NaN   -1.351453   \n",
              "2              3          NaN                          NaN   -1.308284   \n",
              "3              9         19.2                          NaN   -1.281301   \n",
              "4              9         15.4                          NaN   -1.266597   \n",
              "\n",
              "   Pickup Long Destination Lat  Destination Long      Rider Id  \\\n",
              "0    36.830370       -1.300406         36.829741  Rider_Id_432   \n",
              "1    36.899315       -1.295004         36.814358  Rider_Id_856   \n",
              "2    36.843419       -1.300921         36.828195  Rider_Id_155   \n",
              "3    36.832396       -1.257147         36.795063  Rider_Id_855   \n",
              "4    36.792118       -1.295041         36.809817  Rider_Id_770   \n",
              "\n",
              "  Time from Pickup to Arrival  \n",
              "0                         745  \n",
              "1                        1993  \n",
              "2                         455  \n",
              "3                        1341  \n",
              "4                        1214  \n",
              "\n",
              "[5 rows x 29 columns]"
            ]
          },
          "metadata": {
            "tags": []
          },
          "execution_count": 4
        }
      ]
    },
    {
      "cell_type": "code",
      "metadata": {
        "id": "X78UHbFfgMgs",
        "colab_type": "code",
        "colab": {},
        "outputId": "8200178a-ed98-4191-e3da-f14943a109e5"
      },
      "source": [
        "test.head()"
      ],
      "execution_count": 0,
      "outputs": [
        {
          "output_type": "execute_result",
          "data": {
            "text/html": [
              "<div>\n",
              "<style scoped>\n",
              "    .dataframe tbody tr th:only-of-type {\n",
              "        vertical-align: middle;\n",
              "    }\n",
              "\n",
              "    .dataframe tbody tr th {\n",
              "        vertical-align: top;\n",
              "    }\n",
              "\n",
              "    .dataframe thead th {\n",
              "        text-align: right;\n",
              "    }\n",
              "</style>\n",
              "<table border=\"1\" class=\"dataframe\">\n",
              "  <thead>\n",
              "    <tr style=\"text-align: right;\">\n",
              "      <th></th>\n",
              "      <th>Order No</th>\n",
              "      <th>User Id</th>\n",
              "      <th>Vehicle Type</th>\n",
              "      <th>Platform Type</th>\n",
              "      <th>Personal or Business</th>\n",
              "      <th>Placement - Day of Month</th>\n",
              "      <th>Placement - Weekday (Mo = 1)</th>\n",
              "      <th>Placement - Time</th>\n",
              "      <th>Confirmation - Day of Month</th>\n",
              "      <th>Confirmation - Weekday (Mo = 1)</th>\n",
              "      <th>...</th>\n",
              "      <th>Pickup - Weekday (Mo = 1)</th>\n",
              "      <th>Pickup - Time</th>\n",
              "      <th>Distance (KM)</th>\n",
              "      <th>Temperature</th>\n",
              "      <th>Precipitation in millimeters</th>\n",
              "      <th>Pickup Lat</th>\n",
              "      <th>Pickup Long</th>\n",
              "      <th>Destination Lat</th>\n",
              "      <th>Destination Long</th>\n",
              "      <th>Rider Id</th>\n",
              "    </tr>\n",
              "  </thead>\n",
              "  <tbody>\n",
              "    <tr>\n",
              "      <td>0</td>\n",
              "      <td>Order_No_19248</td>\n",
              "      <td>User_Id_3355</td>\n",
              "      <td>Bike</td>\n",
              "      <td>3</td>\n",
              "      <td>Business</td>\n",
              "      <td>27</td>\n",
              "      <td>3</td>\n",
              "      <td>4:44:10 PM</td>\n",
              "      <td>27</td>\n",
              "      <td>3</td>\n",
              "      <td>...</td>\n",
              "      <td>3</td>\n",
              "      <td>5:06:47 PM</td>\n",
              "      <td>8</td>\n",
              "      <td>NaN</td>\n",
              "      <td>NaN</td>\n",
              "      <td>-1.333275</td>\n",
              "      <td>36.870815</td>\n",
              "      <td>-1.305249</td>\n",
              "      <td>36.822390</td>\n",
              "      <td>Rider_Id_192</td>\n",
              "    </tr>\n",
              "    <tr>\n",
              "      <td>1</td>\n",
              "      <td>Order_No_12736</td>\n",
              "      <td>User_Id_3647</td>\n",
              "      <td>Bike</td>\n",
              "      <td>3</td>\n",
              "      <td>Business</td>\n",
              "      <td>17</td>\n",
              "      <td>5</td>\n",
              "      <td>12:57:35 PM</td>\n",
              "      <td>17</td>\n",
              "      <td>5</td>\n",
              "      <td>...</td>\n",
              "      <td>5</td>\n",
              "      <td>1:25:37 PM</td>\n",
              "      <td>5</td>\n",
              "      <td>NaN</td>\n",
              "      <td>NaN</td>\n",
              "      <td>-1.272639</td>\n",
              "      <td>36.794723</td>\n",
              "      <td>-1.277007</td>\n",
              "      <td>36.823907</td>\n",
              "      <td>Rider_Id_868</td>\n",
              "    </tr>\n",
              "    <tr>\n",
              "      <td>2</td>\n",
              "      <td>Order_No_768</td>\n",
              "      <td>User_Id_2154</td>\n",
              "      <td>Bike</td>\n",
              "      <td>3</td>\n",
              "      <td>Business</td>\n",
              "      <td>27</td>\n",
              "      <td>4</td>\n",
              "      <td>11:08:14 AM</td>\n",
              "      <td>27</td>\n",
              "      <td>4</td>\n",
              "      <td>...</td>\n",
              "      <td>4</td>\n",
              "      <td>11:57:54 AM</td>\n",
              "      <td>5</td>\n",
              "      <td>22.8</td>\n",
              "      <td>NaN</td>\n",
              "      <td>-1.290894</td>\n",
              "      <td>36.822971</td>\n",
              "      <td>-1.276574</td>\n",
              "      <td>36.851365</td>\n",
              "      <td>Rider_Id_26</td>\n",
              "    </tr>\n",
              "    <tr>\n",
              "      <td>3</td>\n",
              "      <td>Order_No_15332</td>\n",
              "      <td>User_Id_2910</td>\n",
              "      <td>Bike</td>\n",
              "      <td>3</td>\n",
              "      <td>Business</td>\n",
              "      <td>17</td>\n",
              "      <td>1</td>\n",
              "      <td>1:51:35 PM</td>\n",
              "      <td>17</td>\n",
              "      <td>1</td>\n",
              "      <td>...</td>\n",
              "      <td>1</td>\n",
              "      <td>2:16:52 PM</td>\n",
              "      <td>5</td>\n",
              "      <td>24.5</td>\n",
              "      <td>NaN</td>\n",
              "      <td>-1.290503</td>\n",
              "      <td>36.809646</td>\n",
              "      <td>-1.303382</td>\n",
              "      <td>36.790658</td>\n",
              "      <td>Rider_Id_685</td>\n",
              "    </tr>\n",
              "    <tr>\n",
              "      <td>4</td>\n",
              "      <td>Order_No_21373</td>\n",
              "      <td>User_Id_1205</td>\n",
              "      <td>Bike</td>\n",
              "      <td>3</td>\n",
              "      <td>Business</td>\n",
              "      <td>11</td>\n",
              "      <td>2</td>\n",
              "      <td>11:30:28 AM</td>\n",
              "      <td>11</td>\n",
              "      <td>2</td>\n",
              "      <td>...</td>\n",
              "      <td>2</td>\n",
              "      <td>11:56:04 AM</td>\n",
              "      <td>6</td>\n",
              "      <td>24.4</td>\n",
              "      <td>NaN</td>\n",
              "      <td>-1.281081</td>\n",
              "      <td>36.814423</td>\n",
              "      <td>-1.266467</td>\n",
              "      <td>36.792161</td>\n",
              "      <td>Rider_Id_858</td>\n",
              "    </tr>\n",
              "  </tbody>\n",
              "</table>\n",
              "<p>5 rows × 25 columns</p>\n",
              "</div>"
            ],
            "text/plain": [
              "         Order No       User Id Vehicle Type  Platform Type  \\\n",
              "0  Order_No_19248  User_Id_3355         Bike              3   \n",
              "1  Order_No_12736  User_Id_3647         Bike              3   \n",
              "2    Order_No_768  User_Id_2154         Bike              3   \n",
              "3  Order_No_15332  User_Id_2910         Bike              3   \n",
              "4  Order_No_21373  User_Id_1205         Bike              3   \n",
              "\n",
              "  Personal or Business  Placement - Day of Month  \\\n",
              "0             Business                        27   \n",
              "1             Business                        17   \n",
              "2             Business                        27   \n",
              "3             Business                        17   \n",
              "4             Business                        11   \n",
              "\n",
              "   Placement - Weekday (Mo = 1) Placement - Time  Confirmation - Day of Month  \\\n",
              "0                             3       4:44:10 PM                           27   \n",
              "1                             5      12:57:35 PM                           17   \n",
              "2                             4      11:08:14 AM                           27   \n",
              "3                             1       1:51:35 PM                           17   \n",
              "4                             2      11:30:28 AM                           11   \n",
              "\n",
              "   Confirmation - Weekday (Mo = 1)  ... Pickup - Weekday (Mo = 1)  \\\n",
              "0                                3  ...                         3   \n",
              "1                                5  ...                         5   \n",
              "2                                4  ...                         4   \n",
              "3                                1  ...                         1   \n",
              "4                                2  ...                         2   \n",
              "\n",
              "   Pickup - Time  Distance (KM) Temperature  Precipitation in millimeters  \\\n",
              "0     5:06:47 PM              8         NaN                           NaN   \n",
              "1     1:25:37 PM              5         NaN                           NaN   \n",
              "2    11:57:54 AM              5        22.8                           NaN   \n",
              "3     2:16:52 PM              5        24.5                           NaN   \n",
              "4    11:56:04 AM              6        24.4                           NaN   \n",
              "\n",
              "   Pickup Lat Pickup Long  Destination Lat  Destination Long      Rider Id  \n",
              "0   -1.333275   36.870815        -1.305249         36.822390  Rider_Id_192  \n",
              "1   -1.272639   36.794723        -1.277007         36.823907  Rider_Id_868  \n",
              "2   -1.290894   36.822971        -1.276574         36.851365   Rider_Id_26  \n",
              "3   -1.290503   36.809646        -1.303382         36.790658  Rider_Id_685  \n",
              "4   -1.281081   36.814423        -1.266467         36.792161  Rider_Id_858  \n",
              "\n",
              "[5 rows x 25 columns]"
            ]
          },
          "metadata": {
            "tags": []
          },
          "execution_count": 5
        }
      ]
    },
    {
      "cell_type": "code",
      "metadata": {
        "id": "G-XGNiPcgMgv",
        "colab_type": "code",
        "colab": {},
        "outputId": "6ab5b56f-bbe7-4ff8-c996-1884368c045c"
      },
      "source": [
        "\n",
        "data.head()"
      ],
      "execution_count": 0,
      "outputs": [
        {
          "output_type": "execute_result",
          "data": {
            "text/html": [
              "<div>\n",
              "<style scoped>\n",
              "    .dataframe tbody tr th:only-of-type {\n",
              "        vertical-align: middle;\n",
              "    }\n",
              "\n",
              "    .dataframe tbody tr th {\n",
              "        vertical-align: top;\n",
              "    }\n",
              "\n",
              "    .dataframe thead th {\n",
              "        text-align: right;\n",
              "    }\n",
              "</style>\n",
              "<table border=\"1\" class=\"dataframe\">\n",
              "  <thead>\n",
              "    <tr style=\"text-align: right;\">\n",
              "      <th></th>\n",
              "      <th>Order No</th>\n",
              "      <th>User Id</th>\n",
              "      <th>Vehicle Type</th>\n",
              "      <th>Platform Type</th>\n",
              "      <th>Personal or Business</th>\n",
              "      <th>Placement - Day of Month</th>\n",
              "      <th>Placement - Weekday (Mo = 1)</th>\n",
              "      <th>Placement - Time</th>\n",
              "      <th>Confirmation - Day of Month</th>\n",
              "      <th>Confirmation - Weekday (Mo = 1)</th>\n",
              "      <th>...</th>\n",
              "      <th>Arrival at Destination - Time</th>\n",
              "      <th>Distance (KM)</th>\n",
              "      <th>Temperature</th>\n",
              "      <th>Precipitation in millimeters</th>\n",
              "      <th>Pickup Lat</th>\n",
              "      <th>Pickup Long</th>\n",
              "      <th>Destination Lat</th>\n",
              "      <th>Destination Long</th>\n",
              "      <th>Rider Id</th>\n",
              "      <th>Time from Pickup to Arrival</th>\n",
              "    </tr>\n",
              "  </thead>\n",
              "  <tbody>\n",
              "    <tr>\n",
              "      <td>0</td>\n",
              "      <td>Order_No_4211</td>\n",
              "      <td>User_Id_633</td>\n",
              "      <td>Bike</td>\n",
              "      <td>3</td>\n",
              "      <td>Business</td>\n",
              "      <td>9</td>\n",
              "      <td>5</td>\n",
              "      <td>9:35:46 AM</td>\n",
              "      <td>9</td>\n",
              "      <td>5</td>\n",
              "      <td>...</td>\n",
              "      <td>10:39:55 AM</td>\n",
              "      <td>4</td>\n",
              "      <td>20.4</td>\n",
              "      <td>NaN</td>\n",
              "      <td>-1.317755</td>\n",
              "      <td>36.830370</td>\n",
              "      <td>-1.300406</td>\n",
              "      <td>36.829741</td>\n",
              "      <td>Rider_Id_432</td>\n",
              "      <td>745</td>\n",
              "    </tr>\n",
              "    <tr>\n",
              "      <td>1</td>\n",
              "      <td>Order_No_25375</td>\n",
              "      <td>User_Id_2285</td>\n",
              "      <td>Bike</td>\n",
              "      <td>3</td>\n",
              "      <td>Personal</td>\n",
              "      <td>12</td>\n",
              "      <td>5</td>\n",
              "      <td>11:16:16 AM</td>\n",
              "      <td>12</td>\n",
              "      <td>5</td>\n",
              "      <td>...</td>\n",
              "      <td>12:17:22 PM</td>\n",
              "      <td>16</td>\n",
              "      <td>26.4</td>\n",
              "      <td>NaN</td>\n",
              "      <td>-1.351453</td>\n",
              "      <td>36.899315</td>\n",
              "      <td>-1.295004</td>\n",
              "      <td>36.814358</td>\n",
              "      <td>Rider_Id_856</td>\n",
              "      <td>1993</td>\n",
              "    </tr>\n",
              "    <tr>\n",
              "      <td>2</td>\n",
              "      <td>Order_No_1899</td>\n",
              "      <td>User_Id_265</td>\n",
              "      <td>Bike</td>\n",
              "      <td>3</td>\n",
              "      <td>Business</td>\n",
              "      <td>30</td>\n",
              "      <td>2</td>\n",
              "      <td>12:39:25 PM</td>\n",
              "      <td>30</td>\n",
              "      <td>2</td>\n",
              "      <td>...</td>\n",
              "      <td>1:00:38 PM</td>\n",
              "      <td>3</td>\n",
              "      <td>NaN</td>\n",
              "      <td>NaN</td>\n",
              "      <td>-1.308284</td>\n",
              "      <td>36.843419</td>\n",
              "      <td>-1.300921</td>\n",
              "      <td>36.828195</td>\n",
              "      <td>Rider_Id_155</td>\n",
              "      <td>455</td>\n",
              "    </tr>\n",
              "    <tr>\n",
              "      <td>3</td>\n",
              "      <td>Order_No_9336</td>\n",
              "      <td>User_Id_1402</td>\n",
              "      <td>Bike</td>\n",
              "      <td>3</td>\n",
              "      <td>Business</td>\n",
              "      <td>15</td>\n",
              "      <td>5</td>\n",
              "      <td>9:25:34 AM</td>\n",
              "      <td>15</td>\n",
              "      <td>5</td>\n",
              "      <td>...</td>\n",
              "      <td>10:05:27 AM</td>\n",
              "      <td>9</td>\n",
              "      <td>19.2</td>\n",
              "      <td>NaN</td>\n",
              "      <td>-1.281301</td>\n",
              "      <td>36.832396</td>\n",
              "      <td>-1.257147</td>\n",
              "      <td>36.795063</td>\n",
              "      <td>Rider_Id_855</td>\n",
              "      <td>1341</td>\n",
              "    </tr>\n",
              "    <tr>\n",
              "      <td>4</td>\n",
              "      <td>Order_No_27883</td>\n",
              "      <td>User_Id_1737</td>\n",
              "      <td>Bike</td>\n",
              "      <td>1</td>\n",
              "      <td>Personal</td>\n",
              "      <td>13</td>\n",
              "      <td>1</td>\n",
              "      <td>9:55:18 AM</td>\n",
              "      <td>13</td>\n",
              "      <td>1</td>\n",
              "      <td>...</td>\n",
              "      <td>10:25:37 AM</td>\n",
              "      <td>9</td>\n",
              "      <td>15.4</td>\n",
              "      <td>NaN</td>\n",
              "      <td>-1.266597</td>\n",
              "      <td>36.792118</td>\n",
              "      <td>-1.295041</td>\n",
              "      <td>36.809817</td>\n",
              "      <td>Rider_Id_770</td>\n",
              "      <td>1214</td>\n",
              "    </tr>\n",
              "  </tbody>\n",
              "</table>\n",
              "<p>5 rows × 29 columns</p>\n",
              "</div>"
            ],
            "text/plain": [
              "         Order No       User Id Vehicle Type  Platform Type  \\\n",
              "0   Order_No_4211   User_Id_633         Bike              3   \n",
              "1  Order_No_25375  User_Id_2285         Bike              3   \n",
              "2   Order_No_1899   User_Id_265         Bike              3   \n",
              "3   Order_No_9336  User_Id_1402         Bike              3   \n",
              "4  Order_No_27883  User_Id_1737         Bike              1   \n",
              "\n",
              "  Personal or Business  Placement - Day of Month  \\\n",
              "0             Business                         9   \n",
              "1             Personal                        12   \n",
              "2             Business                        30   \n",
              "3             Business                        15   \n",
              "4             Personal                        13   \n",
              "\n",
              "   Placement - Weekday (Mo = 1) Placement - Time  Confirmation - Day of Month  \\\n",
              "0                             5       9:35:46 AM                            9   \n",
              "1                             5      11:16:16 AM                           12   \n",
              "2                             2      12:39:25 PM                           30   \n",
              "3                             5       9:25:34 AM                           15   \n",
              "4                             1       9:55:18 AM                           13   \n",
              "\n",
              "   Confirmation - Weekday (Mo = 1)  ... Arrival at Destination - Time  \\\n",
              "0                                5  ...                   10:39:55 AM   \n",
              "1                                5  ...                   12:17:22 PM   \n",
              "2                                2  ...                    1:00:38 PM   \n",
              "3                                5  ...                   10:05:27 AM   \n",
              "4                                1  ...                   10:25:37 AM   \n",
              "\n",
              "   Distance (KM)  Temperature Precipitation in millimeters  Pickup Lat  \\\n",
              "0              4         20.4                          NaN   -1.317755   \n",
              "1             16         26.4                          NaN   -1.351453   \n",
              "2              3          NaN                          NaN   -1.308284   \n",
              "3              9         19.2                          NaN   -1.281301   \n",
              "4              9         15.4                          NaN   -1.266597   \n",
              "\n",
              "   Pickup Long Destination Lat  Destination Long      Rider Id  \\\n",
              "0    36.830370       -1.300406         36.829741  Rider_Id_432   \n",
              "1    36.899315       -1.295004         36.814358  Rider_Id_856   \n",
              "2    36.843419       -1.300921         36.828195  Rider_Id_155   \n",
              "3    36.832396       -1.257147         36.795063  Rider_Id_855   \n",
              "4    36.792118       -1.295041         36.809817  Rider_Id_770   \n",
              "\n",
              "  Time from Pickup to Arrival  \n",
              "0                         745  \n",
              "1                        1993  \n",
              "2                         455  \n",
              "3                        1341  \n",
              "4                        1214  \n",
              "\n",
              "[5 rows x 29 columns]"
            ]
          },
          "metadata": {
            "tags": []
          },
          "execution_count": 6
        }
      ]
    },
    {
      "cell_type": "code",
      "metadata": {
        "id": "HA9Ibg2agMgx",
        "colab_type": "code",
        "colab": {}
      },
      "source": [
        "riders = pd.read_csv('Riders.csv')"
      ],
      "execution_count": 0,
      "outputs": []
    },
    {
      "cell_type": "markdown",
      "metadata": {
        "id": "A9869HpKgMgz",
        "colab_type": "text"
      },
      "source": [
        "# joining in the wholedatasets"
      ]
    },
    {
      "cell_type": "code",
      "metadata": {
        "id": "Lnc7eCxYgMgz",
        "colab_type": "code",
        "colab": {},
        "outputId": "c8bee6ac-4bc0-40f3-c32c-f74893589c21"
      },
      "source": [
        "ntrain = data.shape[0]\n",
        "ntest = test.shape[0]\n",
        "\n",
        "all_data = pd.concat((data, test)).reset_index(drop=True)\n",
        "print(\"all_data size is : {}\".format(all_data.shape))"
      ],
      "execution_count": 0,
      "outputs": [
        {
          "output_type": "stream",
          "text": [
            "C:\\Users\\Victor\\Anaconda3\\lib\\site-packages\\ipykernel_launcher.py:4: FutureWarning: Sorting because non-concatenation axis is not aligned. A future version\n",
            "of pandas will change to not sort by default.\n",
            "\n",
            "To accept the future behavior, pass 'sort=False'.\n",
            "\n",
            "To retain the current behavior and silence the warning, pass 'sort=True'.\n",
            "\n",
            "  after removing the cwd from sys.path.\n"
          ],
          "name": "stderr"
        },
        {
          "output_type": "stream",
          "text": [
            "all_data size is : (28269, 29)\n"
          ],
          "name": "stdout"
        }
      ]
    },
    {
      "cell_type": "code",
      "metadata": {
        "id": "m59Duis9gMg2",
        "colab_type": "code",
        "colab": {}
      },
      "source": [
        "all_data.columns = ['Arrival at Destination - Day of Month',\n",
        "       'Arrival at Destination - Time',\n",
        "       'Arrival at Destination - Weekday (Mo = 1)',\n",
        "       'Arrival at Pickup - Day of Month', 'Arrival at Pickup - Time',\n",
        "       'Arrival at Pickup - Weekday (Mo = 1)', 'Confirmation - Day of Month',\n",
        "       'Confirmation - Time', 'Confirmation - Weekday (Mo = 1)',\n",
        "       'Latitude', 'Longitude', 'Distance (KM)', 'Order No',\n",
        "       'Personal or Business', 'Pickup - Day of Month', 'Pickup - Time',\n",
        "       'Pickup - Weekday (Mo = 1)', 'latitude2', 'longitude',\n",
        "       'Placement - Day of Month', 'Placement - Time',\n",
        "       'Placement - Weekday (Mo = 1)', 'Platform Type',\n",
        "       'Precipitation in millimeters', 'Rider Id', 'Temperature',\n",
        "       'Time from Pickup to Arrival', 'User Id', 'Vehicle Type']"
      ],
      "execution_count": 0,
      "outputs": []
    },
    {
      "cell_type": "code",
      "metadata": {
        "id": "AgmC2GKngMg4",
        "colab_type": "code",
        "colab": {}
      },
      "source": [
        "all_data['pickup_datetime'] = pd.to_datetime(all_data['Placement - Time'])\n",
        "all_data.loc[:, 'pickup_date'] = all_data['pickup_datetime'].dt.date\n",
        "all_data['dropoff_datetime'] = pd.to_datetime(all_data['Confirmation - Time'])\n",
        "all_data['check_trip_duration12'] = (all_data['dropoff_datetime'] - all_data['pickup_datetime']).map(lambda x: x.total_seconds())\n",
        "\n",
        "all_data.drop([\"dropoff_datetime\",\"pickup_date\",\"pickup_datetime\"],axis =1,inplace = True)"
      ],
      "execution_count": 0,
      "outputs": []
    },
    {
      "cell_type": "code",
      "metadata": {
        "id": "Qm3pFpRHgMg7",
        "colab_type": "code",
        "colab": {},
        "outputId": "69e2f64d-e954-4fdd-e219-8a50d68b15d9"
      },
      "source": [
        "all_data.dtypes"
      ],
      "execution_count": 0,
      "outputs": [
        {
          "output_type": "execute_result",
          "data": {
            "text/plain": [
              "Arrival at Destination - Day of Month        float64\n",
              "Arrival at Destination - Time                 object\n",
              "Arrival at Destination - Weekday (Mo = 1)    float64\n",
              "Arrival at Pickup - Day of Month               int64\n",
              "Arrival at Pickup - Time                      object\n",
              "Arrival at Pickup - Weekday (Mo = 1)           int64\n",
              "Confirmation - Day of Month                    int64\n",
              "Confirmation - Time                           object\n",
              "Confirmation - Weekday (Mo = 1)                int64\n",
              "Latitude                                     float64\n",
              "Longitude                                    float64\n",
              "Distance (KM)                                  int64\n",
              "Order No                                      object\n",
              "Personal or Business                          object\n",
              "Pickup - Day of Month                          int64\n",
              "Pickup - Time                                 object\n",
              "Pickup - Weekday (Mo = 1)                      int64\n",
              "latitude2                                    float64\n",
              "longitude                                    float64\n",
              "Placement - Day of Month                       int64\n",
              "Placement - Time                              object\n",
              "Placement - Weekday (Mo = 1)                   int64\n",
              "Platform Type                                  int64\n",
              "Precipitation in millimeters                 float64\n",
              "Rider Id                                      object\n",
              "Temperature                                  float64\n",
              "Time from Pickup to Arrival                  float64\n",
              "User Id                                       object\n",
              "Vehicle Type                                  object\n",
              "check_trip_duration12                        float64\n",
              "dtype: object"
            ]
          },
          "metadata": {
            "tags": []
          },
          "execution_count": 11
        }
      ]
    },
    {
      "cell_type": "code",
      "metadata": {
        "id": "U7e_P3izgMg9",
        "colab_type": "code",
        "colab": {}
      },
      "source": [
        "all_data['pickup_datetime'] = pd.to_datetime(all_data['Pickup - Time'])\n",
        "all_data.loc[:, 'pickup_date'] = all_data['pickup_datetime'].dt.date\n",
        "all_data['dropoff_datetime'] = pd.to_datetime(all_data['Arrival at Pickup - Time'])\n",
        "\n",
        "all_data['check_trip_duration'] = (all_data['dropoff_datetime'] - all_data['pickup_datetime']).map(lambda x: x.total_seconds())\n",
        "\n",
        "all_data.drop([\"dropoff_datetime\",\"pickup_date\",\"pickup_datetime\"],axis =1,inplace = True)"
      ],
      "execution_count": 0,
      "outputs": []
    },
    {
      "cell_type": "code",
      "metadata": {
        "id": "ttjx0kevgMg_",
        "colab_type": "code",
        "colab": {}
      },
      "source": [
        "all_data.drop([\"Arrival at Destination - Day of Month\",\"Arrival at Destination - Weekday (Mo = 1)\",\"Arrival at Destination - Time\"],axis = 1,inplace =True)"
      ],
      "execution_count": 0,
      "outputs": []
    },
    {
      "cell_type": "code",
      "metadata": {
        "id": "Ftrjabk-gMhB",
        "colab_type": "code",
        "colab": {}
      },
      "source": [
        "all_data.check_trip_duration  = np.abs(all_data.check_trip_duration)"
      ],
      "execution_count": 0,
      "outputs": []
    },
    {
      "cell_type": "code",
      "metadata": {
        "id": "YDDbFaRagMhD",
        "colab_type": "code",
        "colab": {}
      },
      "source": [
        "#all_data['tripping '] = all_data.check_trip_duration + all_data.check_trip_duration12"
      ],
      "execution_count": 0,
      "outputs": []
    },
    {
      "cell_type": "code",
      "metadata": {
        "id": "teiXgoYZgMhF",
        "colab_type": "code",
        "colab": {}
      },
      "source": [
        ""
      ],
      "execution_count": 0,
      "outputs": []
    },
    {
      "cell_type": "code",
      "metadata": {
        "id": "9dHqUFwigMhH",
        "colab_type": "code",
        "colab": {}
      },
      "source": [
        "#all_data[\"checkkk\"] = all_data.check_trip_duration**(1/3)"
      ],
      "execution_count": 0,
      "outputs": []
    },
    {
      "cell_type": "code",
      "metadata": {
        "id": "67nRNKNDgMhI",
        "colab_type": "code",
        "colab": {}
      },
      "source": [
        "#(all_data.check_trip_duration**(1/3)).hist()"
      ],
      "execution_count": 0,
      "outputs": []
    },
    {
      "cell_type": "code",
      "metadata": {
        "id": "4uk2BorlgMhK",
        "colab_type": "code",
        "colab": {}
      },
      "source": [
        "all_data.drop('check_trip_duration',axis = 1,inplace = True)"
      ],
      "execution_count": 0,
      "outputs": []
    },
    {
      "cell_type": "code",
      "metadata": {
        "id": "6fj4rR6ngMhM",
        "colab_type": "code",
        "colab": {},
        "outputId": "54adb912-7998-471a-8f9b-a75dd9242e1d"
      },
      "source": [
        "riders.head()"
      ],
      "execution_count": 0,
      "outputs": [
        {
          "output_type": "execute_result",
          "data": {
            "text/html": [
              "<div>\n",
              "<style scoped>\n",
              "    .dataframe tbody tr th:only-of-type {\n",
              "        vertical-align: middle;\n",
              "    }\n",
              "\n",
              "    .dataframe tbody tr th {\n",
              "        vertical-align: top;\n",
              "    }\n",
              "\n",
              "    .dataframe thead th {\n",
              "        text-align: right;\n",
              "    }\n",
              "</style>\n",
              "<table border=\"1\" class=\"dataframe\">\n",
              "  <thead>\n",
              "    <tr style=\"text-align: right;\">\n",
              "      <th></th>\n",
              "      <th>Rider Id</th>\n",
              "      <th>No_Of_Orders</th>\n",
              "      <th>Age</th>\n",
              "      <th>Average_Rating</th>\n",
              "      <th>No_of_Ratings</th>\n",
              "    </tr>\n",
              "  </thead>\n",
              "  <tbody>\n",
              "    <tr>\n",
              "      <td>0</td>\n",
              "      <td>Rider_Id_396</td>\n",
              "      <td>2946</td>\n",
              "      <td>2298</td>\n",
              "      <td>14.0</td>\n",
              "      <td>1159</td>\n",
              "    </tr>\n",
              "    <tr>\n",
              "      <td>1</td>\n",
              "      <td>Rider_Id_479</td>\n",
              "      <td>360</td>\n",
              "      <td>951</td>\n",
              "      <td>13.5</td>\n",
              "      <td>176</td>\n",
              "    </tr>\n",
              "    <tr>\n",
              "      <td>2</td>\n",
              "      <td>Rider_Id_648</td>\n",
              "      <td>1746</td>\n",
              "      <td>821</td>\n",
              "      <td>14.3</td>\n",
              "      <td>466</td>\n",
              "    </tr>\n",
              "    <tr>\n",
              "      <td>3</td>\n",
              "      <td>Rider_Id_753</td>\n",
              "      <td>314</td>\n",
              "      <td>980</td>\n",
              "      <td>12.5</td>\n",
              "      <td>75</td>\n",
              "    </tr>\n",
              "    <tr>\n",
              "      <td>4</td>\n",
              "      <td>Rider_Id_335</td>\n",
              "      <td>536</td>\n",
              "      <td>1113</td>\n",
              "      <td>13.7</td>\n",
              "      <td>156</td>\n",
              "    </tr>\n",
              "  </tbody>\n",
              "</table>\n",
              "</div>"
            ],
            "text/plain": [
              "       Rider Id  No_Of_Orders   Age  Average_Rating  No_of_Ratings\n",
              "0  Rider_Id_396          2946  2298            14.0           1159\n",
              "1  Rider_Id_479           360   951            13.5            176\n",
              "2  Rider_Id_648          1746   821            14.3            466\n",
              "3  Rider_Id_753           314   980            12.5             75\n",
              "4  Rider_Id_335           536  1113            13.7            156"
            ]
          },
          "metadata": {
            "tags": []
          },
          "execution_count": 19
        }
      ]
    },
    {
      "cell_type": "code",
      "metadata": {
        "id": "okyB1hWmgMhN",
        "colab_type": "code",
        "colab": {},
        "outputId": "b628438a-9445-4e4d-e233-aefd582761e8"
      },
      "source": [
        "all_data.shape"
      ],
      "execution_count": 0,
      "outputs": [
        {
          "output_type": "execute_result",
          "data": {
            "text/plain": [
              "(28269, 27)"
            ]
          },
          "metadata": {
            "tags": []
          },
          "execution_count": 20
        }
      ]
    },
    {
      "cell_type": "code",
      "metadata": {
        "id": "vcU4sG5ggMhP",
        "colab_type": "code",
        "colab": {}
      },
      "source": [
        "all_data = pd.merge(all_data,riders,how = 'left',on = ['Rider Id'])"
      ],
      "execution_count": 0,
      "outputs": []
    },
    {
      "cell_type": "code",
      "metadata": {
        "id": "TVfbP0tvgMhR",
        "colab_type": "code",
        "colab": {},
        "outputId": "049957cf-2baf-43cc-f71e-f562d09a30dc"
      },
      "source": [
        "all_data.head()"
      ],
      "execution_count": 0,
      "outputs": [
        {
          "output_type": "execute_result",
          "data": {
            "text/html": [
              "<div>\n",
              "<style scoped>\n",
              "    .dataframe tbody tr th:only-of-type {\n",
              "        vertical-align: middle;\n",
              "    }\n",
              "\n",
              "    .dataframe tbody tr th {\n",
              "        vertical-align: top;\n",
              "    }\n",
              "\n",
              "    .dataframe thead th {\n",
              "        text-align: right;\n",
              "    }\n",
              "</style>\n",
              "<table border=\"1\" class=\"dataframe\">\n",
              "  <thead>\n",
              "    <tr style=\"text-align: right;\">\n",
              "      <th></th>\n",
              "      <th>Arrival at Pickup - Day of Month</th>\n",
              "      <th>Arrival at Pickup - Time</th>\n",
              "      <th>Arrival at Pickup - Weekday (Mo = 1)</th>\n",
              "      <th>Confirmation - Day of Month</th>\n",
              "      <th>Confirmation - Time</th>\n",
              "      <th>Confirmation - Weekday (Mo = 1)</th>\n",
              "      <th>Latitude</th>\n",
              "      <th>Longitude</th>\n",
              "      <th>Distance (KM)</th>\n",
              "      <th>Order No</th>\n",
              "      <th>...</th>\n",
              "      <th>Rider Id</th>\n",
              "      <th>Temperature</th>\n",
              "      <th>Time from Pickup to Arrival</th>\n",
              "      <th>User Id</th>\n",
              "      <th>Vehicle Type</th>\n",
              "      <th>check_trip_duration12</th>\n",
              "      <th>No_Of_Orders</th>\n",
              "      <th>Age</th>\n",
              "      <th>Average_Rating</th>\n",
              "      <th>No_of_Ratings</th>\n",
              "    </tr>\n",
              "  </thead>\n",
              "  <tbody>\n",
              "    <tr>\n",
              "      <td>0</td>\n",
              "      <td>9</td>\n",
              "      <td>10:04:47 AM</td>\n",
              "      <td>5</td>\n",
              "      <td>9</td>\n",
              "      <td>9:40:10 AM</td>\n",
              "      <td>5</td>\n",
              "      <td>-1.300406</td>\n",
              "      <td>36.829741</td>\n",
              "      <td>4</td>\n",
              "      <td>Order_No_4211</td>\n",
              "      <td>...</td>\n",
              "      <td>Rider_Id_432</td>\n",
              "      <td>20.4</td>\n",
              "      <td>745.0</td>\n",
              "      <td>User_Id_633</td>\n",
              "      <td>Bike</td>\n",
              "      <td>264.0</td>\n",
              "      <td>1637</td>\n",
              "      <td>1309</td>\n",
              "      <td>13.8</td>\n",
              "      <td>549</td>\n",
              "    </tr>\n",
              "    <tr>\n",
              "      <td>1</td>\n",
              "      <td>12</td>\n",
              "      <td>11:40:22 AM</td>\n",
              "      <td>5</td>\n",
              "      <td>12</td>\n",
              "      <td>11:23:21 AM</td>\n",
              "      <td>5</td>\n",
              "      <td>-1.295004</td>\n",
              "      <td>36.814358</td>\n",
              "      <td>16</td>\n",
              "      <td>Order_No_25375</td>\n",
              "      <td>...</td>\n",
              "      <td>Rider_Id_856</td>\n",
              "      <td>26.4</td>\n",
              "      <td>1993.0</td>\n",
              "      <td>User_Id_2285</td>\n",
              "      <td>Bike</td>\n",
              "      <td>425.0</td>\n",
              "      <td>396</td>\n",
              "      <td>339</td>\n",
              "      <td>13.6</td>\n",
              "      <td>69</td>\n",
              "    </tr>\n",
              "    <tr>\n",
              "      <td>2</td>\n",
              "      <td>30</td>\n",
              "      <td>12:49:34 PM</td>\n",
              "      <td>2</td>\n",
              "      <td>30</td>\n",
              "      <td>12:42:44 PM</td>\n",
              "      <td>2</td>\n",
              "      <td>-1.300921</td>\n",
              "      <td>36.828195</td>\n",
              "      <td>3</td>\n",
              "      <td>Order_No_1899</td>\n",
              "      <td>...</td>\n",
              "      <td>Rider_Id_155</td>\n",
              "      <td>NaN</td>\n",
              "      <td>455.0</td>\n",
              "      <td>User_Id_265</td>\n",
              "      <td>Bike</td>\n",
              "      <td>199.0</td>\n",
              "      <td>1023</td>\n",
              "      <td>242</td>\n",
              "      <td>12.5</td>\n",
              "      <td>114</td>\n",
              "    </tr>\n",
              "    <tr>\n",
              "      <td>3</td>\n",
              "      <td>15</td>\n",
              "      <td>9:37:56 AM</td>\n",
              "      <td>5</td>\n",
              "      <td>15</td>\n",
              "      <td>9:26:05 AM</td>\n",
              "      <td>5</td>\n",
              "      <td>-1.257147</td>\n",
              "      <td>36.795063</td>\n",
              "      <td>9</td>\n",
              "      <td>Order_No_9336</td>\n",
              "      <td>...</td>\n",
              "      <td>Rider_Id_855</td>\n",
              "      <td>19.2</td>\n",
              "      <td>1341.0</td>\n",
              "      <td>User_Id_1402</td>\n",
              "      <td>Bike</td>\n",
              "      <td>31.0</td>\n",
              "      <td>886</td>\n",
              "      <td>283</td>\n",
              "      <td>14.5</td>\n",
              "      <td>113</td>\n",
              "    </tr>\n",
              "    <tr>\n",
              "      <td>4</td>\n",
              "      <td>13</td>\n",
              "      <td>10:03:53 AM</td>\n",
              "      <td>1</td>\n",
              "      <td>13</td>\n",
              "      <td>9:56:18 AM</td>\n",
              "      <td>1</td>\n",
              "      <td>-1.295041</td>\n",
              "      <td>36.809817</td>\n",
              "      <td>9</td>\n",
              "      <td>Order_No_27883</td>\n",
              "      <td>...</td>\n",
              "      <td>Rider_Id_770</td>\n",
              "      <td>15.4</td>\n",
              "      <td>1214.0</td>\n",
              "      <td>User_Id_1737</td>\n",
              "      <td>Bike</td>\n",
              "      <td>60.0</td>\n",
              "      <td>2311</td>\n",
              "      <td>872</td>\n",
              "      <td>14.1</td>\n",
              "      <td>533</td>\n",
              "    </tr>\n",
              "  </tbody>\n",
              "</table>\n",
              "<p>5 rows × 31 columns</p>\n",
              "</div>"
            ],
            "text/plain": [
              "   Arrival at Pickup - Day of Month Arrival at Pickup - Time  \\\n",
              "0                                 9              10:04:47 AM   \n",
              "1                                12              11:40:22 AM   \n",
              "2                                30              12:49:34 PM   \n",
              "3                                15               9:37:56 AM   \n",
              "4                                13              10:03:53 AM   \n",
              "\n",
              "   Arrival at Pickup - Weekday (Mo = 1)  Confirmation - Day of Month  \\\n",
              "0                                     5                            9   \n",
              "1                                     5                           12   \n",
              "2                                     2                           30   \n",
              "3                                     5                           15   \n",
              "4                                     1                           13   \n",
              "\n",
              "  Confirmation - Time  Confirmation - Weekday (Mo = 1)  Latitude  Longitude  \\\n",
              "0          9:40:10 AM                                5 -1.300406  36.829741   \n",
              "1         11:23:21 AM                                5 -1.295004  36.814358   \n",
              "2         12:42:44 PM                                2 -1.300921  36.828195   \n",
              "3          9:26:05 AM                                5 -1.257147  36.795063   \n",
              "4          9:56:18 AM                                1 -1.295041  36.809817   \n",
              "\n",
              "   Distance (KM)        Order No  ...      Rider Id  Temperature  \\\n",
              "0              4   Order_No_4211  ...  Rider_Id_432         20.4   \n",
              "1             16  Order_No_25375  ...  Rider_Id_856         26.4   \n",
              "2              3   Order_No_1899  ...  Rider_Id_155          NaN   \n",
              "3              9   Order_No_9336  ...  Rider_Id_855         19.2   \n",
              "4              9  Order_No_27883  ...  Rider_Id_770         15.4   \n",
              "\n",
              "  Time from Pickup to Arrival       User Id  Vehicle Type  \\\n",
              "0                       745.0   User_Id_633          Bike   \n",
              "1                      1993.0  User_Id_2285          Bike   \n",
              "2                       455.0   User_Id_265          Bike   \n",
              "3                      1341.0  User_Id_1402          Bike   \n",
              "4                      1214.0  User_Id_1737          Bike   \n",
              "\n",
              "   check_trip_duration12  No_Of_Orders   Age  Average_Rating  No_of_Ratings  \n",
              "0                  264.0          1637  1309            13.8            549  \n",
              "1                  425.0           396   339            13.6             69  \n",
              "2                  199.0          1023   242            12.5            114  \n",
              "3                   31.0           886   283            14.5            113  \n",
              "4                   60.0          2311   872            14.1            533  \n",
              "\n",
              "[5 rows x 31 columns]"
            ]
          },
          "metadata": {
            "tags": []
          },
          "execution_count": 22
        }
      ]
    },
    {
      "cell_type": "code",
      "metadata": {
        "id": "EEhreAg7gMhT",
        "colab_type": "code",
        "colab": {},
        "outputId": "fa4c4175-d0b2-43b2-8acb-28976de7bdfe"
      },
      "source": [
        "all_data.isnull().sum()"
      ],
      "execution_count": 0,
      "outputs": [
        {
          "output_type": "execute_result",
          "data": {
            "text/plain": [
              "Arrival at Pickup - Day of Month            0\n",
              "Arrival at Pickup - Time                    0\n",
              "Arrival at Pickup - Weekday (Mo = 1)        0\n",
              "Confirmation - Day of Month                 0\n",
              "Confirmation - Time                         0\n",
              "Confirmation - Weekday (Mo = 1)             0\n",
              "Latitude                                    0\n",
              "Longitude                                   0\n",
              "Distance (KM)                               0\n",
              "Order No                                    0\n",
              "Personal or Business                        0\n",
              "Pickup - Day of Month                       0\n",
              "Pickup - Time                               0\n",
              "Pickup - Weekday (Mo = 1)                   0\n",
              "latitude2                                   0\n",
              "longitude                                   0\n",
              "Placement - Day of Month                    0\n",
              "Placement - Time                            0\n",
              "Placement - Weekday (Mo = 1)                0\n",
              "Platform Type                               0\n",
              "Precipitation in millimeters            27518\n",
              "Rider Id                                    0\n",
              "Temperature                              5803\n",
              "Time from Pickup to Arrival              7068\n",
              "User Id                                     0\n",
              "Vehicle Type                                0\n",
              "check_trip_duration12                       0\n",
              "No_Of_Orders                                0\n",
              "Age                                         0\n",
              "Average_Rating                              0\n",
              "No_of_Ratings                               0\n",
              "dtype: int64"
            ]
          },
          "metadata": {
            "tags": []
          },
          "execution_count": 23
        }
      ]
    },
    {
      "cell_type": "markdown",
      "metadata": {
        "id": "9XNUcO28gMhU",
        "colab_type": "text"
      },
      "source": [
        "# checking the distribution of the datasets"
      ]
    },
    {
      "cell_type": "code",
      "metadata": {
        "id": "47CbaNWggMhV",
        "colab_type": "code",
        "colab": {},
        "outputId": "1f26e147-ee04-4976-92f4-8203dddc66bd"
      },
      "source": [
        "all_data.isnull().sum()"
      ],
      "execution_count": 0,
      "outputs": [
        {
          "output_type": "execute_result",
          "data": {
            "text/plain": [
              "Arrival at Pickup - Day of Month            0\n",
              "Arrival at Pickup - Time                    0\n",
              "Arrival at Pickup - Weekday (Mo = 1)        0\n",
              "Confirmation - Day of Month                 0\n",
              "Confirmation - Time                         0\n",
              "Confirmation - Weekday (Mo = 1)             0\n",
              "Latitude                                    0\n",
              "Longitude                                   0\n",
              "Distance (KM)                               0\n",
              "Order No                                    0\n",
              "Personal or Business                        0\n",
              "Pickup - Day of Month                       0\n",
              "Pickup - Time                               0\n",
              "Pickup - Weekday (Mo = 1)                   0\n",
              "latitude2                                   0\n",
              "longitude                                   0\n",
              "Placement - Day of Month                    0\n",
              "Placement - Time                            0\n",
              "Placement - Weekday (Mo = 1)                0\n",
              "Platform Type                               0\n",
              "Precipitation in millimeters            27518\n",
              "Rider Id                                    0\n",
              "Temperature                              5803\n",
              "Time from Pickup to Arrival              7068\n",
              "User Id                                     0\n",
              "Vehicle Type                                0\n",
              "check_trip_duration12                       0\n",
              "No_Of_Orders                                0\n",
              "Age                                         0\n",
              "Average_Rating                              0\n",
              "No_of_Ratings                               0\n",
              "dtype: int64"
            ]
          },
          "metadata": {
            "tags": []
          },
          "execution_count": 24
        }
      ]
    },
    {
      "cell_type": "code",
      "metadata": {
        "id": "_i-E72uagMhW",
        "colab_type": "code",
        "colab": {},
        "outputId": "55004104-0099-4a92-c5a6-8f70c98b2bd0"
      },
      "source": [
        "all_data.columns"
      ],
      "execution_count": 0,
      "outputs": [
        {
          "output_type": "execute_result",
          "data": {
            "text/plain": [
              "Index(['Arrival at Pickup - Day of Month', 'Arrival at Pickup - Time',\n",
              "       'Arrival at Pickup - Weekday (Mo = 1)', 'Confirmation - Day of Month',\n",
              "       'Confirmation - Time', 'Confirmation - Weekday (Mo = 1)', 'Latitude',\n",
              "       'Longitude', 'Distance (KM)', 'Order No', 'Personal or Business',\n",
              "       'Pickup - Day of Month', 'Pickup - Time', 'Pickup - Weekday (Mo = 1)',\n",
              "       'latitude2', 'longitude', 'Placement - Day of Month',\n",
              "       'Placement - Time', 'Placement - Weekday (Mo = 1)', 'Platform Type',\n",
              "       'Precipitation in millimeters', 'Rider Id', 'Temperature',\n",
              "       'Time from Pickup to Arrival', 'User Id', 'Vehicle Type',\n",
              "       'check_trip_duration12', 'No_Of_Orders', 'Age', 'Average_Rating',\n",
              "       'No_of_Ratings'],\n",
              "      dtype='object')"
            ]
          },
          "metadata": {
            "tags": []
          },
          "execution_count": 25
        }
      ]
    },
    {
      "cell_type": "code",
      "metadata": {
        "id": "cCJ6m8rQgMhY",
        "colab_type": "code",
        "colab": {}
      },
      "source": [
        "#all_data['id_count'] = all_data['Rider Id'].map(Counter(all_data['Rider Id']))\n"
      ],
      "execution_count": 0,
      "outputs": []
    },
    {
      "cell_type": "code",
      "metadata": {
        "id": "YZSgjgylgMha",
        "colab_type": "code",
        "colab": {},
        "outputId": "7864606d-64c2-484c-c520-74bd6fbdab30"
      },
      "source": [
        "all_data.head()"
      ],
      "execution_count": 0,
      "outputs": [
        {
          "output_type": "execute_result",
          "data": {
            "text/html": [
              "<div>\n",
              "<style scoped>\n",
              "    .dataframe tbody tr th:only-of-type {\n",
              "        vertical-align: middle;\n",
              "    }\n",
              "\n",
              "    .dataframe tbody tr th {\n",
              "        vertical-align: top;\n",
              "    }\n",
              "\n",
              "    .dataframe thead th {\n",
              "        text-align: right;\n",
              "    }\n",
              "</style>\n",
              "<table border=\"1\" class=\"dataframe\">\n",
              "  <thead>\n",
              "    <tr style=\"text-align: right;\">\n",
              "      <th></th>\n",
              "      <th>Arrival at Pickup - Day of Month</th>\n",
              "      <th>Arrival at Pickup - Time</th>\n",
              "      <th>Arrival at Pickup - Weekday (Mo = 1)</th>\n",
              "      <th>Confirmation - Day of Month</th>\n",
              "      <th>Confirmation - Time</th>\n",
              "      <th>Confirmation - Weekday (Mo = 1)</th>\n",
              "      <th>Latitude</th>\n",
              "      <th>Longitude</th>\n",
              "      <th>Distance (KM)</th>\n",
              "      <th>Order No</th>\n",
              "      <th>...</th>\n",
              "      <th>Rider Id</th>\n",
              "      <th>Temperature</th>\n",
              "      <th>Time from Pickup to Arrival</th>\n",
              "      <th>User Id</th>\n",
              "      <th>Vehicle Type</th>\n",
              "      <th>check_trip_duration12</th>\n",
              "      <th>No_Of_Orders</th>\n",
              "      <th>Age</th>\n",
              "      <th>Average_Rating</th>\n",
              "      <th>No_of_Ratings</th>\n",
              "    </tr>\n",
              "  </thead>\n",
              "  <tbody>\n",
              "    <tr>\n",
              "      <td>0</td>\n",
              "      <td>9</td>\n",
              "      <td>10:04:47 AM</td>\n",
              "      <td>5</td>\n",
              "      <td>9</td>\n",
              "      <td>9:40:10 AM</td>\n",
              "      <td>5</td>\n",
              "      <td>-1.300406</td>\n",
              "      <td>36.829741</td>\n",
              "      <td>4</td>\n",
              "      <td>Order_No_4211</td>\n",
              "      <td>...</td>\n",
              "      <td>Rider_Id_432</td>\n",
              "      <td>20.4</td>\n",
              "      <td>745.0</td>\n",
              "      <td>User_Id_633</td>\n",
              "      <td>Bike</td>\n",
              "      <td>264.0</td>\n",
              "      <td>1637</td>\n",
              "      <td>1309</td>\n",
              "      <td>13.8</td>\n",
              "      <td>549</td>\n",
              "    </tr>\n",
              "    <tr>\n",
              "      <td>1</td>\n",
              "      <td>12</td>\n",
              "      <td>11:40:22 AM</td>\n",
              "      <td>5</td>\n",
              "      <td>12</td>\n",
              "      <td>11:23:21 AM</td>\n",
              "      <td>5</td>\n",
              "      <td>-1.295004</td>\n",
              "      <td>36.814358</td>\n",
              "      <td>16</td>\n",
              "      <td>Order_No_25375</td>\n",
              "      <td>...</td>\n",
              "      <td>Rider_Id_856</td>\n",
              "      <td>26.4</td>\n",
              "      <td>1993.0</td>\n",
              "      <td>User_Id_2285</td>\n",
              "      <td>Bike</td>\n",
              "      <td>425.0</td>\n",
              "      <td>396</td>\n",
              "      <td>339</td>\n",
              "      <td>13.6</td>\n",
              "      <td>69</td>\n",
              "    </tr>\n",
              "    <tr>\n",
              "      <td>2</td>\n",
              "      <td>30</td>\n",
              "      <td>12:49:34 PM</td>\n",
              "      <td>2</td>\n",
              "      <td>30</td>\n",
              "      <td>12:42:44 PM</td>\n",
              "      <td>2</td>\n",
              "      <td>-1.300921</td>\n",
              "      <td>36.828195</td>\n",
              "      <td>3</td>\n",
              "      <td>Order_No_1899</td>\n",
              "      <td>...</td>\n",
              "      <td>Rider_Id_155</td>\n",
              "      <td>NaN</td>\n",
              "      <td>455.0</td>\n",
              "      <td>User_Id_265</td>\n",
              "      <td>Bike</td>\n",
              "      <td>199.0</td>\n",
              "      <td>1023</td>\n",
              "      <td>242</td>\n",
              "      <td>12.5</td>\n",
              "      <td>114</td>\n",
              "    </tr>\n",
              "    <tr>\n",
              "      <td>3</td>\n",
              "      <td>15</td>\n",
              "      <td>9:37:56 AM</td>\n",
              "      <td>5</td>\n",
              "      <td>15</td>\n",
              "      <td>9:26:05 AM</td>\n",
              "      <td>5</td>\n",
              "      <td>-1.257147</td>\n",
              "      <td>36.795063</td>\n",
              "      <td>9</td>\n",
              "      <td>Order_No_9336</td>\n",
              "      <td>...</td>\n",
              "      <td>Rider_Id_855</td>\n",
              "      <td>19.2</td>\n",
              "      <td>1341.0</td>\n",
              "      <td>User_Id_1402</td>\n",
              "      <td>Bike</td>\n",
              "      <td>31.0</td>\n",
              "      <td>886</td>\n",
              "      <td>283</td>\n",
              "      <td>14.5</td>\n",
              "      <td>113</td>\n",
              "    </tr>\n",
              "    <tr>\n",
              "      <td>4</td>\n",
              "      <td>13</td>\n",
              "      <td>10:03:53 AM</td>\n",
              "      <td>1</td>\n",
              "      <td>13</td>\n",
              "      <td>9:56:18 AM</td>\n",
              "      <td>1</td>\n",
              "      <td>-1.295041</td>\n",
              "      <td>36.809817</td>\n",
              "      <td>9</td>\n",
              "      <td>Order_No_27883</td>\n",
              "      <td>...</td>\n",
              "      <td>Rider_Id_770</td>\n",
              "      <td>15.4</td>\n",
              "      <td>1214.0</td>\n",
              "      <td>User_Id_1737</td>\n",
              "      <td>Bike</td>\n",
              "      <td>60.0</td>\n",
              "      <td>2311</td>\n",
              "      <td>872</td>\n",
              "      <td>14.1</td>\n",
              "      <td>533</td>\n",
              "    </tr>\n",
              "  </tbody>\n",
              "</table>\n",
              "<p>5 rows × 31 columns</p>\n",
              "</div>"
            ],
            "text/plain": [
              "   Arrival at Pickup - Day of Month Arrival at Pickup - Time  \\\n",
              "0                                 9              10:04:47 AM   \n",
              "1                                12              11:40:22 AM   \n",
              "2                                30              12:49:34 PM   \n",
              "3                                15               9:37:56 AM   \n",
              "4                                13              10:03:53 AM   \n",
              "\n",
              "   Arrival at Pickup - Weekday (Mo = 1)  Confirmation - Day of Month  \\\n",
              "0                                     5                            9   \n",
              "1                                     5                           12   \n",
              "2                                     2                           30   \n",
              "3                                     5                           15   \n",
              "4                                     1                           13   \n",
              "\n",
              "  Confirmation - Time  Confirmation - Weekday (Mo = 1)  Latitude  Longitude  \\\n",
              "0          9:40:10 AM                                5 -1.300406  36.829741   \n",
              "1         11:23:21 AM                                5 -1.295004  36.814358   \n",
              "2         12:42:44 PM                                2 -1.300921  36.828195   \n",
              "3          9:26:05 AM                                5 -1.257147  36.795063   \n",
              "4          9:56:18 AM                                1 -1.295041  36.809817   \n",
              "\n",
              "   Distance (KM)        Order No  ...      Rider Id  Temperature  \\\n",
              "0              4   Order_No_4211  ...  Rider_Id_432         20.4   \n",
              "1             16  Order_No_25375  ...  Rider_Id_856         26.4   \n",
              "2              3   Order_No_1899  ...  Rider_Id_155          NaN   \n",
              "3              9   Order_No_9336  ...  Rider_Id_855         19.2   \n",
              "4              9  Order_No_27883  ...  Rider_Id_770         15.4   \n",
              "\n",
              "  Time from Pickup to Arrival       User Id  Vehicle Type  \\\n",
              "0                       745.0   User_Id_633          Bike   \n",
              "1                      1993.0  User_Id_2285          Bike   \n",
              "2                       455.0   User_Id_265          Bike   \n",
              "3                      1341.0  User_Id_1402          Bike   \n",
              "4                      1214.0  User_Id_1737          Bike   \n",
              "\n",
              "   check_trip_duration12  No_Of_Orders   Age  Average_Rating  No_of_Ratings  \n",
              "0                  264.0          1637  1309            13.8            549  \n",
              "1                  425.0           396   339            13.6             69  \n",
              "2                  199.0          1023   242            12.5            114  \n",
              "3                   31.0           886   283            14.5            113  \n",
              "4                   60.0          2311   872            14.1            533  \n",
              "\n",
              "[5 rows x 31 columns]"
            ]
          },
          "metadata": {
            "tags": []
          },
          "execution_count": 27
        }
      ]
    },
    {
      "cell_type": "code",
      "metadata": {
        "id": "d9xREZargMhc",
        "colab_type": "code",
        "colab": {}
      },
      "source": [
        ""
      ],
      "execution_count": 0,
      "outputs": []
    },
    {
      "cell_type": "code",
      "metadata": {
        "id": "mHiOwQH0gMhe",
        "colab_type": "code",
        "colab": {}
      },
      "source": [
        "all_data.drop(['Precipitation in millimeters','Temperature','User Id'],axis =1,inplace =True)"
      ],
      "execution_count": 0,
      "outputs": []
    },
    {
      "cell_type": "code",
      "metadata": {
        "id": "eNGVJW3fgMhg",
        "colab_type": "code",
        "colab": {}
      },
      "source": [
        "# all_data['hourarrival'] = all_data['Arrival at Destination - Time'].astype('str').apply(lambda x:x.split(':')[0])"
      ],
      "execution_count": 0,
      "outputs": []
    },
    {
      "cell_type": "code",
      "metadata": {
        "id": "hWZD0vCAgMhj",
        "colab_type": "code",
        "colab": {}
      },
      "source": [
        "# all_data['secarrive'] = all_data['Arrival at Destination - Time'].astype('str').apply(lambda x:x.split(':')[-1]).apply(lambda x: x.split(' ')[0])"
      ],
      "execution_count": 0,
      "outputs": []
    },
    {
      "cell_type": "code",
      "metadata": {
        "id": "K3iA-Os6gMhl",
        "colab_type": "code",
        "colab": {}
      },
      "source": [
        "# all_data['arivalpickupam/pm'] = all_data['Arrival at Pickup - Time'].astype('str').apply(lambda x:x.split(' ')[-1])"
      ],
      "execution_count": 0,
      "outputs": []
    },
    {
      "cell_type": "code",
      "metadata": {
        "id": "3JKdPuzugMhn",
        "colab_type": "code",
        "colab": {}
      },
      "source": [
        "import datetime"
      ],
      "execution_count": 0,
      "outputs": []
    },
    {
      "cell_type": "code",
      "metadata": {
        "id": "22QnT7aDgMhp",
        "colab_type": "code",
        "colab": {}
      },
      "source": [
        "all_data['Arrival at Pickup - Time'] = pd.to_datetime(all_data['Arrival at Pickup - Time'])"
      ],
      "execution_count": 0,
      "outputs": []
    },
    {
      "cell_type": "code",
      "metadata": {
        "id": "GHDmqjn7gMhq",
        "colab_type": "code",
        "colab": {}
      },
      "source": [
        "all_data['rhour'] = all_data['Arrival at Pickup - Time'].dt.hour"
      ],
      "execution_count": 0,
      "outputs": []
    },
    {
      "cell_type": "code",
      "metadata": {
        "id": "NTSv-z6DgMhs",
        "colab_type": "code",
        "colab": {}
      },
      "source": [
        "all_data['sec'] = all_data['Arrival at Pickup - Time'].dt.second"
      ],
      "execution_count": 0,
      "outputs": []
    },
    {
      "cell_type": "code",
      "metadata": {
        "id": "etTGYhGlgMhu",
        "colab_type": "code",
        "colab": {}
      },
      "source": [
        "all_data['min'] = all_data['Arrival at Pickup - Time'].dt.minute"
      ],
      "execution_count": 0,
      "outputs": []
    },
    {
      "cell_type": "code",
      "metadata": {
        "id": "78wRjUQhgMhw",
        "colab_type": "code",
        "colab": {}
      },
      "source": [
        "\n",
        "\n",
        "#all_data['ampmconfirm'] = all_data['Confirmation - Time'].astype('str').apply(lambda x:x.split(' ')[-1])"
      ],
      "execution_count": 0,
      "outputs": []
    },
    {
      "cell_type": "code",
      "metadata": {
        "id": "mCZ9sZL4gMhy",
        "colab_type": "code",
        "colab": {}
      },
      "source": [
        ""
      ],
      "execution_count": 0,
      "outputs": []
    },
    {
      "cell_type": "code",
      "metadata": {
        "id": "j5PWxcjRgMhz",
        "colab_type": "code",
        "colab": {}
      },
      "source": [
        "all_data['Confirmation - Time'] = pd.to_datetime(all_data['Confirmation - Time'])"
      ],
      "execution_count": 0,
      "outputs": []
    },
    {
      "cell_type": "code",
      "metadata": {
        "id": "BtrumvSHgMh1",
        "colab_type": "code",
        "colab": {}
      },
      "source": [
        "all_data['chour'] = all_data['Confirmation - Time'].dt.hour"
      ],
      "execution_count": 0,
      "outputs": []
    },
    {
      "cell_type": "code",
      "metadata": {
        "id": "WqwpOaHSgMh3",
        "colab_type": "code",
        "colab": {}
      },
      "source": [
        "all_data['cmin'] = all_data['Confirmation - Time'].dt.minute\n",
        "all_data['csec'] = all_data['Confirmation - Time'].dt.second"
      ],
      "execution_count": 0,
      "outputs": []
    },
    {
      "cell_type": "code",
      "metadata": {
        "id": "wwsAwQTwgMh5",
        "colab_type": "code",
        "colab": {},
        "outputId": "7cc4383e-dd53-4e77-a49c-a8099ef55466"
      },
      "source": [
        "all_data.head()"
      ],
      "execution_count": 0,
      "outputs": [
        {
          "output_type": "execute_result",
          "data": {
            "text/html": [
              "<div>\n",
              "<style scoped>\n",
              "    .dataframe tbody tr th:only-of-type {\n",
              "        vertical-align: middle;\n",
              "    }\n",
              "\n",
              "    .dataframe tbody tr th {\n",
              "        vertical-align: top;\n",
              "    }\n",
              "\n",
              "    .dataframe thead th {\n",
              "        text-align: right;\n",
              "    }\n",
              "</style>\n",
              "<table border=\"1\" class=\"dataframe\">\n",
              "  <thead>\n",
              "    <tr style=\"text-align: right;\">\n",
              "      <th></th>\n",
              "      <th>Arrival at Pickup - Day of Month</th>\n",
              "      <th>Arrival at Pickup - Time</th>\n",
              "      <th>Arrival at Pickup - Weekday (Mo = 1)</th>\n",
              "      <th>Confirmation - Day of Month</th>\n",
              "      <th>Confirmation - Time</th>\n",
              "      <th>Confirmation - Weekday (Mo = 1)</th>\n",
              "      <th>Latitude</th>\n",
              "      <th>Longitude</th>\n",
              "      <th>Distance (KM)</th>\n",
              "      <th>Order No</th>\n",
              "      <th>...</th>\n",
              "      <th>No_Of_Orders</th>\n",
              "      <th>Age</th>\n",
              "      <th>Average_Rating</th>\n",
              "      <th>No_of_Ratings</th>\n",
              "      <th>rhour</th>\n",
              "      <th>sec</th>\n",
              "      <th>min</th>\n",
              "      <th>chour</th>\n",
              "      <th>cmin</th>\n",
              "      <th>csec</th>\n",
              "    </tr>\n",
              "  </thead>\n",
              "  <tbody>\n",
              "    <tr>\n",
              "      <td>0</td>\n",
              "      <td>9</td>\n",
              "      <td>2020-06-02 10:04:47</td>\n",
              "      <td>5</td>\n",
              "      <td>9</td>\n",
              "      <td>2020-06-02 09:40:10</td>\n",
              "      <td>5</td>\n",
              "      <td>-1.300406</td>\n",
              "      <td>36.829741</td>\n",
              "      <td>4</td>\n",
              "      <td>Order_No_4211</td>\n",
              "      <td>...</td>\n",
              "      <td>1637</td>\n",
              "      <td>1309</td>\n",
              "      <td>13.8</td>\n",
              "      <td>549</td>\n",
              "      <td>10</td>\n",
              "      <td>47</td>\n",
              "      <td>4</td>\n",
              "      <td>9</td>\n",
              "      <td>40</td>\n",
              "      <td>10</td>\n",
              "    </tr>\n",
              "    <tr>\n",
              "      <td>1</td>\n",
              "      <td>12</td>\n",
              "      <td>2020-06-02 11:40:22</td>\n",
              "      <td>5</td>\n",
              "      <td>12</td>\n",
              "      <td>2020-06-02 11:23:21</td>\n",
              "      <td>5</td>\n",
              "      <td>-1.295004</td>\n",
              "      <td>36.814358</td>\n",
              "      <td>16</td>\n",
              "      <td>Order_No_25375</td>\n",
              "      <td>...</td>\n",
              "      <td>396</td>\n",
              "      <td>339</td>\n",
              "      <td>13.6</td>\n",
              "      <td>69</td>\n",
              "      <td>11</td>\n",
              "      <td>22</td>\n",
              "      <td>40</td>\n",
              "      <td>11</td>\n",
              "      <td>23</td>\n",
              "      <td>21</td>\n",
              "    </tr>\n",
              "    <tr>\n",
              "      <td>2</td>\n",
              "      <td>30</td>\n",
              "      <td>2020-06-02 12:49:34</td>\n",
              "      <td>2</td>\n",
              "      <td>30</td>\n",
              "      <td>2020-06-02 12:42:44</td>\n",
              "      <td>2</td>\n",
              "      <td>-1.300921</td>\n",
              "      <td>36.828195</td>\n",
              "      <td>3</td>\n",
              "      <td>Order_No_1899</td>\n",
              "      <td>...</td>\n",
              "      <td>1023</td>\n",
              "      <td>242</td>\n",
              "      <td>12.5</td>\n",
              "      <td>114</td>\n",
              "      <td>12</td>\n",
              "      <td>34</td>\n",
              "      <td>49</td>\n",
              "      <td>12</td>\n",
              "      <td>42</td>\n",
              "      <td>44</td>\n",
              "    </tr>\n",
              "    <tr>\n",
              "      <td>3</td>\n",
              "      <td>15</td>\n",
              "      <td>2020-06-02 09:37:56</td>\n",
              "      <td>5</td>\n",
              "      <td>15</td>\n",
              "      <td>2020-06-02 09:26:05</td>\n",
              "      <td>5</td>\n",
              "      <td>-1.257147</td>\n",
              "      <td>36.795063</td>\n",
              "      <td>9</td>\n",
              "      <td>Order_No_9336</td>\n",
              "      <td>...</td>\n",
              "      <td>886</td>\n",
              "      <td>283</td>\n",
              "      <td>14.5</td>\n",
              "      <td>113</td>\n",
              "      <td>9</td>\n",
              "      <td>56</td>\n",
              "      <td>37</td>\n",
              "      <td>9</td>\n",
              "      <td>26</td>\n",
              "      <td>5</td>\n",
              "    </tr>\n",
              "    <tr>\n",
              "      <td>4</td>\n",
              "      <td>13</td>\n",
              "      <td>2020-06-02 10:03:53</td>\n",
              "      <td>1</td>\n",
              "      <td>13</td>\n",
              "      <td>2020-06-02 09:56:18</td>\n",
              "      <td>1</td>\n",
              "      <td>-1.295041</td>\n",
              "      <td>36.809817</td>\n",
              "      <td>9</td>\n",
              "      <td>Order_No_27883</td>\n",
              "      <td>...</td>\n",
              "      <td>2311</td>\n",
              "      <td>872</td>\n",
              "      <td>14.1</td>\n",
              "      <td>533</td>\n",
              "      <td>10</td>\n",
              "      <td>53</td>\n",
              "      <td>3</td>\n",
              "      <td>9</td>\n",
              "      <td>56</td>\n",
              "      <td>18</td>\n",
              "    </tr>\n",
              "  </tbody>\n",
              "</table>\n",
              "<p>5 rows × 34 columns</p>\n",
              "</div>"
            ],
            "text/plain": [
              "   Arrival at Pickup - Day of Month Arrival at Pickup - Time  \\\n",
              "0                                 9      2020-06-02 10:04:47   \n",
              "1                                12      2020-06-02 11:40:22   \n",
              "2                                30      2020-06-02 12:49:34   \n",
              "3                                15      2020-06-02 09:37:56   \n",
              "4                                13      2020-06-02 10:03:53   \n",
              "\n",
              "   Arrival at Pickup - Weekday (Mo = 1)  Confirmation - Day of Month  \\\n",
              "0                                     5                            9   \n",
              "1                                     5                           12   \n",
              "2                                     2                           30   \n",
              "3                                     5                           15   \n",
              "4                                     1                           13   \n",
              "\n",
              "  Confirmation - Time  Confirmation - Weekday (Mo = 1)  Latitude  Longitude  \\\n",
              "0 2020-06-02 09:40:10                                5 -1.300406  36.829741   \n",
              "1 2020-06-02 11:23:21                                5 -1.295004  36.814358   \n",
              "2 2020-06-02 12:42:44                                2 -1.300921  36.828195   \n",
              "3 2020-06-02 09:26:05                                5 -1.257147  36.795063   \n",
              "4 2020-06-02 09:56:18                                1 -1.295041  36.809817   \n",
              "\n",
              "   Distance (KM)        Order No  ... No_Of_Orders   Age Average_Rating  \\\n",
              "0              4   Order_No_4211  ...         1637  1309           13.8   \n",
              "1             16  Order_No_25375  ...          396   339           13.6   \n",
              "2              3   Order_No_1899  ...         1023   242           12.5   \n",
              "3              9   Order_No_9336  ...          886   283           14.5   \n",
              "4              9  Order_No_27883  ...         2311   872           14.1   \n",
              "\n",
              "   No_of_Ratings  rhour  sec  min chour  cmin  csec  \n",
              "0            549     10   47    4     9    40    10  \n",
              "1             69     11   22   40    11    23    21  \n",
              "2            114     12   34   49    12    42    44  \n",
              "3            113      9   56   37     9    26     5  \n",
              "4            533     10   53    3     9    56    18  \n",
              "\n",
              "[5 rows x 34 columns]"
            ]
          },
          "metadata": {
            "tags": []
          },
          "execution_count": 41
        }
      ]
    },
    {
      "cell_type": "code",
      "metadata": {
        "id": "8wujHA5MgMh7",
        "colab_type": "code",
        "colab": {}
      },
      "source": [
        "all_data.drop(['Arrival at Pickup - Time','Confirmation - Time'],axis = 1,inplace = True)"
      ],
      "execution_count": 0,
      "outputs": []
    },
    {
      "cell_type": "code",
      "metadata": {
        "id": "I_5E2QtRgMh9",
        "colab_type": "code",
        "colab": {},
        "outputId": "151859c9-a706-4c12-f8db-60d97fe7cfee"
      },
      "source": [
        "all_data.head()"
      ],
      "execution_count": 0,
      "outputs": [
        {
          "output_type": "execute_result",
          "data": {
            "text/html": [
              "<div>\n",
              "<style scoped>\n",
              "    .dataframe tbody tr th:only-of-type {\n",
              "        vertical-align: middle;\n",
              "    }\n",
              "\n",
              "    .dataframe tbody tr th {\n",
              "        vertical-align: top;\n",
              "    }\n",
              "\n",
              "    .dataframe thead th {\n",
              "        text-align: right;\n",
              "    }\n",
              "</style>\n",
              "<table border=\"1\" class=\"dataframe\">\n",
              "  <thead>\n",
              "    <tr style=\"text-align: right;\">\n",
              "      <th></th>\n",
              "      <th>Arrival at Pickup - Day of Month</th>\n",
              "      <th>Arrival at Pickup - Weekday (Mo = 1)</th>\n",
              "      <th>Confirmation - Day of Month</th>\n",
              "      <th>Confirmation - Weekday (Mo = 1)</th>\n",
              "      <th>Latitude</th>\n",
              "      <th>Longitude</th>\n",
              "      <th>Distance (KM)</th>\n",
              "      <th>Order No</th>\n",
              "      <th>Personal or Business</th>\n",
              "      <th>Pickup - Day of Month</th>\n",
              "      <th>...</th>\n",
              "      <th>No_Of_Orders</th>\n",
              "      <th>Age</th>\n",
              "      <th>Average_Rating</th>\n",
              "      <th>No_of_Ratings</th>\n",
              "      <th>rhour</th>\n",
              "      <th>sec</th>\n",
              "      <th>min</th>\n",
              "      <th>chour</th>\n",
              "      <th>cmin</th>\n",
              "      <th>csec</th>\n",
              "    </tr>\n",
              "  </thead>\n",
              "  <tbody>\n",
              "    <tr>\n",
              "      <td>0</td>\n",
              "      <td>9</td>\n",
              "      <td>5</td>\n",
              "      <td>9</td>\n",
              "      <td>5</td>\n",
              "      <td>-1.300406</td>\n",
              "      <td>36.829741</td>\n",
              "      <td>4</td>\n",
              "      <td>Order_No_4211</td>\n",
              "      <td>Business</td>\n",
              "      <td>9</td>\n",
              "      <td>...</td>\n",
              "      <td>1637</td>\n",
              "      <td>1309</td>\n",
              "      <td>13.8</td>\n",
              "      <td>549</td>\n",
              "      <td>10</td>\n",
              "      <td>47</td>\n",
              "      <td>4</td>\n",
              "      <td>9</td>\n",
              "      <td>40</td>\n",
              "      <td>10</td>\n",
              "    </tr>\n",
              "    <tr>\n",
              "      <td>1</td>\n",
              "      <td>12</td>\n",
              "      <td>5</td>\n",
              "      <td>12</td>\n",
              "      <td>5</td>\n",
              "      <td>-1.295004</td>\n",
              "      <td>36.814358</td>\n",
              "      <td>16</td>\n",
              "      <td>Order_No_25375</td>\n",
              "      <td>Personal</td>\n",
              "      <td>12</td>\n",
              "      <td>...</td>\n",
              "      <td>396</td>\n",
              "      <td>339</td>\n",
              "      <td>13.6</td>\n",
              "      <td>69</td>\n",
              "      <td>11</td>\n",
              "      <td>22</td>\n",
              "      <td>40</td>\n",
              "      <td>11</td>\n",
              "      <td>23</td>\n",
              "      <td>21</td>\n",
              "    </tr>\n",
              "    <tr>\n",
              "      <td>2</td>\n",
              "      <td>30</td>\n",
              "      <td>2</td>\n",
              "      <td>30</td>\n",
              "      <td>2</td>\n",
              "      <td>-1.300921</td>\n",
              "      <td>36.828195</td>\n",
              "      <td>3</td>\n",
              "      <td>Order_No_1899</td>\n",
              "      <td>Business</td>\n",
              "      <td>30</td>\n",
              "      <td>...</td>\n",
              "      <td>1023</td>\n",
              "      <td>242</td>\n",
              "      <td>12.5</td>\n",
              "      <td>114</td>\n",
              "      <td>12</td>\n",
              "      <td>34</td>\n",
              "      <td>49</td>\n",
              "      <td>12</td>\n",
              "      <td>42</td>\n",
              "      <td>44</td>\n",
              "    </tr>\n",
              "    <tr>\n",
              "      <td>3</td>\n",
              "      <td>15</td>\n",
              "      <td>5</td>\n",
              "      <td>15</td>\n",
              "      <td>5</td>\n",
              "      <td>-1.257147</td>\n",
              "      <td>36.795063</td>\n",
              "      <td>9</td>\n",
              "      <td>Order_No_9336</td>\n",
              "      <td>Business</td>\n",
              "      <td>15</td>\n",
              "      <td>...</td>\n",
              "      <td>886</td>\n",
              "      <td>283</td>\n",
              "      <td>14.5</td>\n",
              "      <td>113</td>\n",
              "      <td>9</td>\n",
              "      <td>56</td>\n",
              "      <td>37</td>\n",
              "      <td>9</td>\n",
              "      <td>26</td>\n",
              "      <td>5</td>\n",
              "    </tr>\n",
              "    <tr>\n",
              "      <td>4</td>\n",
              "      <td>13</td>\n",
              "      <td>1</td>\n",
              "      <td>13</td>\n",
              "      <td>1</td>\n",
              "      <td>-1.295041</td>\n",
              "      <td>36.809817</td>\n",
              "      <td>9</td>\n",
              "      <td>Order_No_27883</td>\n",
              "      <td>Personal</td>\n",
              "      <td>13</td>\n",
              "      <td>...</td>\n",
              "      <td>2311</td>\n",
              "      <td>872</td>\n",
              "      <td>14.1</td>\n",
              "      <td>533</td>\n",
              "      <td>10</td>\n",
              "      <td>53</td>\n",
              "      <td>3</td>\n",
              "      <td>9</td>\n",
              "      <td>56</td>\n",
              "      <td>18</td>\n",
              "    </tr>\n",
              "  </tbody>\n",
              "</table>\n",
              "<p>5 rows × 32 columns</p>\n",
              "</div>"
            ],
            "text/plain": [
              "   Arrival at Pickup - Day of Month  Arrival at Pickup - Weekday (Mo = 1)  \\\n",
              "0                                 9                                     5   \n",
              "1                                12                                     5   \n",
              "2                                30                                     2   \n",
              "3                                15                                     5   \n",
              "4                                13                                     1   \n",
              "\n",
              "   Confirmation - Day of Month  Confirmation - Weekday (Mo = 1)  Latitude  \\\n",
              "0                            9                                5 -1.300406   \n",
              "1                           12                                5 -1.295004   \n",
              "2                           30                                2 -1.300921   \n",
              "3                           15                                5 -1.257147   \n",
              "4                           13                                1 -1.295041   \n",
              "\n",
              "   Longitude  Distance (KM)        Order No Personal or Business  \\\n",
              "0  36.829741              4   Order_No_4211             Business   \n",
              "1  36.814358             16  Order_No_25375             Personal   \n",
              "2  36.828195              3   Order_No_1899             Business   \n",
              "3  36.795063              9   Order_No_9336             Business   \n",
              "4  36.809817              9  Order_No_27883             Personal   \n",
              "\n",
              "   Pickup - Day of Month  ... No_Of_Orders   Age  Average_Rating  \\\n",
              "0                      9  ...         1637  1309            13.8   \n",
              "1                     12  ...          396   339            13.6   \n",
              "2                     30  ...         1023   242            12.5   \n",
              "3                     15  ...          886   283            14.5   \n",
              "4                     13  ...         2311   872            14.1   \n",
              "\n",
              "   No_of_Ratings  rhour sec  min  chour cmin  csec  \n",
              "0            549     10  47    4      9   40    10  \n",
              "1             69     11  22   40     11   23    21  \n",
              "2            114     12  34   49     12   42    44  \n",
              "3            113      9  56   37      9   26     5  \n",
              "4            533     10  53    3      9   56    18  \n",
              "\n",
              "[5 rows x 32 columns]"
            ]
          },
          "metadata": {
            "tags": []
          },
          "execution_count": 43
        }
      ]
    },
    {
      "cell_type": "code",
      "metadata": {
        "id": "0IgtKfn5gMh_",
        "colab_type": "code",
        "colab": {},
        "outputId": "9f338b8a-5fc6-4be7-f600-960c172abdfa"
      },
      "source": [
        "all_data.shape"
      ],
      "execution_count": 0,
      "outputs": [
        {
          "output_type": "execute_result",
          "data": {
            "text/plain": [
              "(28269, 32)"
            ]
          },
          "metadata": {
            "tags": []
          },
          "execution_count": 44
        }
      ]
    },
    {
      "cell_type": "code",
      "metadata": {
        "id": "RVSVP24dgMiA",
        "colab_type": "code",
        "colab": {}
      },
      "source": [
        "all_data.drop('Order No',axis =1,inplace = True)"
      ],
      "execution_count": 0,
      "outputs": []
    },
    {
      "cell_type": "code",
      "metadata": {
        "id": "5joYcrZJgMiD",
        "colab_type": "code",
        "colab": {},
        "outputId": "af2d79bd-7356-44f0-9960-1e7412d9e26a"
      },
      "source": [
        "all_data.isnull().sum()"
      ],
      "execution_count": 0,
      "outputs": [
        {
          "output_type": "execute_result",
          "data": {
            "text/plain": [
              "Arrival at Pickup - Day of Month           0\n",
              "Arrival at Pickup - Weekday (Mo = 1)       0\n",
              "Confirmation - Day of Month                0\n",
              "Confirmation - Weekday (Mo = 1)            0\n",
              "Latitude                                   0\n",
              "Longitude                                  0\n",
              "Distance (KM)                              0\n",
              "Personal or Business                       0\n",
              "Pickup - Day of Month                      0\n",
              "Pickup - Time                              0\n",
              "Pickup - Weekday (Mo = 1)                  0\n",
              "latitude2                                  0\n",
              "longitude                                  0\n",
              "Placement - Day of Month                   0\n",
              "Placement - Time                           0\n",
              "Placement - Weekday (Mo = 1)               0\n",
              "Platform Type                              0\n",
              "Rider Id                                   0\n",
              "Time from Pickup to Arrival             7068\n",
              "Vehicle Type                               0\n",
              "check_trip_duration12                      0\n",
              "No_Of_Orders                               0\n",
              "Age                                        0\n",
              "Average_Rating                             0\n",
              "No_of_Ratings                              0\n",
              "rhour                                      0\n",
              "sec                                        0\n",
              "min                                        0\n",
              "chour                                      0\n",
              "cmin                                       0\n",
              "csec                                       0\n",
              "dtype: int64"
            ]
          },
          "metadata": {
            "tags": []
          },
          "execution_count": 46
        }
      ]
    },
    {
      "cell_type": "code",
      "metadata": {
        "id": "-bj4qIGsgMiF",
        "colab_type": "code",
        "colab": {}
      },
      "source": [
        "\n",
        "#all_data['distance1'] = np.sqrt((data.latitude2 - data.Latitude) ** 2 + (data.longitude - data.Longitude) ** 2)\n",
        "import math"
      ],
      "execution_count": 0,
      "outputs": []
    },
    {
      "cell_type": "code",
      "metadata": {
        "id": "mchZb4eygMiG",
        "colab_type": "code",
        "colab": {},
        "outputId": "8d4b7eb6-4d15-48dd-c363-4a75fcdc74cf"
      },
      "source": [
        "#np.radians(data.Latitude)\n",
        "all_data.head()"
      ],
      "execution_count": 0,
      "outputs": [
        {
          "output_type": "execute_result",
          "data": {
            "text/html": [
              "<div>\n",
              "<style scoped>\n",
              "    .dataframe tbody tr th:only-of-type {\n",
              "        vertical-align: middle;\n",
              "    }\n",
              "\n",
              "    .dataframe tbody tr th {\n",
              "        vertical-align: top;\n",
              "    }\n",
              "\n",
              "    .dataframe thead th {\n",
              "        text-align: right;\n",
              "    }\n",
              "</style>\n",
              "<table border=\"1\" class=\"dataframe\">\n",
              "  <thead>\n",
              "    <tr style=\"text-align: right;\">\n",
              "      <th></th>\n",
              "      <th>Arrival at Pickup - Day of Month</th>\n",
              "      <th>Arrival at Pickup - Weekday (Mo = 1)</th>\n",
              "      <th>Confirmation - Day of Month</th>\n",
              "      <th>Confirmation - Weekday (Mo = 1)</th>\n",
              "      <th>Latitude</th>\n",
              "      <th>Longitude</th>\n",
              "      <th>Distance (KM)</th>\n",
              "      <th>Personal or Business</th>\n",
              "      <th>Pickup - Day of Month</th>\n",
              "      <th>Pickup - Time</th>\n",
              "      <th>...</th>\n",
              "      <th>No_Of_Orders</th>\n",
              "      <th>Age</th>\n",
              "      <th>Average_Rating</th>\n",
              "      <th>No_of_Ratings</th>\n",
              "      <th>rhour</th>\n",
              "      <th>sec</th>\n",
              "      <th>min</th>\n",
              "      <th>chour</th>\n",
              "      <th>cmin</th>\n",
              "      <th>csec</th>\n",
              "    </tr>\n",
              "  </thead>\n",
              "  <tbody>\n",
              "    <tr>\n",
              "      <td>0</td>\n",
              "      <td>9</td>\n",
              "      <td>5</td>\n",
              "      <td>9</td>\n",
              "      <td>5</td>\n",
              "      <td>-1.300406</td>\n",
              "      <td>36.829741</td>\n",
              "      <td>4</td>\n",
              "      <td>Business</td>\n",
              "      <td>9</td>\n",
              "      <td>10:27:30 AM</td>\n",
              "      <td>...</td>\n",
              "      <td>1637</td>\n",
              "      <td>1309</td>\n",
              "      <td>13.8</td>\n",
              "      <td>549</td>\n",
              "      <td>10</td>\n",
              "      <td>47</td>\n",
              "      <td>4</td>\n",
              "      <td>9</td>\n",
              "      <td>40</td>\n",
              "      <td>10</td>\n",
              "    </tr>\n",
              "    <tr>\n",
              "      <td>1</td>\n",
              "      <td>12</td>\n",
              "      <td>5</td>\n",
              "      <td>12</td>\n",
              "      <td>5</td>\n",
              "      <td>-1.295004</td>\n",
              "      <td>36.814358</td>\n",
              "      <td>16</td>\n",
              "      <td>Personal</td>\n",
              "      <td>12</td>\n",
              "      <td>11:44:09 AM</td>\n",
              "      <td>...</td>\n",
              "      <td>396</td>\n",
              "      <td>339</td>\n",
              "      <td>13.6</td>\n",
              "      <td>69</td>\n",
              "      <td>11</td>\n",
              "      <td>22</td>\n",
              "      <td>40</td>\n",
              "      <td>11</td>\n",
              "      <td>23</td>\n",
              "      <td>21</td>\n",
              "    </tr>\n",
              "    <tr>\n",
              "      <td>2</td>\n",
              "      <td>30</td>\n",
              "      <td>2</td>\n",
              "      <td>30</td>\n",
              "      <td>2</td>\n",
              "      <td>-1.300921</td>\n",
              "      <td>36.828195</td>\n",
              "      <td>3</td>\n",
              "      <td>Business</td>\n",
              "      <td>30</td>\n",
              "      <td>12:53:03 PM</td>\n",
              "      <td>...</td>\n",
              "      <td>1023</td>\n",
              "      <td>242</td>\n",
              "      <td>12.5</td>\n",
              "      <td>114</td>\n",
              "      <td>12</td>\n",
              "      <td>34</td>\n",
              "      <td>49</td>\n",
              "      <td>12</td>\n",
              "      <td>42</td>\n",
              "      <td>44</td>\n",
              "    </tr>\n",
              "    <tr>\n",
              "      <td>3</td>\n",
              "      <td>15</td>\n",
              "      <td>5</td>\n",
              "      <td>15</td>\n",
              "      <td>5</td>\n",
              "      <td>-1.257147</td>\n",
              "      <td>36.795063</td>\n",
              "      <td>9</td>\n",
              "      <td>Business</td>\n",
              "      <td>15</td>\n",
              "      <td>9:43:06 AM</td>\n",
              "      <td>...</td>\n",
              "      <td>886</td>\n",
              "      <td>283</td>\n",
              "      <td>14.5</td>\n",
              "      <td>113</td>\n",
              "      <td>9</td>\n",
              "      <td>56</td>\n",
              "      <td>37</td>\n",
              "      <td>9</td>\n",
              "      <td>26</td>\n",
              "      <td>5</td>\n",
              "    </tr>\n",
              "    <tr>\n",
              "      <td>4</td>\n",
              "      <td>13</td>\n",
              "      <td>1</td>\n",
              "      <td>13</td>\n",
              "      <td>1</td>\n",
              "      <td>-1.295041</td>\n",
              "      <td>36.809817</td>\n",
              "      <td>9</td>\n",
              "      <td>Personal</td>\n",
              "      <td>13</td>\n",
              "      <td>10:05:23 AM</td>\n",
              "      <td>...</td>\n",
              "      <td>2311</td>\n",
              "      <td>872</td>\n",
              "      <td>14.1</td>\n",
              "      <td>533</td>\n",
              "      <td>10</td>\n",
              "      <td>53</td>\n",
              "      <td>3</td>\n",
              "      <td>9</td>\n",
              "      <td>56</td>\n",
              "      <td>18</td>\n",
              "    </tr>\n",
              "  </tbody>\n",
              "</table>\n",
              "<p>5 rows × 31 columns</p>\n",
              "</div>"
            ],
            "text/plain": [
              "   Arrival at Pickup - Day of Month  Arrival at Pickup - Weekday (Mo = 1)  \\\n",
              "0                                 9                                     5   \n",
              "1                                12                                     5   \n",
              "2                                30                                     2   \n",
              "3                                15                                     5   \n",
              "4                                13                                     1   \n",
              "\n",
              "   Confirmation - Day of Month  Confirmation - Weekday (Mo = 1)  Latitude  \\\n",
              "0                            9                                5 -1.300406   \n",
              "1                           12                                5 -1.295004   \n",
              "2                           30                                2 -1.300921   \n",
              "3                           15                                5 -1.257147   \n",
              "4                           13                                1 -1.295041   \n",
              "\n",
              "   Longitude  Distance (KM) Personal or Business  Pickup - Day of Month  \\\n",
              "0  36.829741              4             Business                      9   \n",
              "1  36.814358             16             Personal                     12   \n",
              "2  36.828195              3             Business                     30   \n",
              "3  36.795063              9             Business                     15   \n",
              "4  36.809817              9             Personal                     13   \n",
              "\n",
              "  Pickup - Time  ...  No_Of_Orders   Age  Average_Rating  No_of_Ratings rhour  \\\n",
              "0   10:27:30 AM  ...          1637  1309            13.8            549    10   \n",
              "1   11:44:09 AM  ...           396   339            13.6             69    11   \n",
              "2   12:53:03 PM  ...          1023   242            12.5            114    12   \n",
              "3    9:43:06 AM  ...           886   283            14.5            113     9   \n",
              "4   10:05:23 AM  ...          2311   872            14.1            533    10   \n",
              "\n",
              "   sec  min chour  cmin csec  \n",
              "0   47    4     9    40   10  \n",
              "1   22   40    11    23   21  \n",
              "2   34   49    12    42   44  \n",
              "3   56   37     9    26    5  \n",
              "4   53    3     9    56   18  \n",
              "\n",
              "[5 rows x 31 columns]"
            ]
          },
          "metadata": {
            "tags": []
          },
          "execution_count": 48
        }
      ]
    },
    {
      "cell_type": "code",
      "metadata": {
        "id": "s_UZIlvhgMiH",
        "colab_type": "code",
        "colab": {},
        "outputId": "3cffac17-6356-422a-c629-c0c69971a46f"
      },
      "source": [
        "all_data.dtypes"
      ],
      "execution_count": 0,
      "outputs": [
        {
          "output_type": "execute_result",
          "data": {
            "text/plain": [
              "Arrival at Pickup - Day of Month          int64\n",
              "Arrival at Pickup - Weekday (Mo = 1)      int64\n",
              "Confirmation - Day of Month               int64\n",
              "Confirmation - Weekday (Mo = 1)           int64\n",
              "Latitude                                float64\n",
              "Longitude                               float64\n",
              "Distance (KM)                             int64\n",
              "Personal or Business                     object\n",
              "Pickup - Day of Month                     int64\n",
              "Pickup - Time                            object\n",
              "Pickup - Weekday (Mo = 1)                 int64\n",
              "latitude2                               float64\n",
              "longitude                               float64\n",
              "Placement - Day of Month                  int64\n",
              "Placement - Time                         object\n",
              "Placement - Weekday (Mo = 1)              int64\n",
              "Platform Type                             int64\n",
              "Rider Id                                 object\n",
              "Time from Pickup to Arrival             float64\n",
              "Vehicle Type                             object\n",
              "check_trip_duration12                   float64\n",
              "No_Of_Orders                              int64\n",
              "Age                                       int64\n",
              "Average_Rating                          float64\n",
              "No_of_Ratings                             int64\n",
              "rhour                                     int64\n",
              "sec                                       int64\n",
              "min                                       int64\n",
              "chour                                     int64\n",
              "cmin                                      int64\n",
              "csec                                      int64\n",
              "dtype: object"
            ]
          },
          "metadata": {
            "tags": []
          },
          "execution_count": 49
        }
      ]
    },
    {
      "cell_type": "code",
      "metadata": {
        "id": "_ZT7QK9PgMiJ",
        "colab_type": "code",
        "colab": {}
      },
      "source": [
        "all_data.drop(['Pickup - Time','Placement - Time','Rider Id'],axis =1,inplace = True)"
      ],
      "execution_count": 0,
      "outputs": []
    },
    {
      "cell_type": "code",
      "metadata": {
        "id": "RN3uO_VkgMiL",
        "colab_type": "code",
        "colab": {}
      },
      "source": [
        "#import geocoder\n",
        "all_data = pd.get_dummies(all_data)\n",
        "\n"
      ],
      "execution_count": 0,
      "outputs": []
    },
    {
      "cell_type": "code",
      "metadata": {
        "id": "oma19zIwgMiO",
        "colab_type": "code",
        "colab": {},
        "outputId": "129299fc-650f-4a9e-dc1b-c5a1723f046b"
      },
      "source": [
        "# remove constant features\n",
        "[feat for feat in all_data.columns if all_data[feat].std() == 0]\n"
      ],
      "execution_count": 0,
      "outputs": [
        {
          "output_type": "execute_result",
          "data": {
            "text/plain": [
              "['Vehicle Type_Bike']"
            ]
          },
          "metadata": {
            "tags": []
          },
          "execution_count": 52
        }
      ]
    },
    {
      "cell_type": "code",
      "metadata": {
        "id": "MU8XYqCogMiQ",
        "colab_type": "code",
        "colab": {}
      },
      "source": [
        "all_data.drop(['Vehicle Type_Bike'], axis = 1,inplace = True)"
      ],
      "execution_count": 0,
      "outputs": []
    },
    {
      "cell_type": "code",
      "metadata": {
        "id": "lPvfWNLBgMiR",
        "colab_type": "code",
        "colab": {}
      },
      "source": [
        "\n",
        "#Get the new dataset\n",
        "data = all_data[:ntrain]\n",
        "test = all_data[ntrain:]"
      ],
      "execution_count": 0,
      "outputs": []
    },
    {
      "cell_type": "code",
      "metadata": {
        "id": "w2SxvA74gMiS",
        "colab_type": "code",
        "colab": {},
        "outputId": "bbd4bb98-f595-48ed-f3b7-4ac561e59e52"
      },
      "source": [
        "test.head()"
      ],
      "execution_count": 0,
      "outputs": [
        {
          "output_type": "execute_result",
          "data": {
            "text/html": [
              "<div>\n",
              "<style scoped>\n",
              "    .dataframe tbody tr th:only-of-type {\n",
              "        vertical-align: middle;\n",
              "    }\n",
              "\n",
              "    .dataframe tbody tr th {\n",
              "        vertical-align: top;\n",
              "    }\n",
              "\n",
              "    .dataframe thead th {\n",
              "        text-align: right;\n",
              "    }\n",
              "</style>\n",
              "<table border=\"1\" class=\"dataframe\">\n",
              "  <thead>\n",
              "    <tr style=\"text-align: right;\">\n",
              "      <th></th>\n",
              "      <th>Arrival at Pickup - Day of Month</th>\n",
              "      <th>Arrival at Pickup - Weekday (Mo = 1)</th>\n",
              "      <th>Confirmation - Day of Month</th>\n",
              "      <th>Confirmation - Weekday (Mo = 1)</th>\n",
              "      <th>Latitude</th>\n",
              "      <th>Longitude</th>\n",
              "      <th>Distance (KM)</th>\n",
              "      <th>Pickup - Day of Month</th>\n",
              "      <th>Pickup - Weekday (Mo = 1)</th>\n",
              "      <th>latitude2</th>\n",
              "      <th>...</th>\n",
              "      <th>Average_Rating</th>\n",
              "      <th>No_of_Ratings</th>\n",
              "      <th>rhour</th>\n",
              "      <th>sec</th>\n",
              "      <th>min</th>\n",
              "      <th>chour</th>\n",
              "      <th>cmin</th>\n",
              "      <th>csec</th>\n",
              "      <th>Personal or Business_Business</th>\n",
              "      <th>Personal or Business_Personal</th>\n",
              "    </tr>\n",
              "  </thead>\n",
              "  <tbody>\n",
              "    <tr>\n",
              "      <td>21201</td>\n",
              "      <td>27</td>\n",
              "      <td>3</td>\n",
              "      <td>27</td>\n",
              "      <td>3</td>\n",
              "      <td>-1.305249</td>\n",
              "      <td>36.822390</td>\n",
              "      <td>8</td>\n",
              "      <td>27</td>\n",
              "      <td>3</td>\n",
              "      <td>-1.333275</td>\n",
              "      <td>...</td>\n",
              "      <td>13.3</td>\n",
              "      <td>171</td>\n",
              "      <td>16</td>\n",
              "      <td>4</td>\n",
              "      <td>53</td>\n",
              "      <td>16</td>\n",
              "      <td>44</td>\n",
              "      <td>29</td>\n",
              "      <td>1</td>\n",
              "      <td>0</td>\n",
              "    </tr>\n",
              "    <tr>\n",
              "      <td>21202</td>\n",
              "      <td>17</td>\n",
              "      <td>5</td>\n",
              "      <td>17</td>\n",
              "      <td>5</td>\n",
              "      <td>-1.277007</td>\n",
              "      <td>36.823907</td>\n",
              "      <td>5</td>\n",
              "      <td>17</td>\n",
              "      <td>5</td>\n",
              "      <td>-1.272639</td>\n",
              "      <td>...</td>\n",
              "      <td>14.4</td>\n",
              "      <td>45</td>\n",
              "      <td>13</td>\n",
              "      <td>27</td>\n",
              "      <td>20</td>\n",
              "      <td>12</td>\n",
              "      <td>59</td>\n",
              "      <td>17</td>\n",
              "      <td>1</td>\n",
              "      <td>0</td>\n",
              "    </tr>\n",
              "    <tr>\n",
              "      <td>21203</td>\n",
              "      <td>27</td>\n",
              "      <td>4</td>\n",
              "      <td>27</td>\n",
              "      <td>4</td>\n",
              "      <td>-1.276574</td>\n",
              "      <td>36.851365</td>\n",
              "      <td>5</td>\n",
              "      <td>27</td>\n",
              "      <td>4</td>\n",
              "      <td>-1.290894</td>\n",
              "      <td>...</td>\n",
              "      <td>13.1</td>\n",
              "      <td>67</td>\n",
              "      <td>11</td>\n",
              "      <td>20</td>\n",
              "      <td>33</td>\n",
              "      <td>11</td>\n",
              "      <td>25</td>\n",
              "      <td>5</td>\n",
              "      <td>1</td>\n",
              "      <td>0</td>\n",
              "    </tr>\n",
              "    <tr>\n",
              "      <td>21204</td>\n",
              "      <td>17</td>\n",
              "      <td>1</td>\n",
              "      <td>17</td>\n",
              "      <td>1</td>\n",
              "      <td>-1.303382</td>\n",
              "      <td>36.790658</td>\n",
              "      <td>5</td>\n",
              "      <td>17</td>\n",
              "      <td>1</td>\n",
              "      <td>-1.290503</td>\n",
              "      <td>...</td>\n",
              "      <td>13.7</td>\n",
              "      <td>44</td>\n",
              "      <td>14</td>\n",
              "      <td>41</td>\n",
              "      <td>2</td>\n",
              "      <td>13</td>\n",
              "      <td>53</td>\n",
              "      <td>27</td>\n",
              "      <td>1</td>\n",
              "      <td>0</td>\n",
              "    </tr>\n",
              "    <tr>\n",
              "      <td>21205</td>\n",
              "      <td>11</td>\n",
              "      <td>2</td>\n",
              "      <td>11</td>\n",
              "      <td>2</td>\n",
              "      <td>-1.266467</td>\n",
              "      <td>36.792161</td>\n",
              "      <td>6</td>\n",
              "      <td>11</td>\n",
              "      <td>2</td>\n",
              "      <td>-1.281081</td>\n",
              "      <td>...</td>\n",
              "      <td>14.1</td>\n",
              "      <td>1010</td>\n",
              "      <td>11</td>\n",
              "      <td>19</td>\n",
              "      <td>47</td>\n",
              "      <td>11</td>\n",
              "      <td>34</td>\n",
              "      <td>45</td>\n",
              "      <td>1</td>\n",
              "      <td>0</td>\n",
              "    </tr>\n",
              "  </tbody>\n",
              "</table>\n",
              "<p>5 rows × 28 columns</p>\n",
              "</div>"
            ],
            "text/plain": [
              "       Arrival at Pickup - Day of Month  Arrival at Pickup - Weekday (Mo = 1)  \\\n",
              "21201                                27                                     3   \n",
              "21202                                17                                     5   \n",
              "21203                                27                                     4   \n",
              "21204                                17                                     1   \n",
              "21205                                11                                     2   \n",
              "\n",
              "       Confirmation - Day of Month  Confirmation - Weekday (Mo = 1)  Latitude  \\\n",
              "21201                           27                                3 -1.305249   \n",
              "21202                           17                                5 -1.277007   \n",
              "21203                           27                                4 -1.276574   \n",
              "21204                           17                                1 -1.303382   \n",
              "21205                           11                                2 -1.266467   \n",
              "\n",
              "       Longitude  Distance (KM)  Pickup - Day of Month  \\\n",
              "21201  36.822390              8                     27   \n",
              "21202  36.823907              5                     17   \n",
              "21203  36.851365              5                     27   \n",
              "21204  36.790658              5                     17   \n",
              "21205  36.792161              6                     11   \n",
              "\n",
              "       Pickup - Weekday (Mo = 1)  latitude2  ...  Average_Rating  \\\n",
              "21201                          3  -1.333275  ...            13.3   \n",
              "21202                          5  -1.272639  ...            14.4   \n",
              "21203                          4  -1.290894  ...            13.1   \n",
              "21204                          1  -1.290503  ...            13.7   \n",
              "21205                          2  -1.281081  ...            14.1   \n",
              "\n",
              "       No_of_Ratings  rhour  sec  min  chour  cmin  csec  \\\n",
              "21201            171     16    4   53     16    44    29   \n",
              "21202             45     13   27   20     12    59    17   \n",
              "21203             67     11   20   33     11    25     5   \n",
              "21204             44     14   41    2     13    53    27   \n",
              "21205           1010     11   19   47     11    34    45   \n",
              "\n",
              "       Personal or Business_Business  Personal or Business_Personal  \n",
              "21201                              1                              0  \n",
              "21202                              1                              0  \n",
              "21203                              1                              0  \n",
              "21204                              1                              0  \n",
              "21205                              1                              0  \n",
              "\n",
              "[5 rows x 28 columns]"
            ]
          },
          "metadata": {
            "tags": []
          },
          "execution_count": 55
        }
      ]
    },
    {
      "cell_type": "code",
      "metadata": {
        "id": "zNEAq9pdgMiV",
        "colab_type": "code",
        "colab": {},
        "outputId": "ff4d016f-fe42-4b14-da0d-55824219f6ec"
      },
      "source": [
        "test.drop(\"Time from Pickup to Arrival\",axis = 1,inplace = True)"
      ],
      "execution_count": 0,
      "outputs": [
        {
          "output_type": "stream",
          "text": [
            "C:\\Users\\Victor\\Anaconda3\\lib\\site-packages\\pandas\\core\\frame.py:4102: SettingWithCopyWarning: \n",
            "A value is trying to be set on a copy of a slice from a DataFrame\n",
            "\n",
            "See the caveats in the documentation: http://pandas.pydata.org/pandas-docs/stable/user_guide/indexing.html#returning-a-view-versus-a-copy\n",
            "  errors=errors,\n"
          ],
          "name": "stderr"
        }
      ]
    },
    {
      "cell_type": "code",
      "metadata": {
        "id": "PP3oXHo4gMiY",
        "colab_type": "code",
        "colab": {},
        "outputId": "64b3d70c-e316-49de-a4eb-e66578f97f5a"
      },
      "source": [
        "sample = pd.read_csv(\"SampleSubmission.csv\")\n",
        "sample.head()"
      ],
      "execution_count": 0,
      "outputs": [
        {
          "output_type": "execute_result",
          "data": {
            "text/html": [
              "<div>\n",
              "<style scoped>\n",
              "    .dataframe tbody tr th:only-of-type {\n",
              "        vertical-align: middle;\n",
              "    }\n",
              "\n",
              "    .dataframe tbody tr th {\n",
              "        vertical-align: top;\n",
              "    }\n",
              "\n",
              "    .dataframe thead th {\n",
              "        text-align: right;\n",
              "    }\n",
              "</style>\n",
              "<table border=\"1\" class=\"dataframe\">\n",
              "  <thead>\n",
              "    <tr style=\"text-align: right;\">\n",
              "      <th></th>\n",
              "      <th>Order_No</th>\n",
              "      <th>Time from Pickup to Arrival</th>\n",
              "    </tr>\n",
              "  </thead>\n",
              "  <tbody>\n",
              "    <tr>\n",
              "      <td>0</td>\n",
              "      <td>Order_No_19248</td>\n",
              "      <td>567.0</td>\n",
              "    </tr>\n",
              "    <tr>\n",
              "      <td>1</td>\n",
              "      <td>Order_No_12736</td>\n",
              "      <td>4903.0</td>\n",
              "    </tr>\n",
              "    <tr>\n",
              "      <td>2</td>\n",
              "      <td>Order_No_768</td>\n",
              "      <td>5649.0</td>\n",
              "    </tr>\n",
              "    <tr>\n",
              "      <td>3</td>\n",
              "      <td>Order_No_15332</td>\n",
              "      <td>NaN</td>\n",
              "    </tr>\n",
              "    <tr>\n",
              "      <td>4</td>\n",
              "      <td>Order_No_21373</td>\n",
              "      <td>NaN</td>\n",
              "    </tr>\n",
              "  </tbody>\n",
              "</table>\n",
              "</div>"
            ],
            "text/plain": [
              "         Order_No  Time from Pickup to Arrival\n",
              "0  Order_No_19248                        567.0\n",
              "1  Order_No_12736                       4903.0\n",
              "2    Order_No_768                       5649.0\n",
              "3  Order_No_15332                          NaN\n",
              "4  Order_No_21373                          NaN"
            ]
          },
          "metadata": {
            "tags": []
          },
          "execution_count": 57
        }
      ]
    },
    {
      "cell_type": "code",
      "metadata": {
        "id": "TPWsNiQsgMiZ",
        "colab_type": "code",
        "colab": {},
        "outputId": "96c9d4c1-e802-4623-f1e7-d0e22611165f"
      },
      "source": [
        "data.columns"
      ],
      "execution_count": 0,
      "outputs": [
        {
          "output_type": "execute_result",
          "data": {
            "text/plain": [
              "Index(['Arrival at Pickup - Day of Month',\n",
              "       'Arrival at Pickup - Weekday (Mo = 1)', 'Confirmation - Day of Month',\n",
              "       'Confirmation - Weekday (Mo = 1)', 'Latitude', 'Longitude',\n",
              "       'Distance (KM)', 'Pickup - Day of Month', 'Pickup - Weekday (Mo = 1)',\n",
              "       'latitude2', 'longitude', 'Placement - Day of Month',\n",
              "       'Placement - Weekday (Mo = 1)', 'Platform Type',\n",
              "       'Time from Pickup to Arrival', 'check_trip_duration12', 'No_Of_Orders',\n",
              "       'Age', 'Average_Rating', 'No_of_Ratings', 'rhour', 'sec', 'min',\n",
              "       'chour', 'cmin', 'csec', 'Personal or Business_Business',\n",
              "       'Personal or Business_Personal'],\n",
              "      dtype='object')"
            ]
          },
          "metadata": {
            "tags": []
          },
          "execution_count": 58
        }
      ]
    },
    {
      "cell_type": "code",
      "metadata": {
        "id": "z8po3SYmgMia",
        "colab_type": "code",
        "colab": {}
      },
      "source": [
        "from sklearn.model_selection import train_test_split\n",
        "from sklearn.metrics import mean_squared_error\n",
        "from sklearn.linear_model import LinearRegression\n",
        "import math"
      ],
      "execution_count": 0,
      "outputs": []
    },
    {
      "cell_type": "code",
      "metadata": {
        "id": "CQGalOtHgMic",
        "colab_type": "code",
        "colab": {}
      },
      "source": [
        "\n",
        "X= data.drop( 'Time from Pickup to Arrival', axis = 1)\n",
        "y = data[\"Time from Pickup to Arrival\"]\n"
      ],
      "execution_count": 0,
      "outputs": []
    },
    {
      "cell_type": "code",
      "metadata": {
        "id": "9O9MDc8CgMie",
        "colab_type": "code",
        "colab": {}
      },
      "source": [
        "X_train, X_test, y_train, y_test = train_test_split(X, y, test_size=0.3, random_state=42)"
      ],
      "execution_count": 0,
      "outputs": []
    },
    {
      "cell_type": "code",
      "metadata": {
        "id": "XKnntx0bgMig",
        "colab_type": "code",
        "colab": {},
        "outputId": "accedf7e-8150-468d-d0a0-ade771549e37"
      },
      "source": [
        "lm = LinearRegression()\n",
        "lm.fit(X_train, y_train)"
      ],
      "execution_count": 0,
      "outputs": [
        {
          "output_type": "execute_result",
          "data": {
            "text/plain": [
              "LinearRegression(copy_X=True, fit_intercept=True, n_jobs=None, normalize=False)"
            ]
          },
          "metadata": {
            "tags": []
          },
          "execution_count": 62
        }
      ]
    },
    {
      "cell_type": "code",
      "metadata": {
        "id": "RcqrstuHgMih",
        "colab_type": "code",
        "colab": {},
        "outputId": "c04ab83e-0e65-419b-c3e9-76c3caaf1009"
      },
      "source": [
        "###predicting on train set - rmse of train\n",
        "math.sqrt(mean_squared_error(y_train, lm.predict(X_train)))"
      ],
      "execution_count": 0,
      "outputs": [
        {
          "output_type": "execute_result",
          "data": {
            "text/plain": [
              "783.8869417436679"
            ]
          },
          "metadata": {
            "tags": []
          },
          "execution_count": 63
        }
      ]
    },
    {
      "cell_type": "code",
      "metadata": {
        "id": "TjUyL-KcgMii",
        "colab_type": "code",
        "colab": {},
        "outputId": "ca101da3-7a1b-497e-f2fe-795202ec79bb"
      },
      "source": [
        "#predicting on test set - rmse of test\n",
        "math.sqrt(mean_squared_error(y_test, lm.predict(X_test)))"
      ],
      "execution_count": 0,
      "outputs": [
        {
          "output_type": "execute_result",
          "data": {
            "text/plain": [
              "796.3259218099739"
            ]
          },
          "metadata": {
            "tags": []
          },
          "execution_count": 64
        }
      ]
    },
    {
      "cell_type": "markdown",
      "metadata": {
        "id": "4GwtLEBLgMij",
        "colab_type": "text"
      },
      "source": [
        "### submission on zindi"
      ]
    },
    {
      "cell_type": "code",
      "metadata": {
        "id": "9IXS_ChcgMik",
        "colab_type": "code",
        "colab": {},
        "outputId": "55a837b6-0c43-4398-c867-87729ba8dd74"
      },
      "source": [
        "lm.predict(test)\n"
      ],
      "execution_count": 0,
      "outputs": [
        {
          "output_type": "execute_result",
          "data": {
            "text/plain": [
              "array([1382.16898503, 1192.58484732, 1068.35240271, ..., 1714.86528586,\n",
              "       2758.89093608, 1524.57035906])"
            ]
          },
          "metadata": {
            "tags": []
          },
          "execution_count": 65
        }
      ]
    },
    {
      "cell_type": "code",
      "metadata": {
        "id": "UW0FJ7svgMil",
        "colab_type": "code",
        "colab": {},
        "outputId": "37917d8c-6c71-474b-bb6c-b88cfb0f3078"
      },
      "source": [
        "sample.columns"
      ],
      "execution_count": 0,
      "outputs": [
        {
          "output_type": "execute_result",
          "data": {
            "text/plain": [
              "Index(['Order_No', 'Time from Pickup to Arrival'], dtype='object')"
            ]
          },
          "metadata": {
            "tags": []
          },
          "execution_count": 66
        }
      ]
    },
    {
      "cell_type": "code",
      "metadata": {
        "id": "rVx_PXk4gMim",
        "colab_type": "code",
        "colab": {}
      },
      "source": [
        "pred = pd.DataFrame(lm.predict(test),columns= ['Time from Pickup to Arrival' ])"
      ],
      "execution_count": 0,
      "outputs": []
    },
    {
      "cell_type": "code",
      "metadata": {
        "id": "PZ5P2vA3gMin",
        "colab_type": "code",
        "colab": {}
      },
      "source": [
        "pred = pd.concat([sample['Order_No'], pred], axis =1)"
      ],
      "execution_count": 0,
      "outputs": []
    },
    {
      "cell_type": "code",
      "metadata": {
        "id": "FuzK1-B0gMip",
        "colab_type": "code",
        "colab": {},
        "outputId": "eed3b195-d29d-451d-89f3-876d32d7b700"
      },
      "source": [
        "pred.head()\n"
      ],
      "execution_count": 0,
      "outputs": [
        {
          "output_type": "execute_result",
          "data": {
            "text/html": [
              "<div>\n",
              "<style scoped>\n",
              "    .dataframe tbody tr th:only-of-type {\n",
              "        vertical-align: middle;\n",
              "    }\n",
              "\n",
              "    .dataframe tbody tr th {\n",
              "        vertical-align: top;\n",
              "    }\n",
              "\n",
              "    .dataframe thead th {\n",
              "        text-align: right;\n",
              "    }\n",
              "</style>\n",
              "<table border=\"1\" class=\"dataframe\">\n",
              "  <thead>\n",
              "    <tr style=\"text-align: right;\">\n",
              "      <th></th>\n",
              "      <th>Order_No</th>\n",
              "      <th>Time from Pickup to Arrival</th>\n",
              "    </tr>\n",
              "  </thead>\n",
              "  <tbody>\n",
              "    <tr>\n",
              "      <td>0</td>\n",
              "      <td>Order_No_19248</td>\n",
              "      <td>1382.168985</td>\n",
              "    </tr>\n",
              "    <tr>\n",
              "      <td>1</td>\n",
              "      <td>Order_No_12736</td>\n",
              "      <td>1192.584847</td>\n",
              "    </tr>\n",
              "    <tr>\n",
              "      <td>2</td>\n",
              "      <td>Order_No_768</td>\n",
              "      <td>1068.352403</td>\n",
              "    </tr>\n",
              "    <tr>\n",
              "      <td>3</td>\n",
              "      <td>Order_No_15332</td>\n",
              "      <td>1078.113662</td>\n",
              "    </tr>\n",
              "    <tr>\n",
              "      <td>4</td>\n",
              "      <td>Order_No_21373</td>\n",
              "      <td>1046.893384</td>\n",
              "    </tr>\n",
              "  </tbody>\n",
              "</table>\n",
              "</div>"
            ],
            "text/plain": [
              "         Order_No  Time from Pickup to Arrival\n",
              "0  Order_No_19248                  1382.168985\n",
              "1  Order_No_12736                  1192.584847\n",
              "2    Order_No_768                  1068.352403\n",
              "3  Order_No_15332                  1078.113662\n",
              "4  Order_No_21373                  1046.893384"
            ]
          },
          "metadata": {
            "tags": []
          },
          "execution_count": 69
        }
      ]
    },
    {
      "cell_type": "code",
      "metadata": {
        "id": "H42DPEoYgMiq",
        "colab_type": "code",
        "colab": {}
      },
      "source": [
        "pred  = pred.round()"
      ],
      "execution_count": 0,
      "outputs": []
    },
    {
      "cell_type": "code",
      "metadata": {
        "id": "GkS-4kuGgMir",
        "colab_type": "code",
        "colab": {},
        "outputId": "ed9b76a5-013c-4534-9649-3078d561d6df"
      },
      "source": [
        "pred.head()"
      ],
      "execution_count": 0,
      "outputs": [
        {
          "output_type": "execute_result",
          "data": {
            "text/html": [
              "<div>\n",
              "<style scoped>\n",
              "    .dataframe tbody tr th:only-of-type {\n",
              "        vertical-align: middle;\n",
              "    }\n",
              "\n",
              "    .dataframe tbody tr th {\n",
              "        vertical-align: top;\n",
              "    }\n",
              "\n",
              "    .dataframe thead th {\n",
              "        text-align: right;\n",
              "    }\n",
              "</style>\n",
              "<table border=\"1\" class=\"dataframe\">\n",
              "  <thead>\n",
              "    <tr style=\"text-align: right;\">\n",
              "      <th></th>\n",
              "      <th>Order_No</th>\n",
              "      <th>Time from Pickup to Arrival</th>\n",
              "    </tr>\n",
              "  </thead>\n",
              "  <tbody>\n",
              "    <tr>\n",
              "      <td>0</td>\n",
              "      <td>Order_No_19248</td>\n",
              "      <td>1382.0</td>\n",
              "    </tr>\n",
              "    <tr>\n",
              "      <td>1</td>\n",
              "      <td>Order_No_12736</td>\n",
              "      <td>1193.0</td>\n",
              "    </tr>\n",
              "    <tr>\n",
              "      <td>2</td>\n",
              "      <td>Order_No_768</td>\n",
              "      <td>1068.0</td>\n",
              "    </tr>\n",
              "    <tr>\n",
              "      <td>3</td>\n",
              "      <td>Order_No_15332</td>\n",
              "      <td>1078.0</td>\n",
              "    </tr>\n",
              "    <tr>\n",
              "      <td>4</td>\n",
              "      <td>Order_No_21373</td>\n",
              "      <td>1047.0</td>\n",
              "    </tr>\n",
              "  </tbody>\n",
              "</table>\n",
              "</div>"
            ],
            "text/plain": [
              "         Order_No  Time from Pickup to Arrival\n",
              "0  Order_No_19248                       1382.0\n",
              "1  Order_No_12736                       1193.0\n",
              "2    Order_No_768                       1068.0\n",
              "3  Order_No_15332                       1078.0\n",
              "4  Order_No_21373                       1047.0"
            ]
          },
          "metadata": {
            "tags": []
          },
          "execution_count": 71
        }
      ]
    },
    {
      "cell_type": "code",
      "metadata": {
        "id": "cQC4GzUxgMis",
        "colab_type": "code",
        "colab": {}
      },
      "source": [
        "pred.to_csv(\"submission.csv\", index = False)"
      ],
      "execution_count": 0,
      "outputs": []
    },
    {
      "cell_type": "code",
      "metadata": {
        "id": "TSMOBiJWgMit",
        "colab_type": "code",
        "colab": {}
      },
      "source": [
        ""
      ],
      "execution_count": 0,
      "outputs": []
    }
  ]
}